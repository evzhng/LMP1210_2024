{
 "cells": [
  {
   "cell_type": "code",
   "execution_count": 6,
   "metadata": {},
   "outputs": [],
   "source": [
    "# pip install -U openai scipy plotly-express scikit-learn umap-learn\n",
    "# pip install numpy == 1.23.0 # umap requires an older version of numpy"
   ]
  },
  {
   "cell_type": "code",
   "execution_count": 61,
   "metadata": {},
   "outputs": [],
   "source": [
    "import os\n",
    "import pandas as pd\n",
    "import numpy as np\n",
    "from openai import OpenAI\n",
    "from sklearn.cluster import KMeans\n",
    "from scipy.spatial import distance\n",
    "import plotly.express as px\n",
    "import umap.umap_ as umap\n",
    "from sklearn.preprocessing import LabelEncoder\n",
    "from sklearn.model_selection import train_test_split\n",
    "from sklearn.metrics import accuracy_score\n",
    "from sklearn.linear_model import LogisticRegression\n",
    "from sklearn.model_selection import GridSearchCV"
   ]
  },
  {
   "cell_type": "code",
   "execution_count": 79,
   "metadata": {},
   "outputs": [
    {
     "name": "stdout",
     "output_type": "stream",
     "text": [
      "    Response\n",
      "0          0\n",
      "1          0\n",
      "2          0\n",
      "3          0\n",
      "4          0\n",
      "5          0\n",
      "6          0\n",
      "7          0\n",
      "8          0\n",
      "9          0\n",
      "10         0\n",
      "11         1\n",
      "12         1\n",
      "13         1\n",
      "14         1\n",
      "15         1\n",
      "16         1\n",
      "17         1\n",
      "18         0\n",
      "19         0\n",
      "20         0\n",
      "21         1\n",
      "22         0\n",
      "23         0\n",
      "24         1\n",
      "25         1\n",
      "26         1\n",
      "27         1\n",
      "28         1\n",
      "29         1\n",
      "30         1\n",
      "31         1\n",
      "    Unnamed: 0    S100A7  HLA-DQA1    MAGEA3    S100A8     DMBT1    MAGEC2  \\\n",
      "0            0  0.289860  0.634494 -0.001243 -0.360320 -0.906716  1.843763   \n",
      "1            1 -0.774348  0.772281 -1.493807 -0.912727 -0.893726 -1.423186   \n",
      "2            2  1.429504 -1.002635  1.240063  1.551765  0.719683  0.780976   \n",
      "3            3 -0.897511 -0.774126  1.457942 -0.397389 -0.864712 -0.408723   \n",
      "4            4 -0.624348 -1.162335 -1.204793 -0.531867  1.530381 -1.000433   \n",
      "5            5 -0.921433 -1.039624 -1.433164 -1.270253 -0.558488 -1.050044   \n",
      "6            6 -0.452806  0.769971 -0.860128 -0.686871 -0.087778 -0.537243   \n",
      "7            7 -0.836445 -0.895176  0.495924 -0.616370  1.015131 -0.802657   \n",
      "8            8 -0.749924 -1.070118 -0.993355 -1.012218 -0.508742 -0.669452   \n",
      "9            9  1.570678 -0.922194  0.995347  1.475394 -0.290702  0.739475   \n",
      "10          10  1.270439  0.331170 -1.626326  1.075268 -0.650185 -1.176613   \n",
      "11          11 -0.748457  1.066263  1.071728 -0.190292  1.952866 -0.768579   \n",
      "12          12  1.573569  0.979564  0.670856  1.728303 -0.091651  0.628569   \n",
      "13          13 -0.607220 -0.723836 -0.086446 -0.277733 -0.287399 -0.538761   \n",
      "14          14 -0.778762  1.151175  0.829545 -0.239805 -0.491669  1.373391   \n",
      "15          15  0.965837  1.523410  0.058366  1.148159 -0.418999 -0.772262   \n",
      "16          16 -0.579208 -0.788265 -1.158289 -0.303194 -0.296265 -0.709192   \n",
      "17          17 -0.942062  1.102652  1.134030 -1.119343 -0.893041  1.433711   \n",
      "18          18 -0.837803 -0.758724  0.579618 -0.275830  3.285905  0.595022   \n",
      "19          19 -0.244539 -1.261360  1.358763 -1.171233  0.660419  1.466139   \n",
      "20          20 -0.691178  1.155027 -0.605711 -0.459651 -0.793373 -1.071841   \n",
      "21          21  1.631075 -0.646638 -0.768393  1.528717  0.134382  0.088440   \n",
      "22          22  0.900984  0.994101  0.839548  0.491192 -0.383873  1.156458   \n",
      "23          23  1.801006 -1.001056 -0.990585  1.821290 -0.315659 -0.518217   \n",
      "24          24 -0.746907  1.565980  0.490511 -0.994990 -0.565788  1.341260   \n",
      "25          25  0.556691  0.154886 -0.055980  0.740252 -0.144732  0.661313   \n",
      "26          26 -0.424742 -0.557155 -1.036654 -0.158095 -0.308535 -0.715497   \n",
      "27          27 -0.686000  0.137261  0.334222 -0.260314 -0.381210  0.339393   \n",
      "28          28 -0.757537  1.427556  0.603650 -0.742978 -0.541054  1.351982   \n",
      "29          29  1.486744  1.057262  0.583352  1.645419 -0.138418  0.428437   \n",
      "30          30  1.398833  0.110951 -0.479762  1.395860 -0.058810 -0.212041   \n",
      "31          31  1.495132 -0.545221 -0.678251  1.428952  0.099066  0.160926   \n",
      "\n",
      "    HLA-DQB1        C7    SPINK5  ...     CCL24     CXCL5   SLC11A1      TCF7  \\\n",
      "0   0.071937 -1.210434  0.304557  ... -0.629881 -0.814525 -1.956153 -1.544347   \n",
      "1   0.460190  0.334264 -1.396342  ... -0.235831 -1.052227  0.017683 -0.056391   \n",
      "2  -1.366173  0.213510  1.336247  ...  1.176262  0.549301 -0.740454 -1.522091   \n",
      "3  -1.240249 -0.747247  0.589316  ... -0.302769 -0.487374 -0.291417 -0.675494   \n",
      "4  -1.229194  1.694271 -0.675513  ... -0.589504 -0.055470  1.021728  0.679726   \n",
      "5  -1.135009 -0.857843 -1.049091  ... -1.007053 -0.486986 -0.349807 -1.070690   \n",
      "6   0.805753 -0.089283 -0.915355  ...  1.046163 -1.237069 -1.264234  0.793300   \n",
      "7  -0.503793  0.973973 -0.744563  ... -1.380979  0.207969  1.368341  0.054970   \n",
      "8  -0.886768  0.449040 -0.960595  ... -0.007340 -0.823708 -0.448396 -0.385182   \n",
      "9  -0.837558 -0.905692  1.391260  ...  0.270567 -1.467835 -0.054163  1.264836   \n",
      "10 -0.090350 -1.658939  1.047998  ...  0.268284  0.423922 -1.017277 -0.137042   \n",
      "11  0.840502  1.043727 -0.479591  ... -0.112828  0.537784  1.170185 -0.161514   \n",
      "12  1.486179 -1.184485  1.380552  ...  0.442876  1.180430  0.465547 -0.638938   \n",
      "13 -0.505986  0.657143 -0.554624  ...  0.947310  0.500637  0.529894  1.470713   \n",
      "14  1.203291  0.050415 -1.264242  ...  0.260805  1.067462  0.716866  0.460668   \n",
      "15  1.956574 -0.835142  0.580741  ... -0.806667 -0.042054  0.829865  0.528063   \n",
      "16 -0.606196  2.161958 -0.899288  ... -0.479000 -0.925847  1.576733 -0.518836   \n",
      "17  0.640182 -0.705146 -0.147028  ... -1.069629 -1.097687  0.254345 -0.216587   \n",
      "18 -0.842429  1.281331 -0.175923  ...  2.229907 -0.219365  0.502383  0.092515   \n",
      "19 -0.925301  0.179105  0.358109  ... -0.507494 -1.183416 -1.757367 -2.127118   \n",
      "20  0.933015  0.794101 -1.120929  ...  2.000013  1.622293 -0.970839  1.900894   \n",
      "21 -0.554769 -1.429203  1.448138  ... -0.438430  2.011504  0.987299 -0.183598   \n",
      "22  0.750177 -0.254893  1.311638  ... -2.169981 -0.128630  0.924867 -0.069194   \n",
      "23 -0.309015 -0.775231  1.596892  ... -0.015650  2.130677  0.186115  0.001854   \n",
      "24  1.884986  0.820702 -0.962363  ...  1.110851 -0.209788 -1.701745  2.059483   \n",
      "25  0.229032 -0.769541  0.238870  ... -0.126688  1.590619  0.866731  0.103637   \n",
      "26 -0.349983  1.862323 -0.751322  ... -0.511758 -0.837490  1.502065 -0.414173   \n",
      "27  0.278997  0.378504 -0.880515  ...  0.632033  0.760951  0.615761  1.006851   \n",
      "28  1.657498  0.563650 -1.063103  ...  0.827183  0.216442 -0.894633  1.525945   \n",
      "29  1.553383 -1.134576  1.266285  ...  0.264358  1.005778  0.517596 -0.472212   \n",
      "30  0.321970 -1.221809  1.145320  ... -0.566986  1.294583  0.932337  0.064851   \n",
      "31 -0.455594 -1.345736  1.295128  ... -0.398985  1.958249  0.972043 -0.147254   \n",
      "\n",
      "      MAGEA1    MAGEA4       LTK      IL1A    FCER1A      CD38  \n",
      "0  -1.135397 -1.445323 -1.426357 -1.056125  0.252789 -1.666192  \n",
      "1  -1.580097 -0.503652  0.676311 -1.004806 -0.466651 -1.018323  \n",
      "2   0.295288 -0.763573  0.772144  0.251036 -0.241885 -0.807417  \n",
      "3   0.748985  1.163091 -1.267621 -0.363033 -1.979867  1.331931  \n",
      "4  -0.554542  0.152234  0.181480 -0.720507  0.178905  1.578984  \n",
      "5  -1.251335 -0.547686 -1.455021 -1.109401 -0.831175  0.169792  \n",
      "6  -0.551831 -0.859137  0.353599 -0.607999 -1.119505 -0.317755  \n",
      "7  -0.246200  0.535845  0.768168 -0.029986 -0.302540  0.811691  \n",
      "8  -0.163368 -1.374304  0.251098 -0.652054 -1.639874  0.180523  \n",
      "9  -0.073965  0.063553  0.126962  0.522513  1.524140  0.159181  \n",
      "10 -0.823994 -0.758250  1.369848 -0.883990  0.255940 -0.865370  \n",
      "11  0.395509 -0.715663  0.839617 -0.106257 -0.044654 -0.087071  \n",
      "12 -0.318103  0.015462  0.931507  0.995454  0.770835 -1.105076  \n",
      "13  0.287337  0.152092  0.696791 -0.158461 -0.600619  1.600549  \n",
      "14 -0.178014 -0.232629  0.600056  3.826474  1.558707 -0.116232  \n",
      "15 -0.676686 -0.138754 -0.628177  0.235890  1.145348  1.335002  \n",
      "16 -0.469008 -0.543963 -1.103180  0.052853 -0.702910  0.427373  \n",
      "17  2.832059  3.497244 -2.388711 -1.003484 -1.864572 -0.469858  \n",
      "18  1.865591 -0.245723  1.009476 -0.132383  0.357401  1.102619  \n",
      "19  0.335487 -0.164980 -0.945801 -0.104135  0.166784 -0.686478  \n",
      "20 -0.599630 -0.140682 -0.018303 -0.374783  0.096730  0.881254  \n",
      "21 -0.737301  0.056632  1.151658  1.209086  0.939320 -0.639419  \n",
      "22  1.215854  1.638269  1.106658  0.105956  0.774944 -1.461319  \n",
      "23 -0.206871  0.190879 -0.800247  0.765578  1.810072 -1.514066  \n",
      "24  1.590231  0.969019 -0.801955  0.342564 -0.037663  1.175677  \n",
      "25 -0.487953 -0.072330  0.905736  2.376003  1.215463 -0.406165  \n",
      "26 -0.489771 -0.503452 -1.055692  0.071152 -0.518131  0.518113  \n",
      "27  0.073625 -0.024591  0.652366  1.671616  0.391049  0.812119  \n",
      "28  1.000152  0.568019 -0.334092  1.505175  0.495059  0.744556  \n",
      "29 -0.369332 -0.006570  0.708680  0.886937  0.824340 -0.756470  \n",
      "30 -0.716140 -0.011579  0.530297  0.869332  1.011247  0.049874  \n",
      "31 -0.705751  0.040315  1.120541  1.356737  0.974261 -0.609906  \n",
      "\n",
      "[32 rows x 101 columns]\n"
     ]
    }
   ],
   "source": [
    "'''\n",
    "Performs AI embedding on data\n",
    "'''\n",
    "\n",
    "# load data\n",
    "\n",
    "data = pd.read_csv('../data/GSE910_smote_data.csv')\n",
    "\n",
    "labels = pd.DataFrame(data['Response'])\n",
    "labels = labels.rename(columns={labels.columns[0]: 'Response'})\n",
    "print(labels)\n",
    "\n",
    "data = data.drop(columns = ['Response'])\n",
    "print(data)\n"
   ]
  },
  {
   "cell_type": "code",
   "execution_count": 5,
   "metadata": {},
   "outputs": [],
   "source": [
    "# openAI API key\n",
    "\n",
    "client = OpenAI(\n",
    "  api_key='',  \n",
    ")\n"
   ]
  },
  {
   "cell_type": "code",
   "execution_count": 71,
   "metadata": {},
   "outputs": [],
   "source": [
    "# embedding transcriptomic data\n",
    "\n",
    "def get_embedding(df):\n",
    "\n",
    "\t# model\n",
    "\t\n",
    "\tresponse = client.embeddings.create(\n",
    "    \tmodel= 'text-embedding-ada-002',\n",
    "    \tinput=[df]\n",
    "\t)\n",
    "\t# Get embedded data\n",
    "\t\n",
    "\tembedding = response.data[0].embedding\n",
    "    \n",
    "\treturn embedding"
   ]
  },
  {
   "cell_type": "code",
   "execution_count": 80,
   "metadata": {},
   "outputs": [
    {
     "name": "stdout",
     "output_type": "stream",
     "text": [
      "(32, 100)\n",
      "0     0.28985955262628305 0.6344944293624388 -0.0012...\n",
      "1     -0.7743479953826805 0.7722814544436405 -1.4938...\n",
      "2     1.4295035157971616 -1.0026351623438754 1.24006...\n",
      "3     -0.8975110432535529 -0.7741258645722956 1.4579...\n",
      "4     -0.6243476721738939 -1.1623352751155436 -1.204...\n",
      "5     -0.9214327243331752 -1.039623590685269 -1.4331...\n",
      "6     -0.4528063163076792 0.7699709819397569 -0.8601...\n",
      "7     -0.8364445937238594 -0.8951763280139385 0.4959...\n",
      "8     -0.7499238028248473 -1.07011779652627 -0.99335...\n",
      "9     1.5706779576668246 -0.9221937135932072 0.99534...\n",
      "10    1.2704387407910072 0.33116956650678997 -1.6263...\n",
      "11    -0.7484567903552781 1.0662627218806249 1.07172...\n",
      "12    1.5735691116652235 0.9795642167928036 0.670856...\n",
      "13    -0.6072201226017688 -0.7238362274417525 -0.086...\n",
      "14    -0.7787617991899041 1.1511750667009752 0.82954...\n",
      "15    0.9658367415507008 1.5234101847023058 0.058365...\n",
      "16    -0.5792079416549456 -0.7882646801834792 -1.158...\n",
      "17    -0.9420623159005226 1.1026516704462104 1.13402...\n",
      "18    -0.8378034783384353 -0.7587244184789145 0.5796...\n",
      "19    -0.2445386031012269 -1.2613596637726856 1.3587...\n",
      "20    -0.6911782757983919 1.1550267005508494 -0.6057...\n",
      "21    1.6310748976887541 -0.6466383847800944 -0.7683...\n",
      "22    0.9009835620462721 0.9941005595665704 0.839547...\n",
      "23    1.8010063748812182 -1.0010562849037288 -0.9905...\n",
      "24    -0.7469069797732851 1.5659798375180929 0.49051...\n",
      "25    0.5566907691917367 0.15488573541092698 -0.0559...\n",
      "26    -0.42474222951640817 -0.5571551801679295 -1.03...\n",
      "27    -0.6860004475008371 0.13726063181678186 0.3342...\n",
      "28    -0.7575372073188894 1.4275559135548723 0.60364...\n",
      "29    1.4867443217988026 1.057261759667712 0.5833518...\n",
      "30    1.3988325891467088 0.11095058508706357 -0.4797...\n",
      "31    1.4951322044203772 -0.5452208891858862 -0.6782...\n",
      "Name: concatenated, dtype: object\n"
     ]
    }
   ],
   "source": [
    "# drop first column of sample IDs\n",
    "\n",
    "embedded_data = data.drop(data.columns[0], axis = 1)\n",
    "\n",
    "# testing: drop columns\n",
    "\n",
    "keep_thresh = 100\n",
    "embedded_data = embedded_data.iloc[:, :keep_thresh]\n",
    "print(embedded_data.shape)\n",
    "\n",
    "# change numeric to str and concatenate everything by row (sentence-like input structure required)\n",
    "\n",
    "embedded_data['concatenated'] = embedded_data.astype(str).apply(lambda row: ' '.join(row), axis = 1)\n",
    "print(embedded_data['concatenated'])\n",
    "\n",
    "# apply embeddings\n",
    "\n",
    "embedded_data['embedding'] = embedded_data['concatenated'].apply(get_embedding)\n",
    "\n"
   ]
  },
  {
   "cell_type": "code",
   "execution_count": 81,
   "metadata": {},
   "outputs": [],
   "source": [
    "# run kmeans based on embeddings \n",
    "\n",
    "# 2 clusters for responder, non-responder\n",
    "\n",
    "kmeans = KMeans(n_clusters = 2, n_init = 'auto')\n",
    "model = kmeans.fit(embedded_data['embedding'].tolist())"
   ]
  },
  {
   "cell_type": "code",
   "execution_count": 82,
   "metadata": {},
   "outputs": [
    {
     "data": {
      "application/vnd.plotly.v1+json": {
       "config": {
        "plotlyServerURL": "https://plot.ly"
       },
       "data": [
        {
         "hovertemplate": "color=0<br>symbol=0<br>x=%{x}<br>y=%{y}<extra></extra>",
         "legendgroup": "0, 0",
         "marker": {
          "color": "orange",
          "symbol": "circle"
         },
         "mode": "markers",
         "name": "0, 0",
         "orientation": "v",
         "showlegend": true,
         "type": "scatter",
         "x": [
          12.927605628967285,
          11.287496566772461,
          11.688471794128418,
          11.839987754821777,
          12.53304672241211,
          11.201972961425781
         ],
         "xaxis": "x",
         "y": [
          -10.5172700881958,
          -10.08698558807373,
          -10.71310043334961,
          -9.579977035522461,
          -11.392610549926758,
          -9.697400093078613
         ],
         "yaxis": "y"
        },
        {
         "hovertemplate": "color=0<br>symbol=1<br>x=%{x}<br>y=%{y}<extra></extra>",
         "legendgroup": "0, 1",
         "marker": {
          "color": "orange",
          "symbol": "diamond"
         },
         "mode": "markers",
         "name": "0, 1",
         "orientation": "v",
         "showlegend": true,
         "type": "scatter",
         "x": [
          12.66220760345459,
          12.334992408752441,
          11.847126960754395,
          12.990318298339844,
          12.036604881286621,
          12.394207954406738,
          11.890435218811035
         ],
         "xaxis": "x",
         "y": [
          -11.054556846618652,
          -11.612029075622559,
          -10.042559623718262,
          -10.130915641784668,
          -11.171881675720215,
          -10.413804054260254,
          -10.518064498901367
         ],
         "yaxis": "y"
        },
        {
         "hovertemplate": "color=1<br>symbol=0<br>x=%{x}<br>y=%{y}<extra></extra>",
         "legendgroup": "1, 0",
         "marker": {
          "color": "blue",
          "symbol": "circle"
         },
         "mode": "markers",
         "name": "1, 0",
         "orientation": "v",
         "showlegend": true,
         "type": "scatter",
         "x": [
          14.593634605407715,
          14.029653549194336,
          15.331835746765137,
          14.674795150756836,
          14.53542709350586,
          14.068943977355957,
          14.839210510253906,
          13.686485290527344,
          15.005365371704102,
          14.69104290008545
         ],
         "xaxis": "x",
         "y": [
          -7.422353267669678,
          -6.957300186157227,
          -6.588577747344971,
          -6.6506028175354,
          -8.035932540893555,
          -7.55034065246582,
          -6.3510308265686035,
          -7.455389976501465,
          -8.519209861755371,
          -9.198461532592773
         ],
         "yaxis": "y"
        },
        {
         "hovertemplate": "color=1<br>symbol=1<br>x=%{x}<br>y=%{y}<extra></extra>",
         "legendgroup": "1, 1",
         "marker": {
          "color": "blue",
          "symbol": "diamond"
         },
         "mode": "markers",
         "name": "1, 1",
         "orientation": "v",
         "showlegend": true,
         "type": "scatter",
         "x": [
          13.922076225280762,
          15.062446594238281,
          14.215063095092773,
          15.504278182983398,
          14.134642601013184,
          13.486139297485352,
          15.284520149230957,
          14.135180473327637,
          13.417973518371582
         ],
         "xaxis": "x",
         "y": [
          -8.79712200164795,
          -7.086413860321045,
          -8.663437843322754,
          -7.040483474731445,
          -9.229246139526367,
          -8.84247875213623,
          -6.259876728057861,
          -7.956275463104248,
          -8.396541595458984
         ],
         "yaxis": "y"
        }
       ],
       "layout": {
        "legend": {
         "title": {
          "text": "color, symbol"
         },
         "tracegroupgap": 0
        },
        "margin": {
         "t": 60
        },
        "template": {
         "data": {
          "bar": [
           {
            "error_x": {
             "color": "#2a3f5f"
            },
            "error_y": {
             "color": "#2a3f5f"
            },
            "marker": {
             "line": {
              "color": "#E5ECF6",
              "width": 0.5
             },
             "pattern": {
              "fillmode": "overlay",
              "size": 10,
              "solidity": 0.2
             }
            },
            "type": "bar"
           }
          ],
          "barpolar": [
           {
            "marker": {
             "line": {
              "color": "#E5ECF6",
              "width": 0.5
             },
             "pattern": {
              "fillmode": "overlay",
              "size": 10,
              "solidity": 0.2
             }
            },
            "type": "barpolar"
           }
          ],
          "carpet": [
           {
            "aaxis": {
             "endlinecolor": "#2a3f5f",
             "gridcolor": "white",
             "linecolor": "white",
             "minorgridcolor": "white",
             "startlinecolor": "#2a3f5f"
            },
            "baxis": {
             "endlinecolor": "#2a3f5f",
             "gridcolor": "white",
             "linecolor": "white",
             "minorgridcolor": "white",
             "startlinecolor": "#2a3f5f"
            },
            "type": "carpet"
           }
          ],
          "choropleth": [
           {
            "colorbar": {
             "outlinewidth": 0,
             "ticks": ""
            },
            "type": "choropleth"
           }
          ],
          "contour": [
           {
            "colorbar": {
             "outlinewidth": 0,
             "ticks": ""
            },
            "colorscale": [
             [
              0,
              "#0d0887"
             ],
             [
              0.1111111111111111,
              "#46039f"
             ],
             [
              0.2222222222222222,
              "#7201a8"
             ],
             [
              0.3333333333333333,
              "#9c179e"
             ],
             [
              0.4444444444444444,
              "#bd3786"
             ],
             [
              0.5555555555555556,
              "#d8576b"
             ],
             [
              0.6666666666666666,
              "#ed7953"
             ],
             [
              0.7777777777777778,
              "#fb9f3a"
             ],
             [
              0.8888888888888888,
              "#fdca26"
             ],
             [
              1,
              "#f0f921"
             ]
            ],
            "type": "contour"
           }
          ],
          "contourcarpet": [
           {
            "colorbar": {
             "outlinewidth": 0,
             "ticks": ""
            },
            "type": "contourcarpet"
           }
          ],
          "heatmap": [
           {
            "colorbar": {
             "outlinewidth": 0,
             "ticks": ""
            },
            "colorscale": [
             [
              0,
              "#0d0887"
             ],
             [
              0.1111111111111111,
              "#46039f"
             ],
             [
              0.2222222222222222,
              "#7201a8"
             ],
             [
              0.3333333333333333,
              "#9c179e"
             ],
             [
              0.4444444444444444,
              "#bd3786"
             ],
             [
              0.5555555555555556,
              "#d8576b"
             ],
             [
              0.6666666666666666,
              "#ed7953"
             ],
             [
              0.7777777777777778,
              "#fb9f3a"
             ],
             [
              0.8888888888888888,
              "#fdca26"
             ],
             [
              1,
              "#f0f921"
             ]
            ],
            "type": "heatmap"
           }
          ],
          "heatmapgl": [
           {
            "colorbar": {
             "outlinewidth": 0,
             "ticks": ""
            },
            "colorscale": [
             [
              0,
              "#0d0887"
             ],
             [
              0.1111111111111111,
              "#46039f"
             ],
             [
              0.2222222222222222,
              "#7201a8"
             ],
             [
              0.3333333333333333,
              "#9c179e"
             ],
             [
              0.4444444444444444,
              "#bd3786"
             ],
             [
              0.5555555555555556,
              "#d8576b"
             ],
             [
              0.6666666666666666,
              "#ed7953"
             ],
             [
              0.7777777777777778,
              "#fb9f3a"
             ],
             [
              0.8888888888888888,
              "#fdca26"
             ],
             [
              1,
              "#f0f921"
             ]
            ],
            "type": "heatmapgl"
           }
          ],
          "histogram": [
           {
            "marker": {
             "pattern": {
              "fillmode": "overlay",
              "size": 10,
              "solidity": 0.2
             }
            },
            "type": "histogram"
           }
          ],
          "histogram2d": [
           {
            "colorbar": {
             "outlinewidth": 0,
             "ticks": ""
            },
            "colorscale": [
             [
              0,
              "#0d0887"
             ],
             [
              0.1111111111111111,
              "#46039f"
             ],
             [
              0.2222222222222222,
              "#7201a8"
             ],
             [
              0.3333333333333333,
              "#9c179e"
             ],
             [
              0.4444444444444444,
              "#bd3786"
             ],
             [
              0.5555555555555556,
              "#d8576b"
             ],
             [
              0.6666666666666666,
              "#ed7953"
             ],
             [
              0.7777777777777778,
              "#fb9f3a"
             ],
             [
              0.8888888888888888,
              "#fdca26"
             ],
             [
              1,
              "#f0f921"
             ]
            ],
            "type": "histogram2d"
           }
          ],
          "histogram2dcontour": [
           {
            "colorbar": {
             "outlinewidth": 0,
             "ticks": ""
            },
            "colorscale": [
             [
              0,
              "#0d0887"
             ],
             [
              0.1111111111111111,
              "#46039f"
             ],
             [
              0.2222222222222222,
              "#7201a8"
             ],
             [
              0.3333333333333333,
              "#9c179e"
             ],
             [
              0.4444444444444444,
              "#bd3786"
             ],
             [
              0.5555555555555556,
              "#d8576b"
             ],
             [
              0.6666666666666666,
              "#ed7953"
             ],
             [
              0.7777777777777778,
              "#fb9f3a"
             ],
             [
              0.8888888888888888,
              "#fdca26"
             ],
             [
              1,
              "#f0f921"
             ]
            ],
            "type": "histogram2dcontour"
           }
          ],
          "mesh3d": [
           {
            "colorbar": {
             "outlinewidth": 0,
             "ticks": ""
            },
            "type": "mesh3d"
           }
          ],
          "parcoords": [
           {
            "line": {
             "colorbar": {
              "outlinewidth": 0,
              "ticks": ""
             }
            },
            "type": "parcoords"
           }
          ],
          "pie": [
           {
            "automargin": true,
            "type": "pie"
           }
          ],
          "scatter": [
           {
            "fillpattern": {
             "fillmode": "overlay",
             "size": 10,
             "solidity": 0.2
            },
            "type": "scatter"
           }
          ],
          "scatter3d": [
           {
            "line": {
             "colorbar": {
              "outlinewidth": 0,
              "ticks": ""
             }
            },
            "marker": {
             "colorbar": {
              "outlinewidth": 0,
              "ticks": ""
             }
            },
            "type": "scatter3d"
           }
          ],
          "scattercarpet": [
           {
            "marker": {
             "colorbar": {
              "outlinewidth": 0,
              "ticks": ""
             }
            },
            "type": "scattercarpet"
           }
          ],
          "scattergeo": [
           {
            "marker": {
             "colorbar": {
              "outlinewidth": 0,
              "ticks": ""
             }
            },
            "type": "scattergeo"
           }
          ],
          "scattergl": [
           {
            "marker": {
             "colorbar": {
              "outlinewidth": 0,
              "ticks": ""
             }
            },
            "type": "scattergl"
           }
          ],
          "scattermapbox": [
           {
            "marker": {
             "colorbar": {
              "outlinewidth": 0,
              "ticks": ""
             }
            },
            "type": "scattermapbox"
           }
          ],
          "scatterpolar": [
           {
            "marker": {
             "colorbar": {
              "outlinewidth": 0,
              "ticks": ""
             }
            },
            "type": "scatterpolar"
           }
          ],
          "scatterpolargl": [
           {
            "marker": {
             "colorbar": {
              "outlinewidth": 0,
              "ticks": ""
             }
            },
            "type": "scatterpolargl"
           }
          ],
          "scatterternary": [
           {
            "marker": {
             "colorbar": {
              "outlinewidth": 0,
              "ticks": ""
             }
            },
            "type": "scatterternary"
           }
          ],
          "surface": [
           {
            "colorbar": {
             "outlinewidth": 0,
             "ticks": ""
            },
            "colorscale": [
             [
              0,
              "#0d0887"
             ],
             [
              0.1111111111111111,
              "#46039f"
             ],
             [
              0.2222222222222222,
              "#7201a8"
             ],
             [
              0.3333333333333333,
              "#9c179e"
             ],
             [
              0.4444444444444444,
              "#bd3786"
             ],
             [
              0.5555555555555556,
              "#d8576b"
             ],
             [
              0.6666666666666666,
              "#ed7953"
             ],
             [
              0.7777777777777778,
              "#fb9f3a"
             ],
             [
              0.8888888888888888,
              "#fdca26"
             ],
             [
              1,
              "#f0f921"
             ]
            ],
            "type": "surface"
           }
          ],
          "table": [
           {
            "cells": {
             "fill": {
              "color": "#EBF0F8"
             },
             "line": {
              "color": "white"
             }
            },
            "header": {
             "fill": {
              "color": "#C8D4E3"
             },
             "line": {
              "color": "white"
             }
            },
            "type": "table"
           }
          ]
         },
         "layout": {
          "annotationdefaults": {
           "arrowcolor": "#2a3f5f",
           "arrowhead": 0,
           "arrowwidth": 1
          },
          "autotypenumbers": "strict",
          "coloraxis": {
           "colorbar": {
            "outlinewidth": 0,
            "ticks": ""
           }
          },
          "colorscale": {
           "diverging": [
            [
             0,
             "#8e0152"
            ],
            [
             0.1,
             "#c51b7d"
            ],
            [
             0.2,
             "#de77ae"
            ],
            [
             0.3,
             "#f1b6da"
            ],
            [
             0.4,
             "#fde0ef"
            ],
            [
             0.5,
             "#f7f7f7"
            ],
            [
             0.6,
             "#e6f5d0"
            ],
            [
             0.7,
             "#b8e186"
            ],
            [
             0.8,
             "#7fbc41"
            ],
            [
             0.9,
             "#4d9221"
            ],
            [
             1,
             "#276419"
            ]
           ],
           "sequential": [
            [
             0,
             "#0d0887"
            ],
            [
             0.1111111111111111,
             "#46039f"
            ],
            [
             0.2222222222222222,
             "#7201a8"
            ],
            [
             0.3333333333333333,
             "#9c179e"
            ],
            [
             0.4444444444444444,
             "#bd3786"
            ],
            [
             0.5555555555555556,
             "#d8576b"
            ],
            [
             0.6666666666666666,
             "#ed7953"
            ],
            [
             0.7777777777777778,
             "#fb9f3a"
            ],
            [
             0.8888888888888888,
             "#fdca26"
            ],
            [
             1,
             "#f0f921"
            ]
           ],
           "sequentialminus": [
            [
             0,
             "#0d0887"
            ],
            [
             0.1111111111111111,
             "#46039f"
            ],
            [
             0.2222222222222222,
             "#7201a8"
            ],
            [
             0.3333333333333333,
             "#9c179e"
            ],
            [
             0.4444444444444444,
             "#bd3786"
            ],
            [
             0.5555555555555556,
             "#d8576b"
            ],
            [
             0.6666666666666666,
             "#ed7953"
            ],
            [
             0.7777777777777778,
             "#fb9f3a"
            ],
            [
             0.8888888888888888,
             "#fdca26"
            ],
            [
             1,
             "#f0f921"
            ]
           ]
          },
          "colorway": [
           "#636efa",
           "#EF553B",
           "#00cc96",
           "#ab63fa",
           "#FFA15A",
           "#19d3f3",
           "#FF6692",
           "#B6E880",
           "#FF97FF",
           "#FECB52"
          ],
          "font": {
           "color": "#2a3f5f"
          },
          "geo": {
           "bgcolor": "white",
           "lakecolor": "white",
           "landcolor": "#E5ECF6",
           "showlakes": true,
           "showland": true,
           "subunitcolor": "white"
          },
          "hoverlabel": {
           "align": "left"
          },
          "hovermode": "closest",
          "mapbox": {
           "style": "light"
          },
          "paper_bgcolor": "white",
          "plot_bgcolor": "#E5ECF6",
          "polar": {
           "angularaxis": {
            "gridcolor": "white",
            "linecolor": "white",
            "ticks": ""
           },
           "bgcolor": "#E5ECF6",
           "radialaxis": {
            "gridcolor": "white",
            "linecolor": "white",
            "ticks": ""
           }
          },
          "scene": {
           "xaxis": {
            "backgroundcolor": "#E5ECF6",
            "gridcolor": "white",
            "gridwidth": 2,
            "linecolor": "white",
            "showbackground": true,
            "ticks": "",
            "zerolinecolor": "white"
           },
           "yaxis": {
            "backgroundcolor": "#E5ECF6",
            "gridcolor": "white",
            "gridwidth": 2,
            "linecolor": "white",
            "showbackground": true,
            "ticks": "",
            "zerolinecolor": "white"
           },
           "zaxis": {
            "backgroundcolor": "#E5ECF6",
            "gridcolor": "white",
            "gridwidth": 2,
            "linecolor": "white",
            "showbackground": true,
            "ticks": "",
            "zerolinecolor": "white"
           }
          },
          "shapedefaults": {
           "line": {
            "color": "#2a3f5f"
           }
          },
          "ternary": {
           "aaxis": {
            "gridcolor": "white",
            "linecolor": "white",
            "ticks": ""
           },
           "baxis": {
            "gridcolor": "white",
            "linecolor": "white",
            "ticks": ""
           },
           "bgcolor": "#E5ECF6",
           "caxis": {
            "gridcolor": "white",
            "linecolor": "white",
            "ticks": ""
           }
          },
          "title": {
           "x": 0.05
          },
          "xaxis": {
           "automargin": true,
           "gridcolor": "white",
           "linecolor": "white",
           "ticks": "",
           "title": {
            "standoff": 15
           },
           "zerolinecolor": "white",
           "zerolinewidth": 2
          },
          "yaxis": {
           "automargin": true,
           "gridcolor": "white",
           "linecolor": "white",
           "ticks": "",
           "title": {
            "standoff": 15
           },
           "zerolinecolor": "white",
           "zerolinewidth": 2
          }
         }
        },
        "xaxis": {
         "anchor": "y",
         "domain": [
          0,
          1
         ],
         "title": {
          "text": "umap 1"
         }
        },
        "yaxis": {
         "anchor": "x",
         "domain": [
          0,
          1
         ],
         "title": {
          "text": "umap 2"
         }
        }
       }
      }
     },
     "metadata": {},
     "output_type": "display_data"
    }
   ],
   "source": [
    "# dimensionality reduction and visualization using UMAP\n",
    "\n",
    "um = umap.UMAP()\n",
    "embedded_data_2d = um.fit_transform(embedded_data['embedding'].tolist())\n",
    "\n",
    "color_map = {\n",
    "    '0' : 'orange',\n",
    "    '1' : 'blue'\n",
    "}\n",
    "\n",
    "fig = px.scatter(x = embedded_data_2d[:, 0], y = embedded_data_2d[:, 1], color = model.labels_.astype(str), color_discrete_map = color_map, symbol = labels['Response'])\n",
    "fig.update_layout(xaxis_title = 'umap 1', yaxis_title = 'umap 2')\n",
    "\n",
    "fig.show()"
   ]
  },
  {
   "cell_type": "code",
   "execution_count": 89,
   "metadata": {},
   "outputs": [
    {
     "name": "stdout",
     "output_type": "stream",
     "text": [
      "Training accuracy before hyperparameter optimization: 0.5909090909090909\n",
      "Test set accuracy before hyperparameter optimization: 0.6\n"
     ]
    }
   ],
   "source": [
    "# Train a logistic regression model using the embeddings before optimizing hyperparameters\n",
    "X_train, X_test, y_train, y_test = train_test_split(embedded_data_2d, np.ravel(labels), test_size = 0.3, random_state=1234)\n",
    "logreg = LogisticRegression()\n",
    "logreg.fit(X_train, y_train)\n",
    "y_pred = logreg.predict(X_train)\n",
    "training_accuracy = accuracy_score(y_pred, y_train)\n",
    "y_pred = logreg.predict(X_test)\n",
    "test_accuracy = accuracy_score(y_pred, y_test)\n",
    "print(\"Training accuracy before hyperparameter optimization:\", training_accuracy)\n",
    "print(\"Test set accuracy before hyperparameter optimization:\", test_accuracy)"
   ]
  },
  {
   "cell_type": "code",
   "execution_count": 90,
   "metadata": {},
   "outputs": [
    {
     "name": "stdout",
     "output_type": "stream",
     "text": [
      "Best hyperparameters: {'C': 0.1, 'max_iter': 1000, 'solver': 'liblinear'}\n"
     ]
    },
    {
     "name": "stderr",
     "output_type": "stream",
     "text": [
      "/Users/sophiesun/opt/anaconda3/lib/python3.8/site-packages/sklearn/linear_model/_sag.py:350: ConvergenceWarning:\n",
      "\n",
      "The max_iter was reached which means the coef_ did not converge\n",
      "\n",
      "/Users/sophiesun/opt/anaconda3/lib/python3.8/site-packages/sklearn/linear_model/_sag.py:350: ConvergenceWarning:\n",
      "\n",
      "The max_iter was reached which means the coef_ did not converge\n",
      "\n",
      "/Users/sophiesun/opt/anaconda3/lib/python3.8/site-packages/sklearn/linear_model/_sag.py:350: ConvergenceWarning:\n",
      "\n",
      "The max_iter was reached which means the coef_ did not converge\n",
      "\n",
      "/Users/sophiesun/opt/anaconda3/lib/python3.8/site-packages/sklearn/linear_model/_sag.py:350: ConvergenceWarning:\n",
      "\n",
      "The max_iter was reached which means the coef_ did not converge\n",
      "\n",
      "/Users/sophiesun/opt/anaconda3/lib/python3.8/site-packages/sklearn/linear_model/_sag.py:350: ConvergenceWarning:\n",
      "\n",
      "The max_iter was reached which means the coef_ did not converge\n",
      "\n",
      "/Users/sophiesun/opt/anaconda3/lib/python3.8/site-packages/sklearn/linear_model/_sag.py:350: ConvergenceWarning:\n",
      "\n",
      "The max_iter was reached which means the coef_ did not converge\n",
      "\n",
      "/Users/sophiesun/opt/anaconda3/lib/python3.8/site-packages/sklearn/linear_model/_sag.py:350: ConvergenceWarning:\n",
      "\n",
      "The max_iter was reached which means the coef_ did not converge\n",
      "\n",
      "/Users/sophiesun/opt/anaconda3/lib/python3.8/site-packages/sklearn/linear_model/_sag.py:350: ConvergenceWarning:\n",
      "\n",
      "The max_iter was reached which means the coef_ did not converge\n",
      "\n"
     ]
    }
   ],
   "source": [
    "# find the best hyperparameters for an L1 regularized LogReg model\n",
    "hyperparameters = {\n",
    "    'C': [0.1, 1, 10, 100, 1000],\n",
    "    'solver': ['liblinear', 'saga'],\n",
    "    'max_iter': [1000]\n",
    "}\n",
    "\n",
    "grid_search = GridSearchCV(LogisticRegression(penalty=\"l1\"), hyperparameters,  cv=5, scoring='accuracy')\n",
    "grid_search.fit(X_train, y_train)\n",
    "\n",
    "best_params = grid_search.best_params_\n",
    "best_model = grid_search.best_estimator_\n",
    "\n",
    "print(\"Best hyperparameters:\", best_params)"
   ]
  },
  {
   "cell_type": "code",
   "execution_count": 91,
   "metadata": {},
   "outputs": [
    {
     "name": "stdout",
     "output_type": "stream",
     "text": [
      "Training accuracy after hyperparameter optimization: 0.5909090909090909\n",
      "Test set accuracy after hyperparameter optimization: 0.3\n"
     ]
    }
   ],
   "source": [
    "# Train a logistic regression model using the top 2 PCAs after optimizing hyperparameters\n",
    "y_pred = best_model.predict(X_train)\n",
    "training_accuracy = accuracy_score(y_pred, y_train)\n",
    "y_pred = best_model.predict(X_test)\n",
    "test_accuracy = accuracy_score(y_pred, y_test)\n",
    "\n",
    "print(\"Training accuracy after hyperparameter optimization:\", training_accuracy)\n",
    "print(\"Test set accuracy after hyperparameter optimization:\", test_accuracy)"
   ]
  },
  {
   "cell_type": "code",
   "execution_count": 92,
   "metadata": {},
   "outputs": [],
   "source": [
    "# export cluster assignments\n",
    "\n",
    "clusters_embedding = pd.concat([labels, pd.DataFrame(model.labels_, columns = ['cluster'])], axis = 1)\n",
    "\n",
    "clusters_embedding.to_csv('../data/clusters_embedding.csv', index = False)\n",
    "\n",
    "# export data for L1 log reg\n",
    "embedded_data['embedding'].to_csv('../data/embedded_data.csv', index = False)"
   ]
  }
 ],
 "metadata": {
  "kernelspec": {
   "display_name": "base",
   "language": "python",
   "name": "python3"
  },
  "language_info": {
   "codemirror_mode": {
    "name": "ipython",
    "version": 3
   },
   "file_extension": ".py",
   "mimetype": "text/x-python",
   "name": "python",
   "nbconvert_exporter": "python",
   "pygments_lexer": "ipython3",
   "version": "3.8.5"
  }
 },
 "nbformat": 4,
 "nbformat_minor": 2
}
