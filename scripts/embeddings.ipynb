{
 "cells": [
  {
   "cell_type": "code",
   "execution_count": 1,
   "metadata": {},
   "outputs": [],
   "source": [
    "# pip install -U openai scipy plotly-express scikit-learn umap-learn\n",
    "# pip install numpy == 1.23.0 # umap requires an older version of numpy"
   ]
  },
  {
   "cell_type": "code",
   "execution_count": 2,
   "metadata": {},
   "outputs": [],
   "source": [
    "import os\n",
    "import pandas as pd\n",
    "import numpy as np\n",
    "from openai import OpenAI\n",
    "from sklearn.cluster import KMeans\n",
    "from scipy.spatial import distance\n",
    "import plotly.express as px\n",
    "import umap.umap_ as umap\n",
    "from sklearn.preprocessing import LabelEncoder\n",
    "from sklearn.model_selection import train_test_split\n",
    "from sklearn.metrics import accuracy_score\n",
    "from sklearn.linear_model import LogisticRegression\n",
    "from sklearn.model_selection import GridSearchCV"
   ]
  },
  {
   "cell_type": "code",
   "execution_count": 3,
   "metadata": {},
   "outputs": [
    {
     "name": "stdout",
     "output_type": "stream",
     "text": [
      "        RN7SL2        FTL     MT-CO3     MT-CO2    MT-ATP8    MT-ATP6  \\\n",
      "0    15.038124  10.267509   6.096489   6.029887   4.996209   4.828822   \n",
      "1    15.313833   9.622666   9.860376   9.738486   9.475843   9.217649   \n",
      "2    16.739384   9.744946  10.067124  10.726867   8.760113   8.636872   \n",
      "3     6.150741  11.761988  11.113195  10.876473   9.272044  10.677880   \n",
      "4     6.737094  11.851334  10.608619  10.246659   8.657706   9.951498   \n",
      "..         ...        ...        ...        ...        ...        ...   \n",
      "111   4.355103  11.250609  13.168966  12.982082  12.444777  12.334313   \n",
      "112   6.131375   9.797686  13.330152  13.433663  13.033499  13.012454   \n",
      "113   4.201878  10.747962  13.237784  12.853114  12.543654  12.216011   \n",
      "114   7.196152  11.728989  13.865689  14.082163  13.449037  13.490130   \n",
      "115   5.810201  11.861459  13.483685  14.015472  12.733038  12.980847   \n",
      "\n",
      "        MT-CO1       IGKC     MT-ND4    MT-RNR2  ...      CTSB     IGKJ1  \\\n",
      "0     7.590253   5.647115   5.412997   5.024420  ...  7.253257  0.000000   \n",
      "1    10.936979   5.360864   8.928858   7.789543  ...  7.433607  0.000000   \n",
      "2    11.444593   9.147465   8.696023   6.988178  ...  5.344500  1.691215   \n",
      "3    11.052563  10.066972  10.668391   9.690645  ...  7.083906  4.836296   \n",
      "4    10.451394  10.013964   9.771394   9.228568  ...  7.081397  2.933361   \n",
      "..         ...        ...        ...        ...  ...       ...       ...   \n",
      "111  13.182728  10.708819  12.691640  12.482063  ...  7.754951  5.336761   \n",
      "112  13.181086   9.660553  12.633035  12.026346  ...  7.186584  4.257262   \n",
      "113  13.232737   7.957063  12.573261  12.525359  ...  7.354137  2.412854   \n",
      "114  13.789122  11.016040  13.358010  13.648787  ...  8.103934  4.390403   \n",
      "115  13.707471  13.056523  13.238818  13.404275  ...  8.012906  6.055888   \n",
      "\n",
      "       SPRR2E   IGKV4-1  TFF1        HP      HLA-A   IGHV3-7  HLA-DRB1  \\\n",
      "0    0.000000  0.217787   0.0  0.474323   9.465274  0.000000  8.906496   \n",
      "1    0.185674  3.118167   0.0  0.052839   7.720830  0.000000  5.987946   \n",
      "2    0.000000  0.558147   0.0  0.066288   3.604023  0.259431  5.674888   \n",
      "3    0.000000  5.996376   0.0  0.429230   8.847922  2.360120  8.026241   \n",
      "4    4.917178  4.459239   0.0  0.128755   9.050430  4.492624  8.053082   \n",
      "..        ...       ...   ...       ...        ...       ...       ...   \n",
      "111  0.270362  6.296828   0.0  1.004117   9.659730  4.894998  9.073784   \n",
      "112  7.285802  4.433527   0.0  3.291759   8.372716  3.387898  7.967589   \n",
      "113  0.373331  4.599007   0.0  0.521399   9.275573  2.136633  8.672348   \n",
      "114  0.000000  5.742371   0.0  0.064506  10.039392  6.576920  7.145275   \n",
      "115  0.000000  8.117690   0.0  0.228441   9.577390  7.690226  7.570892   \n",
      "\n",
      "       KRTDAP  \n",
      "0    0.000000  \n",
      "1    0.204788  \n",
      "2    0.000000  \n",
      "3    0.132312  \n",
      "4    5.337647  \n",
      "..        ...  \n",
      "111  0.883613  \n",
      "112  7.162938  \n",
      "113  1.151287  \n",
      "114  0.004328  \n",
      "115  0.000000  \n",
      "\n",
      "[116 rows x 100 columns]\n",
      "     Unnamed: 0  Response\n",
      "0             0         1\n",
      "1             1         0\n",
      "2             2         0\n",
      "3             3         0\n",
      "4             4         0\n",
      "..          ...       ...\n",
      "111         111         1\n",
      "112         112         1\n",
      "113         113         1\n",
      "114         114         1\n",
      "115         115         1\n",
      "\n",
      "[116 rows x 2 columns]\n"
     ]
    }
   ],
   "source": [
    "'''\n",
    "Performs AI embedding on data\n",
    "'''\n",
    "\n",
    "# load data\n",
    "\n",
    "data = pd.read_csv('../data/GSE910_SMOTE_log2_top100.csv')\n",
    "data = data.drop(data.columns[0], axis =1)\n",
    "print(data)\n",
    "\n",
    "labels = pd.read_csv('../data/GSE910_SMOTE_labels_top100.csv')\n",
    "print(labels)\n",
    "\n"
   ]
  },
  {
   "cell_type": "code",
   "execution_count": 4,
   "metadata": {},
   "outputs": [],
   "source": [
    "# openAI API key\n",
    "\n",
    "client = OpenAI(\n",
    "  api_key='',  \n",
    ")\n"
   ]
  },
  {
   "cell_type": "code",
   "execution_count": 5,
   "metadata": {},
   "outputs": [],
   "source": [
    "# embedding transcriptomic data\n",
    "\n",
    "def get_embedding(df):\n",
    "\n",
    "\t# model\n",
    "\t\n",
    "\tresponse = client.embeddings.create(\n",
    "    \tmodel= 'text-embedding-ada-002',\n",
    "    \tinput=[df]\n",
    "\t)\n",
    "\t# Get embedded data\n",
    "\t\n",
    "\tembedding = response.data[0].embedding\n",
    "    \n",
    "\treturn embedding"
   ]
  },
  {
   "cell_type": "code",
   "execution_count": 6,
   "metadata": {},
   "outputs": [
    {
     "name": "stdout",
     "output_type": "stream",
     "text": [
      "(116, 99)\n",
      "0      10.26750924509026 6.096489077610898 6.02988704...\n",
      "1      9.6226660795167 9.86037615653056 9.73848598171...\n",
      "2      9.744945814413533 10.06712393608517 10.7268670...\n",
      "3      11.761988404115765 11.113195214781117 10.87647...\n",
      "4      11.851334460576384 10.608618955940033 10.24665...\n",
      "                             ...                        \n",
      "111    11.250608516979582 13.168966216330713 12.98208...\n",
      "112    9.797685814655683 13.330152007589266 13.433663...\n",
      "113    10.74796235187887 13.237783506785176 12.853114...\n",
      "114    11.728988798545844 13.865689050483866 14.08216...\n",
      "115    11.861458887347524 13.483685277296948 14.01547...\n",
      "Name: concatenated, Length: 116, dtype: object\n"
     ]
    }
   ],
   "source": [
    "# drop first column of sample IDs\n",
    "\n",
    "embedded_data = data.drop(data.columns[0], axis = 1)\n",
    "print(embedded_data.shape)\n",
    "\n",
    "# change numeric to str and concatenate everything by row (sentence-like input structure required)\n",
    "\n",
    "embedded_data['concatenated'] = embedded_data.astype(str).apply(lambda row: ' '.join(row), axis = 1)\n",
    "print(embedded_data['concatenated'])\n",
    "\n",
    "# apply embeddings\n",
    "\n",
    "embedded_data['embedding'] = embedded_data['concatenated'].apply(get_embedding)\n",
    "\n"
   ]
  },
  {
   "cell_type": "code",
   "execution_count": 7,
   "metadata": {},
   "outputs": [],
   "source": [
    "# run kmeans based on embeddings \n",
    "\n",
    "# 2 clusters for responder, non-responder\n",
    "\n",
    "kmeans = KMeans(n_clusters = 2, n_init = 'auto')\n",
    "model = kmeans.fit(embedded_data['embedding'].tolist())"
   ]
  },
  {
   "cell_type": "code",
   "execution_count": 8,
   "metadata": {},
   "outputs": [
    {
     "data": {
      "application/vnd.plotly.v1+json": {
       "config": {
        "plotlyServerURL": "https://plot.ly"
       },
       "data": [
        {
         "hovertemplate": "x=%{x}<br>y=%{y}<br>color=%{marker.color}<extra></extra>",
         "legendgroup": "",
         "marker": {
          "color": [
           1,
           0,
           0,
           0,
           0,
           0,
           0,
           0,
           0,
           1,
           1,
           1,
           1,
           0,
           1,
           1,
           0,
           0,
           1,
           0,
           1,
           1,
           0,
           0,
           0,
           0,
           1,
           1,
           1,
           0,
           0,
           0,
           1,
           1,
           1,
           0,
           0,
           0,
           0,
           0,
           1,
           0,
           0,
           0,
           1,
           0,
           0,
           0,
           1,
           0,
           0,
           0,
           0,
           0,
           0,
           1,
           0,
           0,
           0,
           0,
           1,
           0,
           0,
           0,
           0,
           0,
           1,
           0,
           1,
           0,
           0,
           0,
           0,
           0,
           0,
           1,
           0,
           0,
           0,
           0,
           0,
           1,
           0,
           1,
           1,
           1,
           1,
           1,
           1,
           1,
           1,
           1,
           1,
           1,
           1,
           1,
           1,
           1,
           1,
           1,
           1,
           1,
           1,
           1,
           1,
           1,
           1,
           1,
           1,
           1,
           1,
           1,
           1,
           1,
           1,
           1
          ],
          "coloraxis": "coloraxis",
          "symbol": "circle"
         },
         "mode": "markers",
         "name": "",
         "orientation": "v",
         "showlegend": false,
         "type": "scatter",
         "x": [
          6.425695896148682,
          6.492181777954102,
          6.675989151000977,
          7.214367389678955,
          6.885520935058594,
          6.755930423736572,
          4.140096664428711,
          3.6466317176818848,
          7.549880504608154,
          7.543524742126465,
          3.471177577972412,
          6.198034763336182,
          3.660781145095825,
          3.368743896484375,
          3.110278367996216,
          5.039045810699463,
          6.935589790344238,
          6.443970203399658,
          5.139079570770264,
          7.900369644165039,
          3.622910261154175,
          5.2958478927612305,
          7.54010534286499,
          5.632715702056885,
          4.2332611083984375,
          4.208736419677734,
          7.523195266723633,
          7.5405073165893555,
          7.044994831085205,
          5.275518894195557,
          4.059774875640869,
          7.0502214431762695,
          7.738094329833984,
          5.193168640136719,
          6.7908782958984375,
          7.8925886154174805,
          5.5448317527771,
          6.567300796508789,
          4.405386447906494,
          4.013980865478516,
          7.034665107727051,
          8.154374122619629,
          7.783988952636719,
          7.63549280166626,
          8.116555213928223,
          7.315857887268066,
          7.348154544830322,
          6.588824272155762,
          3.3634955883026123,
          6.3405280113220215,
          7.47430419921875,
          3.4125382900238037,
          7.024197578430176,
          3.664371967315674,
          7.818119049072266,
          3.911478281021118,
          8.158143043518066,
          4.195876598358154,
          3.2828633785247803,
          4.624241828918457,
          7.106942653656006,
          8.092438697814941,
          5.214279651641846,
          7.653696060180664,
          7.5660319328308105,
          7.971419811248779,
          7.2378926277160645,
          7.316142559051514,
          7.112206935882568,
          8.19278621673584,
          4.296462535858154,
          5.786779880523682,
          5.551706314086914,
          3.011617422103882,
          7.834314823150635,
          6.73978328704834,
          3.941620349884033,
          7.997412204742432,
          7.786663055419922,
          7.214610576629639,
          6.658642768859863,
          8.07166862487793,
          3.6049203872680664,
          4.850792407989502,
          7.025182247161865,
          5.7397003173828125,
          8.271403312683105,
          3.4233522415161133,
          7.4383440017700195,
          3.5054335594177246,
          3.651007890701294,
          8.001080513000488,
          8.07127857208252,
          8.226959228515625,
          6.47177791595459,
          3.586092948913574,
          6.909509658813477,
          6.186224460601807,
          6.566074848175049,
          8.405044555664062,
          6.646273136138916,
          5.217193603515625,
          4.517963886260986,
          7.302804946899414,
          7.5252509117126465,
          7.418423175811768,
          3.2581777572631836,
          6.6946611404418945,
          3.403157949447632,
          7.6497802734375,
          7.44752836227417,
          7.647045612335205,
          6.911520481109619,
          7.615598678588867,
          5.476169109344482,
          5.373191833496094
         ],
         "xaxis": "x",
         "y": [
          3.804192543029785,
          3.4491212368011475,
          3.763923168182373,
          3.916712999343872,
          3.798527717590332,
          6.157905101776123,
          8.74221134185791,
          5.875262260437012,
          4.104157447814941,
          6.447719573974609,
          6.599765777587891,
          4.102940082550049,
          8.478763580322266,
          5.71376895904541,
          6.182902812957764,
          6.112858772277832,
          9.569540977478027,
          9.543147087097168,
          9.23568058013916,
          4.1951375007629395,
          6.583557605743408,
          8.232221603393555,
          8.316640853881836,
          8.38614559173584,
          7.459961891174316,
          7.776458263397217,
          9.216455459594727,
          9.705103874206543,
          9.231802940368652,
          9.124500274658203,
          8.026535034179688,
          6.4071736335754395,
          8.534430503845215,
          5.9802069664001465,
          9.894037246704102,
          8.595789909362793,
          6.633326530456543,
          9.20865535736084,
          8.258463859558105,
          7.851348400115967,
          6.951113700866699,
          4.566082000732422,
          8.155050277709961,
          9.514484405517578,
          4.3688249588012695,
          5.738049507141113,
          4.04970121383667,
          10.11115550994873,
          5.6837158203125,
          9.91781997680664,
          7.298226356506348,
          7.963155269622803,
          6.366915702819824,
          6.006789207458496,
          5.995967388153076,
          6.53469705581665,
          4.967446327209473,
          7.769599914550781,
          6.485483169555664,
          7.688594341278076,
          10.280667304992676,
          6.278780460357666,
          8.190065383911133,
          5.476348400115967,
          6.231858730316162,
          4.774076461791992,
          6.487379550933838,
          5.5832319259643555,
          6.097856521606445,
          8.515205383300781,
          8.121288299560547,
          8.798354148864746,
          8.492535591125488,
          5.969422817230225,
          8.295149803161621,
          10.080477714538574,
          8.5194673538208,
          5.248108863830566,
          6.500695705413818,
          8.859572410583496,
          9.624115943908691,
          4.294515132904053,
          5.8173041343688965,
          8.320791244506836,
          9.817134857177734,
          9.136856079101562,
          4.449495315551758,
          5.916762351989746,
          6.6294779777526855,
          8.196813583374023,
          8.096128463745117,
          6.142173767089844,
          5.431240558624268,
          4.599424362182617,
          9.911693572998047,
          6.099579811096191,
          9.992823600769043,
          9.545244216918945,
          3.7318668365478516,
          4.765732288360596,
          10.163175582885742,
          8.686746597290039,
          5.90963077545166,
          9.473089218139648,
          6.812165260314941,
          6.703605651855469,
          6.224522590637207,
          3.997633457183838,
          6.224547386169434,
          9.478961944580078,
          6.250270366668701,
          5.623606204986572,
          9.066683769226074,
          9.158615112304688,
          6.001053333282471,
          6.157077789306641
         ],
         "yaxis": "y"
        }
       ],
       "layout": {
        "coloraxis": {
         "colorbar": {
          "title": {
           "text": "color"
          }
         },
         "colorscale": [
          [
           0,
           "#0d0887"
          ],
          [
           0.1111111111111111,
           "#46039f"
          ],
          [
           0.2222222222222222,
           "#7201a8"
          ],
          [
           0.3333333333333333,
           "#9c179e"
          ],
          [
           0.4444444444444444,
           "#bd3786"
          ],
          [
           0.5555555555555556,
           "#d8576b"
          ],
          [
           0.6666666666666666,
           "#ed7953"
          ],
          [
           0.7777777777777778,
           "#fb9f3a"
          ],
          [
           0.8888888888888888,
           "#fdca26"
          ],
          [
           1,
           "#f0f921"
          ]
         ]
        },
        "height": 400,
        "legend": {
         "tracegroupgap": 0
        },
        "margin": {
         "t": 60
        },
        "template": {
         "data": {
          "bar": [
           {
            "error_x": {
             "color": "#2a3f5f"
            },
            "error_y": {
             "color": "#2a3f5f"
            },
            "marker": {
             "line": {
              "color": "#E5ECF6",
              "width": 0.5
             },
             "pattern": {
              "fillmode": "overlay",
              "size": 10,
              "solidity": 0.2
             }
            },
            "type": "bar"
           }
          ],
          "barpolar": [
           {
            "marker": {
             "line": {
              "color": "#E5ECF6",
              "width": 0.5
             },
             "pattern": {
              "fillmode": "overlay",
              "size": 10,
              "solidity": 0.2
             }
            },
            "type": "barpolar"
           }
          ],
          "carpet": [
           {
            "aaxis": {
             "endlinecolor": "#2a3f5f",
             "gridcolor": "white",
             "linecolor": "white",
             "minorgridcolor": "white",
             "startlinecolor": "#2a3f5f"
            },
            "baxis": {
             "endlinecolor": "#2a3f5f",
             "gridcolor": "white",
             "linecolor": "white",
             "minorgridcolor": "white",
             "startlinecolor": "#2a3f5f"
            },
            "type": "carpet"
           }
          ],
          "choropleth": [
           {
            "colorbar": {
             "outlinewidth": 0,
             "ticks": ""
            },
            "type": "choropleth"
           }
          ],
          "contour": [
           {
            "colorbar": {
             "outlinewidth": 0,
             "ticks": ""
            },
            "colorscale": [
             [
              0,
              "#0d0887"
             ],
             [
              0.1111111111111111,
              "#46039f"
             ],
             [
              0.2222222222222222,
              "#7201a8"
             ],
             [
              0.3333333333333333,
              "#9c179e"
             ],
             [
              0.4444444444444444,
              "#bd3786"
             ],
             [
              0.5555555555555556,
              "#d8576b"
             ],
             [
              0.6666666666666666,
              "#ed7953"
             ],
             [
              0.7777777777777778,
              "#fb9f3a"
             ],
             [
              0.8888888888888888,
              "#fdca26"
             ],
             [
              1,
              "#f0f921"
             ]
            ],
            "type": "contour"
           }
          ],
          "contourcarpet": [
           {
            "colorbar": {
             "outlinewidth": 0,
             "ticks": ""
            },
            "type": "contourcarpet"
           }
          ],
          "heatmap": [
           {
            "colorbar": {
             "outlinewidth": 0,
             "ticks": ""
            },
            "colorscale": [
             [
              0,
              "#0d0887"
             ],
             [
              0.1111111111111111,
              "#46039f"
             ],
             [
              0.2222222222222222,
              "#7201a8"
             ],
             [
              0.3333333333333333,
              "#9c179e"
             ],
             [
              0.4444444444444444,
              "#bd3786"
             ],
             [
              0.5555555555555556,
              "#d8576b"
             ],
             [
              0.6666666666666666,
              "#ed7953"
             ],
             [
              0.7777777777777778,
              "#fb9f3a"
             ],
             [
              0.8888888888888888,
              "#fdca26"
             ],
             [
              1,
              "#f0f921"
             ]
            ],
            "type": "heatmap"
           }
          ],
          "heatmapgl": [
           {
            "colorbar": {
             "outlinewidth": 0,
             "ticks": ""
            },
            "colorscale": [
             [
              0,
              "#0d0887"
             ],
             [
              0.1111111111111111,
              "#46039f"
             ],
             [
              0.2222222222222222,
              "#7201a8"
             ],
             [
              0.3333333333333333,
              "#9c179e"
             ],
             [
              0.4444444444444444,
              "#bd3786"
             ],
             [
              0.5555555555555556,
              "#d8576b"
             ],
             [
              0.6666666666666666,
              "#ed7953"
             ],
             [
              0.7777777777777778,
              "#fb9f3a"
             ],
             [
              0.8888888888888888,
              "#fdca26"
             ],
             [
              1,
              "#f0f921"
             ]
            ],
            "type": "heatmapgl"
           }
          ],
          "histogram": [
           {
            "marker": {
             "pattern": {
              "fillmode": "overlay",
              "size": 10,
              "solidity": 0.2
             }
            },
            "type": "histogram"
           }
          ],
          "histogram2d": [
           {
            "colorbar": {
             "outlinewidth": 0,
             "ticks": ""
            },
            "colorscale": [
             [
              0,
              "#0d0887"
             ],
             [
              0.1111111111111111,
              "#46039f"
             ],
             [
              0.2222222222222222,
              "#7201a8"
             ],
             [
              0.3333333333333333,
              "#9c179e"
             ],
             [
              0.4444444444444444,
              "#bd3786"
             ],
             [
              0.5555555555555556,
              "#d8576b"
             ],
             [
              0.6666666666666666,
              "#ed7953"
             ],
             [
              0.7777777777777778,
              "#fb9f3a"
             ],
             [
              0.8888888888888888,
              "#fdca26"
             ],
             [
              1,
              "#f0f921"
             ]
            ],
            "type": "histogram2d"
           }
          ],
          "histogram2dcontour": [
           {
            "colorbar": {
             "outlinewidth": 0,
             "ticks": ""
            },
            "colorscale": [
             [
              0,
              "#0d0887"
             ],
             [
              0.1111111111111111,
              "#46039f"
             ],
             [
              0.2222222222222222,
              "#7201a8"
             ],
             [
              0.3333333333333333,
              "#9c179e"
             ],
             [
              0.4444444444444444,
              "#bd3786"
             ],
             [
              0.5555555555555556,
              "#d8576b"
             ],
             [
              0.6666666666666666,
              "#ed7953"
             ],
             [
              0.7777777777777778,
              "#fb9f3a"
             ],
             [
              0.8888888888888888,
              "#fdca26"
             ],
             [
              1,
              "#f0f921"
             ]
            ],
            "type": "histogram2dcontour"
           }
          ],
          "mesh3d": [
           {
            "colorbar": {
             "outlinewidth": 0,
             "ticks": ""
            },
            "type": "mesh3d"
           }
          ],
          "parcoords": [
           {
            "line": {
             "colorbar": {
              "outlinewidth": 0,
              "ticks": ""
             }
            },
            "type": "parcoords"
           }
          ],
          "pie": [
           {
            "automargin": true,
            "type": "pie"
           }
          ],
          "scatter": [
           {
            "fillpattern": {
             "fillmode": "overlay",
             "size": 10,
             "solidity": 0.2
            },
            "type": "scatter"
           }
          ],
          "scatter3d": [
           {
            "line": {
             "colorbar": {
              "outlinewidth": 0,
              "ticks": ""
             }
            },
            "marker": {
             "colorbar": {
              "outlinewidth": 0,
              "ticks": ""
             }
            },
            "type": "scatter3d"
           }
          ],
          "scattercarpet": [
           {
            "marker": {
             "colorbar": {
              "outlinewidth": 0,
              "ticks": ""
             }
            },
            "type": "scattercarpet"
           }
          ],
          "scattergeo": [
           {
            "marker": {
             "colorbar": {
              "outlinewidth": 0,
              "ticks": ""
             }
            },
            "type": "scattergeo"
           }
          ],
          "scattergl": [
           {
            "marker": {
             "colorbar": {
              "outlinewidth": 0,
              "ticks": ""
             }
            },
            "type": "scattergl"
           }
          ],
          "scattermapbox": [
           {
            "marker": {
             "colorbar": {
              "outlinewidth": 0,
              "ticks": ""
             }
            },
            "type": "scattermapbox"
           }
          ],
          "scatterpolar": [
           {
            "marker": {
             "colorbar": {
              "outlinewidth": 0,
              "ticks": ""
             }
            },
            "type": "scatterpolar"
           }
          ],
          "scatterpolargl": [
           {
            "marker": {
             "colorbar": {
              "outlinewidth": 0,
              "ticks": ""
             }
            },
            "type": "scatterpolargl"
           }
          ],
          "scatterternary": [
           {
            "marker": {
             "colorbar": {
              "outlinewidth": 0,
              "ticks": ""
             }
            },
            "type": "scatterternary"
           }
          ],
          "surface": [
           {
            "colorbar": {
             "outlinewidth": 0,
             "ticks": ""
            },
            "colorscale": [
             [
              0,
              "#0d0887"
             ],
             [
              0.1111111111111111,
              "#46039f"
             ],
             [
              0.2222222222222222,
              "#7201a8"
             ],
             [
              0.3333333333333333,
              "#9c179e"
             ],
             [
              0.4444444444444444,
              "#bd3786"
             ],
             [
              0.5555555555555556,
              "#d8576b"
             ],
             [
              0.6666666666666666,
              "#ed7953"
             ],
             [
              0.7777777777777778,
              "#fb9f3a"
             ],
             [
              0.8888888888888888,
              "#fdca26"
             ],
             [
              1,
              "#f0f921"
             ]
            ],
            "type": "surface"
           }
          ],
          "table": [
           {
            "cells": {
             "fill": {
              "color": "#EBF0F8"
             },
             "line": {
              "color": "white"
             }
            },
            "header": {
             "fill": {
              "color": "#C8D4E3"
             },
             "line": {
              "color": "white"
             }
            },
            "type": "table"
           }
          ]
         },
         "layout": {
          "annotationdefaults": {
           "arrowcolor": "#2a3f5f",
           "arrowhead": 0,
           "arrowwidth": 1
          },
          "autotypenumbers": "strict",
          "coloraxis": {
           "colorbar": {
            "outlinewidth": 0,
            "ticks": ""
           }
          },
          "colorscale": {
           "diverging": [
            [
             0,
             "#8e0152"
            ],
            [
             0.1,
             "#c51b7d"
            ],
            [
             0.2,
             "#de77ae"
            ],
            [
             0.3,
             "#f1b6da"
            ],
            [
             0.4,
             "#fde0ef"
            ],
            [
             0.5,
             "#f7f7f7"
            ],
            [
             0.6,
             "#e6f5d0"
            ],
            [
             0.7,
             "#b8e186"
            ],
            [
             0.8,
             "#7fbc41"
            ],
            [
             0.9,
             "#4d9221"
            ],
            [
             1,
             "#276419"
            ]
           ],
           "sequential": [
            [
             0,
             "#0d0887"
            ],
            [
             0.1111111111111111,
             "#46039f"
            ],
            [
             0.2222222222222222,
             "#7201a8"
            ],
            [
             0.3333333333333333,
             "#9c179e"
            ],
            [
             0.4444444444444444,
             "#bd3786"
            ],
            [
             0.5555555555555556,
             "#d8576b"
            ],
            [
             0.6666666666666666,
             "#ed7953"
            ],
            [
             0.7777777777777778,
             "#fb9f3a"
            ],
            [
             0.8888888888888888,
             "#fdca26"
            ],
            [
             1,
             "#f0f921"
            ]
           ],
           "sequentialminus": [
            [
             0,
             "#0d0887"
            ],
            [
             0.1111111111111111,
             "#46039f"
            ],
            [
             0.2222222222222222,
             "#7201a8"
            ],
            [
             0.3333333333333333,
             "#9c179e"
            ],
            [
             0.4444444444444444,
             "#bd3786"
            ],
            [
             0.5555555555555556,
             "#d8576b"
            ],
            [
             0.6666666666666666,
             "#ed7953"
            ],
            [
             0.7777777777777778,
             "#fb9f3a"
            ],
            [
             0.8888888888888888,
             "#fdca26"
            ],
            [
             1,
             "#f0f921"
            ]
           ]
          },
          "colorway": [
           "#636efa",
           "#EF553B",
           "#00cc96",
           "#ab63fa",
           "#FFA15A",
           "#19d3f3",
           "#FF6692",
           "#B6E880",
           "#FF97FF",
           "#FECB52"
          ],
          "font": {
           "color": "#2a3f5f"
          },
          "geo": {
           "bgcolor": "white",
           "lakecolor": "white",
           "landcolor": "#E5ECF6",
           "showlakes": true,
           "showland": true,
           "subunitcolor": "white"
          },
          "hoverlabel": {
           "align": "left"
          },
          "hovermode": "closest",
          "mapbox": {
           "style": "light"
          },
          "paper_bgcolor": "white",
          "plot_bgcolor": "#E5ECF6",
          "polar": {
           "angularaxis": {
            "gridcolor": "white",
            "linecolor": "white",
            "ticks": ""
           },
           "bgcolor": "#E5ECF6",
           "radialaxis": {
            "gridcolor": "white",
            "linecolor": "white",
            "ticks": ""
           }
          },
          "scene": {
           "xaxis": {
            "backgroundcolor": "#E5ECF6",
            "gridcolor": "white",
            "gridwidth": 2,
            "linecolor": "white",
            "showbackground": true,
            "ticks": "",
            "zerolinecolor": "white"
           },
           "yaxis": {
            "backgroundcolor": "#E5ECF6",
            "gridcolor": "white",
            "gridwidth": 2,
            "linecolor": "white",
            "showbackground": true,
            "ticks": "",
            "zerolinecolor": "white"
           },
           "zaxis": {
            "backgroundcolor": "#E5ECF6",
            "gridcolor": "white",
            "gridwidth": 2,
            "linecolor": "white",
            "showbackground": true,
            "ticks": "",
            "zerolinecolor": "white"
           }
          },
          "shapedefaults": {
           "line": {
            "color": "#2a3f5f"
           }
          },
          "ternary": {
           "aaxis": {
            "gridcolor": "white",
            "linecolor": "white",
            "ticks": ""
           },
           "baxis": {
            "gridcolor": "white",
            "linecolor": "white",
            "ticks": ""
           },
           "bgcolor": "#E5ECF6",
           "caxis": {
            "gridcolor": "white",
            "linecolor": "white",
            "ticks": ""
           }
          },
          "title": {
           "x": 0.05
          },
          "xaxis": {
           "automargin": true,
           "gridcolor": "white",
           "linecolor": "white",
           "ticks": "",
           "title": {
            "standoff": 15
           },
           "zerolinecolor": "white",
           "zerolinewidth": 2
          },
          "yaxis": {
           "automargin": true,
           "gridcolor": "white",
           "linecolor": "white",
           "ticks": "",
           "title": {
            "standoff": 15
           },
           "zerolinecolor": "white",
           "zerolinewidth": 2
          }
         }
        },
        "width": 500,
        "xaxis": {
         "anchor": "y",
         "domain": [
          0,
          1
         ],
         "title": {
          "text": "umap 1"
         }
        },
        "yaxis": {
         "anchor": "x",
         "domain": [
          0,
          1
         ],
         "title": {
          "text": "umap 2"
         }
        }
       }
      }
     },
     "metadata": {},
     "output_type": "display_data"
    }
   ],
   "source": [
    "# dimensionality reduction and visualization using UMAP\n",
    "\n",
    "um = umap.UMAP()\n",
    "embedded_data_2d = um.fit_transform(embedded_data['embedding'].tolist())\n",
    "\n",
    "color_map = {\n",
    "    '0' : 'purple',\n",
    "    '1' : 'yellow'\n",
    "}\n",
    "\n",
    "fig = px.scatter(x = embedded_data_2d[:, 0], y = embedded_data_2d[:, 1], color = labels['Response'], color_discrete_map = color_map, width = 500, height = 400)\n",
    "fig.update_layout(xaxis_title = 'umap 1', yaxis_title = 'umap 2')\n",
    "\n",
    "fig.show()\n",
    "# requires Kaleido installation\n",
    "fig.write_image(\"../figures/GSE910_embeddings_umap.png\")"
   ]
  },
  {
   "cell_type": "code",
   "execution_count": 9,
   "metadata": {},
   "outputs": [
    {
     "name": "stdout",
     "output_type": "stream",
     "text": [
      "Training accuracy before hyperparameter optimization: 0.5432098765432098\n",
      "Test set accuracy before hyperparameter optimization: 0.45714285714285713\n"
     ]
    }
   ],
   "source": [
    "# Train a logistic regression model using the embeddings before optimizing hyperparameters\n",
    "X_train, X_test, y_train, y_test = train_test_split(embedded_data['embedding'].tolist(), labels['Response'], test_size = 0.3, random_state=1234)\n",
    "logreg = LogisticRegression()\n",
    "logreg.fit(X_train, y_train)\n",
    "y_pred = logreg.predict(X_train)\n",
    "training_accuracy = accuracy_score(y_pred, y_train)\n",
    "y_pred = logreg.predict(X_test)\n",
    "test_accuracy = accuracy_score(y_pred, y_test)\n",
    "print(\"Training accuracy before hyperparameter optimization:\", training_accuracy)\n",
    "print(\"Test set accuracy before hyperparameter optimization:\", test_accuracy)"
   ]
  },
  {
   "cell_type": "code",
   "execution_count": 10,
   "metadata": {},
   "outputs": [
    {
     "name": "stderr",
     "output_type": "stream",
     "text": [
      "/Users/sophiesun/opt/anaconda3/lib/python3.8/site-packages/sklearn/linear_model/_sag.py:350: ConvergenceWarning:\n",
      "\n",
      "The max_iter was reached which means the coef_ did not converge\n",
      "\n",
      "/Users/sophiesun/opt/anaconda3/lib/python3.8/site-packages/sklearn/linear_model/_sag.py:350: ConvergenceWarning:\n",
      "\n",
      "The max_iter was reached which means the coef_ did not converge\n",
      "\n",
      "/Users/sophiesun/opt/anaconda3/lib/python3.8/site-packages/sklearn/linear_model/_sag.py:350: ConvergenceWarning:\n",
      "\n",
      "The max_iter was reached which means the coef_ did not converge\n",
      "\n",
      "/Users/sophiesun/opt/anaconda3/lib/python3.8/site-packages/sklearn/linear_model/_sag.py:350: ConvergenceWarning:\n",
      "\n",
      "The max_iter was reached which means the coef_ did not converge\n",
      "\n",
      "/Users/sophiesun/opt/anaconda3/lib/python3.8/site-packages/sklearn/linear_model/_sag.py:350: ConvergenceWarning:\n",
      "\n",
      "The max_iter was reached which means the coef_ did not converge\n",
      "\n",
      "/Users/sophiesun/opt/anaconda3/lib/python3.8/site-packages/sklearn/linear_model/_sag.py:350: ConvergenceWarning:\n",
      "\n",
      "The max_iter was reached which means the coef_ did not converge\n",
      "\n",
      "/Users/sophiesun/opt/anaconda3/lib/python3.8/site-packages/sklearn/linear_model/_sag.py:350: ConvergenceWarning:\n",
      "\n",
      "The max_iter was reached which means the coef_ did not converge\n",
      "\n",
      "/Users/sophiesun/opt/anaconda3/lib/python3.8/site-packages/sklearn/linear_model/_sag.py:350: ConvergenceWarning:\n",
      "\n",
      "The max_iter was reached which means the coef_ did not converge\n",
      "\n",
      "/Users/sophiesun/opt/anaconda3/lib/python3.8/site-packages/sklearn/linear_model/_sag.py:350: ConvergenceWarning:\n",
      "\n",
      "The max_iter was reached which means the coef_ did not converge\n",
      "\n"
     ]
    },
    {
     "name": "stdout",
     "output_type": "stream",
     "text": [
      "Best hyperparameters: {'C': 1000, 'max_iter': 1000, 'solver': 'liblinear'}\n"
     ]
    },
    {
     "name": "stderr",
     "output_type": "stream",
     "text": [
      "/Users/sophiesun/opt/anaconda3/lib/python3.8/site-packages/sklearn/linear_model/_sag.py:350: ConvergenceWarning:\n",
      "\n",
      "The max_iter was reached which means the coef_ did not converge\n",
      "\n"
     ]
    }
   ],
   "source": [
    "# find the best hyperparameters for an L1 regularized LogReg model\n",
    "hyperparameters = {\n",
    "    'C': [0.1, 1, 10, 100, 1000],\n",
    "    'solver': ['liblinear', 'saga'],\n",
    "    'max_iter': [1000]\n",
    "}\n",
    "\n",
    "grid_search = GridSearchCV(LogisticRegression(penalty=\"l1\"), hyperparameters,  cv=5, scoring='accuracy')\n",
    "grid_search.fit(X_train, y_train)\n",
    "\n",
    "best_params = grid_search.best_params_\n",
    "best_model = grid_search.best_estimator_\n",
    "\n",
    "print(\"Best hyperparameters:\", best_params)"
   ]
  },
  {
   "cell_type": "code",
   "execution_count": 36,
   "metadata": {},
   "outputs": [
    {
     "name": "stdout",
     "output_type": "stream",
     "text": [
      "Training accuracy after hyperparameter optimization: 1.0\n",
      "Test set accuracy after hyperparameter optimization: 0.4857142857142857\n"
     ]
    }
   ],
   "source": [
    "# Train a logistic regression model using the top 2 PCAs after optimizing hyperparameters\n",
    "y_pred = best_model.predict(X_train)\n",
    "training_accuracy = accuracy_score(y_pred, y_train)\n",
    "y_pred = best_model.predict(X_test)\n",
    "test_accuracy = accuracy_score(y_pred, y_test)\n",
    "\n",
    "print(\"Training accuracy after hyperparameter optimization:\", training_accuracy)\n",
    "print(\"Test set accuracy after hyperparameter optimization:\", test_accuracy)"
   ]
  },
  {
   "cell_type": "code",
   "execution_count": 38,
   "metadata": {},
   "outputs": [],
   "source": [
    "# export cluster assignments\n",
    "\n",
    "clusters_embedding = pd.concat([pd.DataFrame(y_pred, columns = ['y_pred']), pd.DataFrame(y_test.to_list(), columns = ['y_test'])], axis = 1)\n",
    "\n",
    "clusters_embedding.to_csv('../data/clusters_embedding.csv', index = False)\n",
    "\n",
    "# export data for L1 log reg\n",
    "embedded_data['embedding'].to_csv('../data/embedded_data.csv', index = False)"
   ]
  }
 ],
 "metadata": {
  "kernelspec": {
   "display_name": "base",
   "language": "python",
   "name": "python3"
  },
  "language_info": {
   "codemirror_mode": {
    "name": "ipython",
    "version": 3
   },
   "file_extension": ".py",
   "mimetype": "text/x-python",
   "name": "python",
   "nbconvert_exporter": "python",
   "pygments_lexer": "ipython3",
   "version": "3.8.5"
  }
 },
 "nbformat": 4,
 "nbformat_minor": 2
}
