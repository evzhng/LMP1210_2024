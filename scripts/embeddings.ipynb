{
 "cells": [
  {
   "cell_type": "code",
   "execution_count": null,
   "metadata": {},
   "outputs": [],
   "source": [
    "# pip install -U openai scipy plotly-express scikit-learn umap-learn\n",
    "# pip install numpy == 1.23.0 # umap requires an older version of numpy"
   ]
  },
  {
   "cell_type": "code",
   "execution_count": 93,
   "metadata": {},
   "outputs": [],
   "source": [
    "import os\n",
    "import pandas as pd\n",
    "import numpy as np\n",
    "from openai import OpenAI\n",
    "from sklearn.cluster import KMeans\n",
    "from scipy.spatial import distance\n",
    "import plotly.express as px\n",
    "import umap.umap_ as umap\n",
    "from sklearn.preprocessing import LabelEncoder\n",
    "from sklearn.model_selection import train_test_split\n",
    "from sklearn.metrics import accuracy_score\n",
    "from sklearn.linear_model import LogisticRegression\n",
    "from sklearn.model_selection import GridSearchCV"
   ]
  },
  {
   "cell_type": "code",
   "execution_count": 110,
   "metadata": {},
   "outputs": [
    {
     "name": "stdout",
     "output_type": "stream",
     "text": [
      "        RN7SL2        FTL     MT-CO3     MT-CO2    MT-ATP8    MT-ATP6  \\\n",
      "0    15.038124  10.267509   6.096489   6.029887   4.996209   4.828822   \n",
      "1    15.313833   9.622666   9.860376   9.738486   9.475843   9.217649   \n",
      "2    16.739384   9.744946  10.067124  10.726867   8.760113   8.636872   \n",
      "3     6.150741  11.761988  11.113195  10.876473   9.272044  10.677880   \n",
      "4     6.737094  11.851334  10.608619  10.246659   8.657706   9.951498   \n",
      "..         ...        ...        ...        ...        ...        ...   \n",
      "111   4.355103  11.250609  13.168966  12.982082  12.444777  12.334313   \n",
      "112   6.131375   9.797686  13.330152  13.433663  13.033499  13.012454   \n",
      "113   4.201878  10.747962  13.237784  12.853114  12.543654  12.216011   \n",
      "114   7.196152  11.728989  13.865689  14.082163  13.449037  13.490130   \n",
      "115   5.810201  11.861459  13.483685  14.015472  12.733038  12.980847   \n",
      "\n",
      "        MT-CO1       IGKC     MT-ND4    MT-RNR2  ...      CTSB     IGKJ1  \\\n",
      "0     7.590253   5.647115   5.412997   5.024420  ...  7.253257  0.000000   \n",
      "1    10.936979   5.360864   8.928858   7.789543  ...  7.433607  0.000000   \n",
      "2    11.444593   9.147465   8.696023   6.988178  ...  5.344500  1.691215   \n",
      "3    11.052563  10.066972  10.668391   9.690645  ...  7.083906  4.836296   \n",
      "4    10.451394  10.013964   9.771394   9.228568  ...  7.081397  2.933361   \n",
      "..         ...        ...        ...        ...  ...       ...       ...   \n",
      "111  13.182728  10.708819  12.691640  12.482063  ...  7.754951  5.336761   \n",
      "112  13.181086   9.660553  12.633035  12.026346  ...  7.186584  4.257262   \n",
      "113  13.232737   7.957063  12.573261  12.525359  ...  7.354137  2.412854   \n",
      "114  13.789122  11.016040  13.358010  13.648787  ...  8.103934  4.390403   \n",
      "115  13.707471  13.056523  13.238818  13.404275  ...  8.012906  6.055888   \n",
      "\n",
      "       SPRR2E   IGKV4-1  TFF1        HP      HLA-A   IGHV3-7  HLA-DRB1  \\\n",
      "0    0.000000  0.217787   0.0  0.474323   9.465274  0.000000  8.906496   \n",
      "1    0.185674  3.118167   0.0  0.052839   7.720830  0.000000  5.987946   \n",
      "2    0.000000  0.558147   0.0  0.066288   3.604023  0.259431  5.674888   \n",
      "3    0.000000  5.996376   0.0  0.429230   8.847922  2.360120  8.026241   \n",
      "4    4.917178  4.459239   0.0  0.128755   9.050430  4.492624  8.053082   \n",
      "..        ...       ...   ...       ...        ...       ...       ...   \n",
      "111  0.270362  6.296828   0.0  1.004117   9.659730  4.894998  9.073784   \n",
      "112  7.285802  4.433527   0.0  3.291759   8.372716  3.387898  7.967589   \n",
      "113  0.373331  4.599007   0.0  0.521399   9.275573  2.136633  8.672348   \n",
      "114  0.000000  5.742371   0.0  0.064506  10.039392  6.576920  7.145275   \n",
      "115  0.000000  8.117690   0.0  0.228441   9.577390  7.690226  7.570892   \n",
      "\n",
      "       KRTDAP  \n",
      "0    0.000000  \n",
      "1    0.204788  \n",
      "2    0.000000  \n",
      "3    0.132312  \n",
      "4    5.337647  \n",
      "..        ...  \n",
      "111  0.883613  \n",
      "112  7.162938  \n",
      "113  1.151287  \n",
      "114  0.004328  \n",
      "115  0.000000  \n",
      "\n",
      "[116 rows x 100 columns]\n",
      "     Unnamed: 0  Response\n",
      "0             0         1\n",
      "1             1         0\n",
      "2             2         0\n",
      "3             3         0\n",
      "4             4         0\n",
      "..          ...       ...\n",
      "111         111         1\n",
      "112         112         1\n",
      "113         113         1\n",
      "114         114         1\n",
      "115         115         1\n",
      "\n",
      "[116 rows x 2 columns]\n"
     ]
    }
   ],
   "source": [
    "'''\n",
    "Performs AI embedding on data\n",
    "'''\n",
    "\n",
    "# load data\n",
    "\n",
    "data = pd.read_csv('../data/GSE910_SMOTE_log2_top100.csv')\n",
    "data = data.drop(data.columns[0], axis =1)\n",
    "print(data)\n",
    "\n",
    "labels = pd.read_csv('../data/GSE910_SMOTE_labels_top100.csv')\n",
    "print(labels)\n",
    "\n"
   ]
  },
  {
   "cell_type": "code",
   "execution_count": null,
   "metadata": {},
   "outputs": [],
   "source": [
    "# openAI API key\n",
    "\n",
    "client = OpenAI(\n",
    "  api_key='',  \n",
    ")\n"
   ]
  },
  {
   "cell_type": "code",
   "execution_count": 106,
   "metadata": {},
   "outputs": [],
   "source": [
    "# embedding transcriptomic data\n",
    "\n",
    "def get_embedding(df):\n",
    "\n",
    "\t# model\n",
    "\t\n",
    "\tresponse = client.embeddings.create(\n",
    "    \tmodel= 'text-embedding-ada-002',\n",
    "    \tinput=[df]\n",
    "\t)\n",
    "\t# Get embedded data\n",
    "\t\n",
    "\tembedding = response.data[0].embedding\n",
    "    \n",
    "\treturn embedding"
   ]
  },
  {
   "cell_type": "code",
   "execution_count": 107,
   "metadata": {},
   "outputs": [
    {
     "name": "stdout",
     "output_type": "stream",
     "text": [
      "(116, 99)\n",
      "0      10.26750924509026 6.096489077610898 6.02988704...\n",
      "1      9.6226660795167 9.86037615653056 9.73848598171...\n",
      "2      9.744945814413533 10.06712393608517 10.7268670...\n",
      "3      11.761988404115765 11.113195214781117 10.87647...\n",
      "4      11.851334460576384 10.608618955940033 10.24665...\n",
      "                             ...                        \n",
      "111    11.250608516979582 13.168966216330713 12.98208...\n",
      "112    9.797685814655683 13.330152007589266 13.433663...\n",
      "113    10.74796235187887 13.237783506785176 12.853114...\n",
      "114    11.728988798545844 13.865689050483866 14.08216...\n",
      "115    11.861458887347524 13.483685277296948 14.01547...\n",
      "Name: concatenated, Length: 116, dtype: object\n"
     ]
    }
   ],
   "source": [
    "# drop first column of sample IDs\n",
    "\n",
    "embedded_data = data.drop(data.columns[0], axis = 1)\n",
    "print(embedded_data.shape)\n",
    "\n",
    "# change numeric to str and concatenate everything by row (sentence-like input structure required)\n",
    "\n",
    "embedded_data['concatenated'] = embedded_data.astype(str).apply(lambda row: ' '.join(row), axis = 1)\n",
    "print(embedded_data['concatenated'])\n",
    "\n",
    "# apply embeddings\n",
    "\n",
    "embedded_data['embedding'] = embedded_data['concatenated'].apply(get_embedding)\n",
    "\n"
   ]
  },
  {
   "cell_type": "code",
   "execution_count": 108,
   "metadata": {},
   "outputs": [],
   "source": [
    "# run kmeans based on embeddings \n",
    "\n",
    "# 2 clusters for responder, non-responder\n",
    "\n",
    "kmeans = KMeans(n_clusters = 2, n_init = 'auto')\n",
    "model = kmeans.fit(embedded_data['embedding'].tolist())"
   ]
  },
  {
   "cell_type": "code",
   "execution_count": 111,
   "metadata": {},
   "outputs": [
    {
     "data": {
      "application/vnd.plotly.v1+json": {
       "config": {
        "plotlyServerURL": "https://plot.ly"
       },
       "data": [
        {
         "hovertemplate": "color=1<br>symbol=1<br>x=%{x}<br>y=%{y}<extra></extra>",
         "legendgroup": "1, 1",
         "marker": {
          "color": "blue",
          "symbol": "circle"
         },
         "mode": "markers",
         "name": "1, 1",
         "orientation": "v",
         "showlegend": true,
         "type": "scatter",
         "x": [
          1.1479750871658325,
          2.5262084007263184,
          1.3832765817642212,
          4.210418224334717,
          2.374516725540161,
          2.162964105606079,
          2.6511316299438477,
          4.539765357971191,
          2.260848045349121,
          1.980153203010559,
          2.48313045501709,
          4.419662952423096,
          1.7428717613220215,
          4.167179107666016,
          4.0001630783081055,
          1.9145915508270264,
          1.1511802673339844,
          2.1259188652038574,
          2.2937850952148438,
          1.2243009805679321,
          1.8505357503890991,
          2.4237265586853027,
          2.3535687923431396
         ],
         "xaxis": "x",
         "y": [
          5.385420322418213,
          11.561080932617188,
          5.7940239906311035,
          11.119379043579102,
          11.804028511047363,
          10.09902572631836,
          11.612468719482422,
          9.598151206970215,
          9.938444137573242,
          11.857138633728027,
          11.12315559387207,
          9.963845252990723,
          10.946701049804688,
          11.159854888916016,
          11.076396942138672,
          11.109695434570312,
          5.60128927230835,
          10.567200660705566,
          11.843716621398926,
          5.92340087890625,
          11.467401504516602,
          9.639338493347168,
          9.582798957824707
         ],
         "yaxis": "y"
        },
        {
         "hovertemplate": "color=1<br>symbol=0<br>x=%{x}<br>y=%{y}<extra></extra>",
         "legendgroup": "1, 0",
         "marker": {
          "color": "blue",
          "symbol": "diamond"
         },
         "mode": "markers",
         "name": "1, 0",
         "orientation": "v",
         "showlegend": true,
         "type": "scatter",
         "x": [
          0.9276221990585327,
          1.044403076171875,
          0.821467936038971,
          0.9384918212890625,
          4.434165000915527,
          2.0649890899658203,
          2.2125661373138428,
          3.378817558288574,
          3.6060328483581543,
          5.51920747756958,
          3.8854706287384033,
          2.713280200958252,
          3.7927911281585693,
          3.793436050415039,
          0.9988101124763489,
          3.8502562046051025,
          1.830746054649353,
          3.6173553466796875,
          2.271052122116089,
          3.649900436401367,
          4.517490863800049,
          3.740334987640381,
          2.050818920135498,
          4.3135457038879395,
          2.0836610794067383
         ],
         "xaxis": "x",
         "y": [
          5.5303635597229,
          5.632873058319092,
          6.1148200035095215,
          5.93436861038208,
          10.51735782623291,
          11.649897575378418,
          11.467367172241211,
          10.895668983459473,
          10.619641304016113,
          9.338056564331055,
          10.467527389526367,
          9.410042762756348,
          10.2080659866333,
          10.52567195892334,
          6.202535629272461,
          11.271843910217285,
          11.154133796691895,
          10.304632186889648,
          11.591650009155273,
          10.683935165405273,
          9.637421607971191,
          10.249542236328125,
          11.406266212463379,
          10.608734130859375,
          11.587653160095215
         ],
         "yaxis": "y"
        },
        {
         "hovertemplate": "color=0<br>symbol=1<br>x=%{x}<br>y=%{y}<extra></extra>",
         "legendgroup": "0, 1",
         "marker": {
          "color": "orange",
          "symbol": "circle"
         },
         "mode": "markers",
         "name": "0, 1",
         "orientation": "v",
         "showlegend": true,
         "type": "scatter",
         "x": [
          2.8778347969055176,
          5.2042975425720215,
          5.176353454589844,
          5.443170547485352,
          5.414639472961426,
          4.472357273101807,
          5.84503173828125,
          3.0425989627838135,
          0.6189081072807312,
          6.354199409484863,
          3.1396591663360596,
          2.7083499431610107,
          6.04176664352417,
          0.7634230256080627,
          5.979573726654053,
          5.366925239562988,
          0.7631099224090576,
          3.314246416091919,
          2.580894947052002,
          2.0974280834198,
          0.7761170268058777,
          6.1747212409973145,
          6.129446983337402,
          5.832088947296143,
          0.9378715753555298,
          6.167458534240723,
          4.02864408493042,
          5.740663051605225,
          3.169623613357544,
          2.922445058822632,
          5.323296546936035,
          2.80684494972229,
          2.101785182952881,
          5.422945499420166,
          5.01262092590332
         ],
         "xaxis": "x",
         "y": [
          7.075667381286621,
          9.158308982849121,
          7.966055393218994,
          7.430192947387695,
          8.074841499328613,
          7.502175807952881,
          7.336831092834473,
          8.11608600616455,
          7.04473876953125,
          7.754032135009766,
          7.1498823165893555,
          7.783672332763672,
          8.38205623626709,
          7.006665229797363,
          7.763814926147461,
          8.846344947814941,
          7.163051605224609,
          7.204952239990234,
          7.077979564666748,
          7.004278659820557,
          7.315361022949219,
          8.20523452758789,
          7.978052139282227,
          8.559720993041992,
          7.178454875946045,
          7.572795867919922,
          9.75086784362793,
          8.207393646240234,
          7.781050682067871,
          7.4143548011779785,
          7.833332538604736,
          7.322891712188721,
          7.519740581512451,
          8.201465606689453,
          7.523869037628174
         ],
         "yaxis": "y"
        },
        {
         "hovertemplate": "color=0<br>symbol=0<br>x=%{x}<br>y=%{y}<extra></extra>",
         "legendgroup": "0, 0",
         "marker": {
          "color": "orange",
          "symbol": "diamond"
         },
         "mode": "markers",
         "name": "0, 0",
         "orientation": "v",
         "showlegend": true,
         "type": "scatter",
         "x": [
          2.5732598304748535,
          0.9002330303192139,
          5.773117542266846,
          5.973086833953857,
          0.6571491360664368,
          4.343055248260498,
          4.330630302429199,
          3.320683240890503,
          4.654498100280762,
          5.465502738952637,
          0.8651567697525024,
          4.132511138916016,
          5.395820140838623,
          2.796306848526001,
          6.232058048248291,
          5.703723907470703,
          3.898256540298462,
          3.153496742248535,
          2.587611436843872,
          1.4081242084503174,
          3.070261001586914,
          2.240286350250244,
          2.8044016361236572,
          1.2431031465530396,
          2.192103624343872,
          4.691625118255615,
          4.798913478851318,
          4.643696308135986,
          4.399306297302246,
          1.7115082740783691,
          3.2449135780334473,
          4.955128192901611,
          6.080672264099121
         ],
         "xaxis": "x",
         "y": [
          7.930952548980713,
          6.546626567840576,
          7.520900726318359,
          8.448091506958008,
          6.824280738830566,
          7.659529209136963,
          9.197428703308105,
          7.330918312072754,
          7.6802167892456055,
          7.9877800941467285,
          7.263049602508545,
          7.798826217651367,
          7.590734004974365,
          8.158524513244629,
          7.583148956298828,
          7.393743991851807,
          7.182359218597412,
          7.497462749481201,
          7.079410552978516,
          7.134056568145752,
          6.899266719818115,
          7.375800132751465,
          7.583254337310791,
          7.374386787414551,
          7.383168697357178,
          7.963037490844727,
          9.13088607788086,
          9.350492477416992,
          7.808197975158691,
          7.326120853424072,
          6.990743637084961,
          7.180586338043213,
          8.019184112548828
         ],
         "yaxis": "y"
        }
       ],
       "layout": {
        "legend": {
         "title": {
          "text": "color, symbol"
         },
         "tracegroupgap": 0
        },
        "margin": {
         "t": 60
        },
        "template": {
         "data": {
          "bar": [
           {
            "error_x": {
             "color": "#2a3f5f"
            },
            "error_y": {
             "color": "#2a3f5f"
            },
            "marker": {
             "line": {
              "color": "#E5ECF6",
              "width": 0.5
             },
             "pattern": {
              "fillmode": "overlay",
              "size": 10,
              "solidity": 0.2
             }
            },
            "type": "bar"
           }
          ],
          "barpolar": [
           {
            "marker": {
             "line": {
              "color": "#E5ECF6",
              "width": 0.5
             },
             "pattern": {
              "fillmode": "overlay",
              "size": 10,
              "solidity": 0.2
             }
            },
            "type": "barpolar"
           }
          ],
          "carpet": [
           {
            "aaxis": {
             "endlinecolor": "#2a3f5f",
             "gridcolor": "white",
             "linecolor": "white",
             "minorgridcolor": "white",
             "startlinecolor": "#2a3f5f"
            },
            "baxis": {
             "endlinecolor": "#2a3f5f",
             "gridcolor": "white",
             "linecolor": "white",
             "minorgridcolor": "white",
             "startlinecolor": "#2a3f5f"
            },
            "type": "carpet"
           }
          ],
          "choropleth": [
           {
            "colorbar": {
             "outlinewidth": 0,
             "ticks": ""
            },
            "type": "choropleth"
           }
          ],
          "contour": [
           {
            "colorbar": {
             "outlinewidth": 0,
             "ticks": ""
            },
            "colorscale": [
             [
              0,
              "#0d0887"
             ],
             [
              0.1111111111111111,
              "#46039f"
             ],
             [
              0.2222222222222222,
              "#7201a8"
             ],
             [
              0.3333333333333333,
              "#9c179e"
             ],
             [
              0.4444444444444444,
              "#bd3786"
             ],
             [
              0.5555555555555556,
              "#d8576b"
             ],
             [
              0.6666666666666666,
              "#ed7953"
             ],
             [
              0.7777777777777778,
              "#fb9f3a"
             ],
             [
              0.8888888888888888,
              "#fdca26"
             ],
             [
              1,
              "#f0f921"
             ]
            ],
            "type": "contour"
           }
          ],
          "contourcarpet": [
           {
            "colorbar": {
             "outlinewidth": 0,
             "ticks": ""
            },
            "type": "contourcarpet"
           }
          ],
          "heatmap": [
           {
            "colorbar": {
             "outlinewidth": 0,
             "ticks": ""
            },
            "colorscale": [
             [
              0,
              "#0d0887"
             ],
             [
              0.1111111111111111,
              "#46039f"
             ],
             [
              0.2222222222222222,
              "#7201a8"
             ],
             [
              0.3333333333333333,
              "#9c179e"
             ],
             [
              0.4444444444444444,
              "#bd3786"
             ],
             [
              0.5555555555555556,
              "#d8576b"
             ],
             [
              0.6666666666666666,
              "#ed7953"
             ],
             [
              0.7777777777777778,
              "#fb9f3a"
             ],
             [
              0.8888888888888888,
              "#fdca26"
             ],
             [
              1,
              "#f0f921"
             ]
            ],
            "type": "heatmap"
           }
          ],
          "heatmapgl": [
           {
            "colorbar": {
             "outlinewidth": 0,
             "ticks": ""
            },
            "colorscale": [
             [
              0,
              "#0d0887"
             ],
             [
              0.1111111111111111,
              "#46039f"
             ],
             [
              0.2222222222222222,
              "#7201a8"
             ],
             [
              0.3333333333333333,
              "#9c179e"
             ],
             [
              0.4444444444444444,
              "#bd3786"
             ],
             [
              0.5555555555555556,
              "#d8576b"
             ],
             [
              0.6666666666666666,
              "#ed7953"
             ],
             [
              0.7777777777777778,
              "#fb9f3a"
             ],
             [
              0.8888888888888888,
              "#fdca26"
             ],
             [
              1,
              "#f0f921"
             ]
            ],
            "type": "heatmapgl"
           }
          ],
          "histogram": [
           {
            "marker": {
             "pattern": {
              "fillmode": "overlay",
              "size": 10,
              "solidity": 0.2
             }
            },
            "type": "histogram"
           }
          ],
          "histogram2d": [
           {
            "colorbar": {
             "outlinewidth": 0,
             "ticks": ""
            },
            "colorscale": [
             [
              0,
              "#0d0887"
             ],
             [
              0.1111111111111111,
              "#46039f"
             ],
             [
              0.2222222222222222,
              "#7201a8"
             ],
             [
              0.3333333333333333,
              "#9c179e"
             ],
             [
              0.4444444444444444,
              "#bd3786"
             ],
             [
              0.5555555555555556,
              "#d8576b"
             ],
             [
              0.6666666666666666,
              "#ed7953"
             ],
             [
              0.7777777777777778,
              "#fb9f3a"
             ],
             [
              0.8888888888888888,
              "#fdca26"
             ],
             [
              1,
              "#f0f921"
             ]
            ],
            "type": "histogram2d"
           }
          ],
          "histogram2dcontour": [
           {
            "colorbar": {
             "outlinewidth": 0,
             "ticks": ""
            },
            "colorscale": [
             [
              0,
              "#0d0887"
             ],
             [
              0.1111111111111111,
              "#46039f"
             ],
             [
              0.2222222222222222,
              "#7201a8"
             ],
             [
              0.3333333333333333,
              "#9c179e"
             ],
             [
              0.4444444444444444,
              "#bd3786"
             ],
             [
              0.5555555555555556,
              "#d8576b"
             ],
             [
              0.6666666666666666,
              "#ed7953"
             ],
             [
              0.7777777777777778,
              "#fb9f3a"
             ],
             [
              0.8888888888888888,
              "#fdca26"
             ],
             [
              1,
              "#f0f921"
             ]
            ],
            "type": "histogram2dcontour"
           }
          ],
          "mesh3d": [
           {
            "colorbar": {
             "outlinewidth": 0,
             "ticks": ""
            },
            "type": "mesh3d"
           }
          ],
          "parcoords": [
           {
            "line": {
             "colorbar": {
              "outlinewidth": 0,
              "ticks": ""
             }
            },
            "type": "parcoords"
           }
          ],
          "pie": [
           {
            "automargin": true,
            "type": "pie"
           }
          ],
          "scatter": [
           {
            "fillpattern": {
             "fillmode": "overlay",
             "size": 10,
             "solidity": 0.2
            },
            "type": "scatter"
           }
          ],
          "scatter3d": [
           {
            "line": {
             "colorbar": {
              "outlinewidth": 0,
              "ticks": ""
             }
            },
            "marker": {
             "colorbar": {
              "outlinewidth": 0,
              "ticks": ""
             }
            },
            "type": "scatter3d"
           }
          ],
          "scattercarpet": [
           {
            "marker": {
             "colorbar": {
              "outlinewidth": 0,
              "ticks": ""
             }
            },
            "type": "scattercarpet"
           }
          ],
          "scattergeo": [
           {
            "marker": {
             "colorbar": {
              "outlinewidth": 0,
              "ticks": ""
             }
            },
            "type": "scattergeo"
           }
          ],
          "scattergl": [
           {
            "marker": {
             "colorbar": {
              "outlinewidth": 0,
              "ticks": ""
             }
            },
            "type": "scattergl"
           }
          ],
          "scattermapbox": [
           {
            "marker": {
             "colorbar": {
              "outlinewidth": 0,
              "ticks": ""
             }
            },
            "type": "scattermapbox"
           }
          ],
          "scatterpolar": [
           {
            "marker": {
             "colorbar": {
              "outlinewidth": 0,
              "ticks": ""
             }
            },
            "type": "scatterpolar"
           }
          ],
          "scatterpolargl": [
           {
            "marker": {
             "colorbar": {
              "outlinewidth": 0,
              "ticks": ""
             }
            },
            "type": "scatterpolargl"
           }
          ],
          "scatterternary": [
           {
            "marker": {
             "colorbar": {
              "outlinewidth": 0,
              "ticks": ""
             }
            },
            "type": "scatterternary"
           }
          ],
          "surface": [
           {
            "colorbar": {
             "outlinewidth": 0,
             "ticks": ""
            },
            "colorscale": [
             [
              0,
              "#0d0887"
             ],
             [
              0.1111111111111111,
              "#46039f"
             ],
             [
              0.2222222222222222,
              "#7201a8"
             ],
             [
              0.3333333333333333,
              "#9c179e"
             ],
             [
              0.4444444444444444,
              "#bd3786"
             ],
             [
              0.5555555555555556,
              "#d8576b"
             ],
             [
              0.6666666666666666,
              "#ed7953"
             ],
             [
              0.7777777777777778,
              "#fb9f3a"
             ],
             [
              0.8888888888888888,
              "#fdca26"
             ],
             [
              1,
              "#f0f921"
             ]
            ],
            "type": "surface"
           }
          ],
          "table": [
           {
            "cells": {
             "fill": {
              "color": "#EBF0F8"
             },
             "line": {
              "color": "white"
             }
            },
            "header": {
             "fill": {
              "color": "#C8D4E3"
             },
             "line": {
              "color": "white"
             }
            },
            "type": "table"
           }
          ]
         },
         "layout": {
          "annotationdefaults": {
           "arrowcolor": "#2a3f5f",
           "arrowhead": 0,
           "arrowwidth": 1
          },
          "autotypenumbers": "strict",
          "coloraxis": {
           "colorbar": {
            "outlinewidth": 0,
            "ticks": ""
           }
          },
          "colorscale": {
           "diverging": [
            [
             0,
             "#8e0152"
            ],
            [
             0.1,
             "#c51b7d"
            ],
            [
             0.2,
             "#de77ae"
            ],
            [
             0.3,
             "#f1b6da"
            ],
            [
             0.4,
             "#fde0ef"
            ],
            [
             0.5,
             "#f7f7f7"
            ],
            [
             0.6,
             "#e6f5d0"
            ],
            [
             0.7,
             "#b8e186"
            ],
            [
             0.8,
             "#7fbc41"
            ],
            [
             0.9,
             "#4d9221"
            ],
            [
             1,
             "#276419"
            ]
           ],
           "sequential": [
            [
             0,
             "#0d0887"
            ],
            [
             0.1111111111111111,
             "#46039f"
            ],
            [
             0.2222222222222222,
             "#7201a8"
            ],
            [
             0.3333333333333333,
             "#9c179e"
            ],
            [
             0.4444444444444444,
             "#bd3786"
            ],
            [
             0.5555555555555556,
             "#d8576b"
            ],
            [
             0.6666666666666666,
             "#ed7953"
            ],
            [
             0.7777777777777778,
             "#fb9f3a"
            ],
            [
             0.8888888888888888,
             "#fdca26"
            ],
            [
             1,
             "#f0f921"
            ]
           ],
           "sequentialminus": [
            [
             0,
             "#0d0887"
            ],
            [
             0.1111111111111111,
             "#46039f"
            ],
            [
             0.2222222222222222,
             "#7201a8"
            ],
            [
             0.3333333333333333,
             "#9c179e"
            ],
            [
             0.4444444444444444,
             "#bd3786"
            ],
            [
             0.5555555555555556,
             "#d8576b"
            ],
            [
             0.6666666666666666,
             "#ed7953"
            ],
            [
             0.7777777777777778,
             "#fb9f3a"
            ],
            [
             0.8888888888888888,
             "#fdca26"
            ],
            [
             1,
             "#f0f921"
            ]
           ]
          },
          "colorway": [
           "#636efa",
           "#EF553B",
           "#00cc96",
           "#ab63fa",
           "#FFA15A",
           "#19d3f3",
           "#FF6692",
           "#B6E880",
           "#FF97FF",
           "#FECB52"
          ],
          "font": {
           "color": "#2a3f5f"
          },
          "geo": {
           "bgcolor": "white",
           "lakecolor": "white",
           "landcolor": "#E5ECF6",
           "showlakes": true,
           "showland": true,
           "subunitcolor": "white"
          },
          "hoverlabel": {
           "align": "left"
          },
          "hovermode": "closest",
          "mapbox": {
           "style": "light"
          },
          "paper_bgcolor": "white",
          "plot_bgcolor": "#E5ECF6",
          "polar": {
           "angularaxis": {
            "gridcolor": "white",
            "linecolor": "white",
            "ticks": ""
           },
           "bgcolor": "#E5ECF6",
           "radialaxis": {
            "gridcolor": "white",
            "linecolor": "white",
            "ticks": ""
           }
          },
          "scene": {
           "xaxis": {
            "backgroundcolor": "#E5ECF6",
            "gridcolor": "white",
            "gridwidth": 2,
            "linecolor": "white",
            "showbackground": true,
            "ticks": "",
            "zerolinecolor": "white"
           },
           "yaxis": {
            "backgroundcolor": "#E5ECF6",
            "gridcolor": "white",
            "gridwidth": 2,
            "linecolor": "white",
            "showbackground": true,
            "ticks": "",
            "zerolinecolor": "white"
           },
           "zaxis": {
            "backgroundcolor": "#E5ECF6",
            "gridcolor": "white",
            "gridwidth": 2,
            "linecolor": "white",
            "showbackground": true,
            "ticks": "",
            "zerolinecolor": "white"
           }
          },
          "shapedefaults": {
           "line": {
            "color": "#2a3f5f"
           }
          },
          "ternary": {
           "aaxis": {
            "gridcolor": "white",
            "linecolor": "white",
            "ticks": ""
           },
           "baxis": {
            "gridcolor": "white",
            "linecolor": "white",
            "ticks": ""
           },
           "bgcolor": "#E5ECF6",
           "caxis": {
            "gridcolor": "white",
            "linecolor": "white",
            "ticks": ""
           }
          },
          "title": {
           "x": 0.05
          },
          "xaxis": {
           "automargin": true,
           "gridcolor": "white",
           "linecolor": "white",
           "ticks": "",
           "title": {
            "standoff": 15
           },
           "zerolinecolor": "white",
           "zerolinewidth": 2
          },
          "yaxis": {
           "automargin": true,
           "gridcolor": "white",
           "linecolor": "white",
           "ticks": "",
           "title": {
            "standoff": 15
           },
           "zerolinecolor": "white",
           "zerolinewidth": 2
          }
         }
        },
        "xaxis": {
         "anchor": "y",
         "domain": [
          0,
          1
         ],
         "title": {
          "text": "umap 1"
         }
        },
        "yaxis": {
         "anchor": "x",
         "domain": [
          0,
          1
         ],
         "title": {
          "text": "umap 2"
         }
        }
       }
      }
     },
     "metadata": {},
     "output_type": "display_data"
    }
   ],
   "source": [
    "# dimensionality reduction and visualization using UMAP\n",
    "\n",
    "um = umap.UMAP()\n",
    "embedded_data_2d = um.fit_transform(embedded_data['embedding'].tolist())\n",
    "\n",
    "color_map = {\n",
    "    '0' : 'orange',\n",
    "    '1' : 'blue'\n",
    "}\n",
    "\n",
    "fig = px.scatter(x = embedded_data_2d[:, 0], y = embedded_data_2d[:, 1], color = model.labels_.astype(str), color_discrete_map = color_map, symbol = labels['Response'])\n",
    "fig.update_layout(xaxis_title = 'umap 1', yaxis_title = 'umap 2')\n",
    "\n",
    "fig.show()"
   ]
  },
  {
   "cell_type": "code",
   "execution_count": 113,
   "metadata": {},
   "outputs": [
    {
     "name": "stdout",
     "output_type": "stream",
     "text": [
      "Training accuracy before hyperparameter optimization: 0.5185185185185185\n",
      "Test set accuracy before hyperparameter optimization: 0.45714285714285713\n"
     ]
    }
   ],
   "source": [
    "# Train a logistic regression model using the embeddings before optimizing hyperparameters\n",
    "X_train, X_test, y_train, y_test = train_test_split(embedded_data_2d, labels['Response'], test_size = 0.3, random_state=1234)\n",
    "logreg = LogisticRegression()\n",
    "logreg.fit(X_train, y_train)\n",
    "y_pred = logreg.predict(X_train)\n",
    "training_accuracy = accuracy_score(y_pred, y_train)\n",
    "y_pred = logreg.predict(X_test)\n",
    "test_accuracy = accuracy_score(y_pred, y_test)\n",
    "print(\"Training accuracy before hyperparameter optimization:\", training_accuracy)\n",
    "print(\"Test set accuracy before hyperparameter optimization:\", test_accuracy)"
   ]
  },
  {
   "cell_type": "code",
   "execution_count": 114,
   "metadata": {},
   "outputs": [
    {
     "name": "stdout",
     "output_type": "stream",
     "text": [
      "Best hyperparameters: {'C': 0.1, 'max_iter': 1000, 'solver': 'liblinear'}\n"
     ]
    }
   ],
   "source": [
    "# find the best hyperparameters for an L1 regularized LogReg model\n",
    "hyperparameters = {\n",
    "    'C': [0.1, 1, 10, 100, 1000],\n",
    "    'solver': ['liblinear', 'saga'],\n",
    "    'max_iter': [1000]\n",
    "}\n",
    "\n",
    "grid_search = GridSearchCV(LogisticRegression(penalty=\"l1\"), hyperparameters,  cv=5, scoring='accuracy')\n",
    "grid_search.fit(X_train, y_train)\n",
    "\n",
    "best_params = grid_search.best_params_\n",
    "best_model = grid_search.best_estimator_\n",
    "\n",
    "print(\"Best hyperparameters:\", best_params)"
   ]
  },
  {
   "cell_type": "code",
   "execution_count": 115,
   "metadata": {},
   "outputs": [
    {
     "name": "stdout",
     "output_type": "stream",
     "text": [
      "Training accuracy after hyperparameter optimization: 0.5185185185185185\n",
      "Test set accuracy after hyperparameter optimization: 0.45714285714285713\n"
     ]
    }
   ],
   "source": [
    "# Train a logistic regression model using the top 2 PCAs after optimizing hyperparameters\n",
    "y_pred = best_model.predict(X_train)\n",
    "training_accuracy = accuracy_score(y_pred, y_train)\n",
    "y_pred = best_model.predict(X_test)\n",
    "test_accuracy = accuracy_score(y_pred, y_test)\n",
    "\n",
    "print(\"Training accuracy after hyperparameter optimization:\", training_accuracy)\n",
    "print(\"Test set accuracy after hyperparameter optimization:\", test_accuracy)"
   ]
  },
  {
   "cell_type": "code",
   "execution_count": 116,
   "metadata": {},
   "outputs": [],
   "source": [
    "# export cluster assignments\n",
    "\n",
    "clusters_embedding = pd.concat([labels, pd.DataFrame(model.labels_, columns = ['cluster'])], axis = 1)\n",
    "\n",
    "clusters_embedding.to_csv('../data/clusters_embedding.csv', index = False)\n",
    "\n",
    "# export data for L1 log reg\n",
    "embedded_data['embedding'].to_csv('../data/embedded_data.csv', index = False)"
   ]
  }
 ],
 "metadata": {
  "kernelspec": {
   "display_name": "base",
   "language": "python",
   "name": "python3"
  },
  "language_info": {
   "codemirror_mode": {
    "name": "ipython",
    "version": 3
   },
   "file_extension": ".py",
   "mimetype": "text/x-python",
   "name": "python",
   "nbconvert_exporter": "python",
   "pygments_lexer": "ipython3",
   "version": "3.8.5"
  }
 },
 "nbformat": 4,
 "nbformat_minor": 2
}
