{
 "cells": [
  {
   "cell_type": "code",
   "execution_count": null,
   "metadata": {},
   "outputs": [],
   "source": [
    "# pip install -U openai scipy plotly-express scikit-learn umap-learn\n",
    "# pip install numpy == 1.23.0 # umap requires an older version of numpy"
   ]
  },
  {
   "cell_type": "code",
   "execution_count": 2,
   "metadata": {},
   "outputs": [],
   "source": [
    "import os\n",
    "import pandas as pd\n",
    "import numpy as np\n",
    "from openai import OpenAI\n",
    "from sklearn.cluster import KMeans\n",
    "from scipy.spatial import distance\n",
    "import plotly.express as px\n",
    "import umap.umap_ as umap\n",
    "from sklearn.preprocessing import LabelEncoder\n",
    "from sklearn.model_selection import train_test_split\n",
    "from sklearn.metrics import accuracy_score\n",
    "from sklearn.linear_model import LogisticRegression\n",
    "from sklearn.model_selection import GridSearchCV"
   ]
  },
  {
   "cell_type": "code",
   "execution_count": 3,
   "metadata": {},
   "outputs": [
    {
     "name": "stdout",
     "output_type": "stream",
     "text": [
      "        RN7SL2        FTL     MT-CO3     MT-CO2    MT-ATP8    MT-ATP6  \\\n",
      "0    15.038124  10.267509   6.096489   6.029887   4.996209   4.828822   \n",
      "1    15.313833   9.622666   9.860376   9.738486   9.475843   9.217649   \n",
      "2    16.739384   9.744946  10.067124  10.726867   8.760113   8.636872   \n",
      "3     6.150741  11.761988  11.113195  10.876473   9.272044  10.677880   \n",
      "4     6.737094  11.851334  10.608619  10.246659   8.657706   9.951498   \n",
      "..         ...        ...        ...        ...        ...        ...   \n",
      "111   4.355103  11.250609  13.168966  12.982082  12.444777  12.334313   \n",
      "112   6.131375   9.797686  13.330152  13.433663  13.033499  13.012454   \n",
      "113   4.201878  10.747962  13.237784  12.853114  12.543654  12.216011   \n",
      "114   7.196152  11.728989  13.865689  14.082163  13.449037  13.490130   \n",
      "115   5.810201  11.861459  13.483685  14.015472  12.733038  12.980847   \n",
      "\n",
      "        MT-CO1       IGKC     MT-ND4    MT-RNR2  ...      CTSB     IGKJ1  \\\n",
      "0     7.590253   5.647115   5.412997   5.024420  ...  7.253257  0.000000   \n",
      "1    10.936979   5.360864   8.928858   7.789543  ...  7.433607  0.000000   \n",
      "2    11.444593   9.147465   8.696023   6.988178  ...  5.344500  1.691215   \n",
      "3    11.052563  10.066972  10.668391   9.690645  ...  7.083906  4.836296   \n",
      "4    10.451394  10.013964   9.771394   9.228568  ...  7.081397  2.933361   \n",
      "..         ...        ...        ...        ...  ...       ...       ...   \n",
      "111  13.182728  10.708819  12.691640  12.482063  ...  7.754951  5.336761   \n",
      "112  13.181086   9.660553  12.633035  12.026346  ...  7.186584  4.257262   \n",
      "113  13.232737   7.957063  12.573261  12.525359  ...  7.354137  2.412854   \n",
      "114  13.789122  11.016040  13.358010  13.648787  ...  8.103934  4.390403   \n",
      "115  13.707471  13.056523  13.238818  13.404275  ...  8.012906  6.055888   \n",
      "\n",
      "       SPRR2E   IGKV4-1  TFF1        HP      HLA-A   IGHV3-7  HLA-DRB1  \\\n",
      "0    0.000000  0.217787   0.0  0.474323   9.465274  0.000000  8.906496   \n",
      "1    0.185674  3.118167   0.0  0.052839   7.720830  0.000000  5.987946   \n",
      "2    0.000000  0.558147   0.0  0.066288   3.604023  0.259431  5.674888   \n",
      "3    0.000000  5.996376   0.0  0.429230   8.847922  2.360120  8.026241   \n",
      "4    4.917178  4.459239   0.0  0.128755   9.050430  4.492624  8.053082   \n",
      "..        ...       ...   ...       ...        ...       ...       ...   \n",
      "111  0.270362  6.296828   0.0  1.004117   9.659730  4.894998  9.073784   \n",
      "112  7.285802  4.433527   0.0  3.291759   8.372716  3.387898  7.967589   \n",
      "113  0.373331  4.599007   0.0  0.521399   9.275573  2.136633  8.672348   \n",
      "114  0.000000  5.742371   0.0  0.064506  10.039392  6.576920  7.145275   \n",
      "115  0.000000  8.117690   0.0  0.228441   9.577390  7.690226  7.570892   \n",
      "\n",
      "       KRTDAP  \n",
      "0    0.000000  \n",
      "1    0.204788  \n",
      "2    0.000000  \n",
      "3    0.132312  \n",
      "4    5.337647  \n",
      "..        ...  \n",
      "111  0.883613  \n",
      "112  7.162938  \n",
      "113  1.151287  \n",
      "114  0.004328  \n",
      "115  0.000000  \n",
      "\n",
      "[116 rows x 100 columns]\n",
      "     Unnamed: 0  Response\n",
      "0             0         1\n",
      "1             1         0\n",
      "2             2         0\n",
      "3             3         0\n",
      "4             4         0\n",
      "..          ...       ...\n",
      "111         111         1\n",
      "112         112         1\n",
      "113         113         1\n",
      "114         114         1\n",
      "115         115         1\n",
      "\n",
      "[116 rows x 2 columns]\n"
     ]
    }
   ],
   "source": [
    "'''\n",
    "Performs AI embedding on data\n",
    "'''\n",
    "\n",
    "# load data\n",
    "\n",
    "data = pd.read_csv('../data/GSE910_SMOTE_log2_top100.csv')\n",
    "data = data.drop(data.columns[0], axis =1)\n",
    "print(data)\n",
    "\n",
    "labels = pd.read_csv('../data/GSE910_SMOTE_labels_top100.csv')\n",
    "print(labels)\n",
    "\n"
   ]
  },
  {
   "cell_type": "code",
   "execution_count": 6,
   "metadata": {},
   "outputs": [],
   "source": [
    "# openAI API key\n",
    "\n",
    "client = OpenAI(\n",
    "  api_key='',  \n",
    ")\n"
   ]
  },
  {
   "cell_type": "code",
   "execution_count": 7,
   "metadata": {},
   "outputs": [],
   "source": [
    "# embedding transcriptomic data\n",
    "\n",
    "def get_embedding(df):\n",
    "\n",
    "\t# model\n",
    "\t\n",
    "\tresponse = client.embeddings.create(\n",
    "    \tmodel= 'text-embedding-ada-002',\n",
    "    \tinput=[df]\n",
    "\t)\n",
    "\t# Get embedded data\n",
    "\t\n",
    "\tembedding = response.data[0].embedding\n",
    "    \n",
    "\treturn embedding"
   ]
  },
  {
   "cell_type": "code",
   "execution_count": 8,
   "metadata": {},
   "outputs": [
    {
     "name": "stdout",
     "output_type": "stream",
     "text": [
      "(116, 99)\n",
      "0      10.26750924509026 6.096489077610898 6.02988704...\n",
      "1      9.6226660795167 9.86037615653056 9.73848598171...\n",
      "2      9.744945814413533 10.06712393608517 10.7268670...\n",
      "3      11.761988404115765 11.113195214781117 10.87647...\n",
      "4      11.851334460576384 10.608618955940033 10.24665...\n",
      "                             ...                        \n",
      "111    11.250608516979582 13.168966216330713 12.98208...\n",
      "112    9.797685814655683 13.330152007589266 13.433663...\n",
      "113    10.74796235187887 13.237783506785176 12.853114...\n",
      "114    11.728988798545844 13.865689050483866 14.08216...\n",
      "115    11.861458887347524 13.483685277296948 14.01547...\n",
      "Name: concatenated, Length: 116, dtype: object\n"
     ]
    }
   ],
   "source": [
    "# drop first column of sample IDs\n",
    "\n",
    "embedded_data = data.drop(data.columns[0], axis = 1)\n",
    "print(embedded_data.shape)\n",
    "\n",
    "# change numeric to str and concatenate everything by row (sentence-like input structure required)\n",
    "\n",
    "embedded_data['concatenated'] = embedded_data.astype(str).apply(lambda row: ' '.join(row), axis = 1)\n",
    "print(embedded_data['concatenated'])\n",
    "\n",
    "# apply embeddings\n",
    "\n",
    "embedded_data['embedding'] = embedded_data['concatenated'].apply(get_embedding)\n",
    "\n"
   ]
  },
  {
   "cell_type": "code",
   "execution_count": 11,
   "metadata": {},
   "outputs": [],
   "source": [
    "# run kmeans based on embeddings \n",
    "\n",
    "# 2 clusters for responder, non-responder\n",
    "\n",
    "kmeans = KMeans(n_clusters = 2, n_init = 'auto')\n",
    "model = kmeans.fit(embedded_data['embedding'].tolist())"
   ]
  },
  {
   "cell_type": "code",
   "execution_count": 25,
   "metadata": {},
   "outputs": [
    {
     "data": {
      "application/vnd.plotly.v1+json": {
       "config": {
        "plotlyServerURL": "https://plot.ly"
       },
       "data": [
        {
         "hovertemplate": "x=%{x}<br>y=%{y}<br>color=%{marker.color}<extra></extra>",
         "legendgroup": "",
         "marker": {
          "color": [
           1,
           0,
           0,
           0,
           0,
           0,
           0,
           0,
           0,
           1,
           1,
           1,
           1,
           0,
           1,
           1,
           0,
           0,
           1,
           0,
           1,
           1,
           0,
           0,
           0,
           0,
           1,
           1,
           1,
           0,
           0,
           0,
           1,
           1,
           1,
           0,
           0,
           0,
           0,
           0,
           1,
           0,
           0,
           0,
           1,
           0,
           0,
           0,
           1,
           0,
           0,
           0,
           0,
           0,
           0,
           1,
           0,
           0,
           0,
           0,
           1,
           0,
           0,
           0,
           0,
           0,
           1,
           0,
           1,
           0,
           0,
           0,
           0,
           0,
           0,
           1,
           0,
           0,
           0,
           0,
           0,
           1,
           0,
           1,
           1,
           1,
           1,
           1,
           1,
           1,
           1,
           1,
           1,
           1,
           1,
           1,
           1,
           1,
           1,
           1,
           1,
           1,
           1,
           1,
           1,
           1,
           1,
           1,
           1,
           1,
           1,
           1,
           1,
           1,
           1,
           1
          ],
          "coloraxis": "coloraxis",
          "symbol": "circle"
         },
         "mode": "markers",
         "name": "",
         "orientation": "v",
         "showlegend": false,
         "type": "scatter",
         "x": [
          5.973948001861572,
          5.690759658813477,
          5.847016334533691,
          5.211485385894775,
          5.340688228607178,
          3.449761152267456,
          2.989102363586426,
          4.832607269287109,
          4.827149391174316,
          3.2316246032714844,
          4.397390842437744,
          5.526421546936035,
          3.177645444869995,
          4.938222408294678,
          4.652128219604492,
          4.370070934295654,
          0.7347530722618103,
          0.5077541470527649,
          2.3532252311706543,
          4.592614650726318,
          4.417223930358887,
          2.247971534729004,
          1.2314121723175049,
          1.939937949180603,
          2.996767997741699,
          3.020465850830078,
          1.1355831623077393,
          0.8192261457443237,
          1.1638091802597046,
          2.6452572345733643,
          3.031029224395752,
          3.5414199829101562,
          1.252709150314331,
          4.176609039306641,
          0.5760780572891235,
          1.308217167854309,
          3.662416458129883,
          1.0556116104125977,
          2.5706582069396973,
          3.257267951965332,
          2.6055893898010254,
          4.300323009490967,
          1.4882910251617432,
          1.1185048818588257,
          4.276423931121826,
          3.428960084915161,
          5.285964012145996,
          0.09693659096956253,
          5.0366058349609375,
          0.5644263029098511,
          2.3874757289886475,
          3.697437047958374,
          3.6749801635742188,
          5.09166145324707,
          2.9434118270874023,
          4.359334468841553,
          3.776113510131836,
          3.111048936843872,
          4.793877124786377,
          2.6351194381713867,
          0.1405719816684723,
          3.179938554763794,
          2.1846237182617188,
          3.550067901611328,
          3.6399636268615723,
          3.926582098007202,
          3.212378978729248,
          3.574662923812866,
          3.0463881492614746,
          1.7336395978927612,
          2.7828176021575928,
          1.7246613502502441,
          2.031942129135132,
          4.6836323738098145,
          1.4865615367889404,
          0.5163770318031311,
          2.938812494277954,
          3.5966808795928955,
          3.0621283054351807,
          1.6389966011047363,
          0.24923281371593475,
          4.444418430328369,
          4.745937347412109,
          2.3326852321624756,
          0.4995463490486145,
          1.5549139976501465,
          4.166936874389648,
          5.168572425842285,
          3.1429169178009033,
          3.4149200916290283,
          3.4555559158325195,
          3.212750196456909,
          3.196150779724121,
          4.115554332733154,
          0.31999698281288147,
          4.738553524017334,
          0.673328697681427,
          1.0597257614135742,
          5.779653549194336,
          4.0353498458862305,
          0.3595019578933716,
          1.6607921123504639,
          4.545017242431641,
          0.9000436067581177,
          2.6927285194396973,
          3.0118155479431152,
          4.7180094718933105,
          5.5473761558532715,
          5.145517349243164,
          1.3080723285675049,
          2.937692403793335,
          3.5461227893829346,
          1.3326467275619507,
          1.0981221199035645,
          3.997459888458252,
          4.185561180114746
         ],
         "xaxis": "x",
         "y": [
          18.66037940979004,
          19.18777084350586,
          19.01930046081543,
          19.211517333984375,
          19.094562530517578,
          17.7260799407959,
          15.061177253723145,
          15.125219345092773,
          19.5111141204834,
          18.39980697631836,
          14.772600173950195,
          18.56484603881836,
          15.128225326538086,
          15.142410278320312,
          15.130125045776367,
          16.239652633666992,
          15.551271438598633,
          15.529879570007324,
          15.775089263916016,
          19.694883346557617,
          15.115501403808594,
          15.023871421813965,
          17.554582595825195,
          15.404315948486328,
          14.169559478759766,
          14.284473419189453,
          16.586851119995117,
          16.4907283782959,
          16.235820770263672,
          15.411248207092285,
          14.203079223632812,
          17.863277435302734,
          17.338220596313477,
          16.34720230102539,
          15.747027397155762,
          17.370649337768555,
          16.60702133178711,
          15.988977432250977,
          14.27642822265625,
          14.030882835388184,
          18.236900329589844,
          20.097925186157227,
          17.69156265258789,
          16.523883819580078,
          19.959394454956055,
          18.447113037109375,
          19.11481475830078,
          15.719710350036621,
          15.223466873168945,
          16.227237701416016,
          17.76430892944336,
          14.858785629272461,
          18.1287899017334,
          15.64226245880127,
          19.00313949584961,
          15.360180854797363,
          19.730205535888672,
          14.047957420349121,
          14.993556022644043,
          14.551905632019043,
          15.996335983276367,
          18.334609985351562,
          14.943976402282715,
          19.271312713623047,
          18.31907081604004,
          20.050352096557617,
          18.004472732543945,
          18.781997680664062,
          18.742198944091797,
          17.103778839111328,
          14.147123336791992,
          15.513524055480957,
          15.269633293151855,
          15.232054710388184,
          17.547016143798828,
          15.505308151245117,
          14.761367797851562,
          19.383499145507812,
          18.144493103027344,
          16.677091598510742,
          15.776374816894531,
          19.931564331054688,
          14.752143859863281,
          14.830101013183594,
          15.964899063110352,
          15.672422409057617,
          20.088905334472656,
          15.587590217590332,
          18.117738723754883,
          14.900076866149902,
          14.717002868652344,
          18.607799530029297,
          19.282451629638672,
          20.007055282592773,
          15.53162670135498,
          15.482345581054688,
          16.101055145263672,
          15.619552612304688,
          18.93143653869629,
          19.876039505004883,
          15.898916244506836,
          15.006607055664062,
          15.988719940185547,
          16.16956329345703,
          18.11777114868164,
          18.148109436035156,
          15.039787292480469,
          18.768327713012695,
          15.440001487731934,
          16.602619171142578,
          18.63845443725586,
          18.99271011352539,
          16.051923751831055,
          16.956445693969727,
          16.642887115478516,
          16.56329345703125
         ],
         "yaxis": "y"
        }
       ],
       "layout": {
        "coloraxis": {
         "colorbar": {
          "title": {
           "text": "color"
          }
         },
         "colorscale": [
          [
           0,
           "#0d0887"
          ],
          [
           0.1111111111111111,
           "#46039f"
          ],
          [
           0.2222222222222222,
           "#7201a8"
          ],
          [
           0.3333333333333333,
           "#9c179e"
          ],
          [
           0.4444444444444444,
           "#bd3786"
          ],
          [
           0.5555555555555556,
           "#d8576b"
          ],
          [
           0.6666666666666666,
           "#ed7953"
          ],
          [
           0.7777777777777778,
           "#fb9f3a"
          ],
          [
           0.8888888888888888,
           "#fdca26"
          ],
          [
           1,
           "#f0f921"
          ]
         ]
        },
        "height": 400,
        "legend": {
         "tracegroupgap": 0
        },
        "margin": {
         "t": 60
        },
        "template": {
         "data": {
          "bar": [
           {
            "error_x": {
             "color": "#2a3f5f"
            },
            "error_y": {
             "color": "#2a3f5f"
            },
            "marker": {
             "line": {
              "color": "#E5ECF6",
              "width": 0.5
             },
             "pattern": {
              "fillmode": "overlay",
              "size": 10,
              "solidity": 0.2
             }
            },
            "type": "bar"
           }
          ],
          "barpolar": [
           {
            "marker": {
             "line": {
              "color": "#E5ECF6",
              "width": 0.5
             },
             "pattern": {
              "fillmode": "overlay",
              "size": 10,
              "solidity": 0.2
             }
            },
            "type": "barpolar"
           }
          ],
          "carpet": [
           {
            "aaxis": {
             "endlinecolor": "#2a3f5f",
             "gridcolor": "white",
             "linecolor": "white",
             "minorgridcolor": "white",
             "startlinecolor": "#2a3f5f"
            },
            "baxis": {
             "endlinecolor": "#2a3f5f",
             "gridcolor": "white",
             "linecolor": "white",
             "minorgridcolor": "white",
             "startlinecolor": "#2a3f5f"
            },
            "type": "carpet"
           }
          ],
          "choropleth": [
           {
            "colorbar": {
             "outlinewidth": 0,
             "ticks": ""
            },
            "type": "choropleth"
           }
          ],
          "contour": [
           {
            "colorbar": {
             "outlinewidth": 0,
             "ticks": ""
            },
            "colorscale": [
             [
              0,
              "#0d0887"
             ],
             [
              0.1111111111111111,
              "#46039f"
             ],
             [
              0.2222222222222222,
              "#7201a8"
             ],
             [
              0.3333333333333333,
              "#9c179e"
             ],
             [
              0.4444444444444444,
              "#bd3786"
             ],
             [
              0.5555555555555556,
              "#d8576b"
             ],
             [
              0.6666666666666666,
              "#ed7953"
             ],
             [
              0.7777777777777778,
              "#fb9f3a"
             ],
             [
              0.8888888888888888,
              "#fdca26"
             ],
             [
              1,
              "#f0f921"
             ]
            ],
            "type": "contour"
           }
          ],
          "contourcarpet": [
           {
            "colorbar": {
             "outlinewidth": 0,
             "ticks": ""
            },
            "type": "contourcarpet"
           }
          ],
          "heatmap": [
           {
            "colorbar": {
             "outlinewidth": 0,
             "ticks": ""
            },
            "colorscale": [
             [
              0,
              "#0d0887"
             ],
             [
              0.1111111111111111,
              "#46039f"
             ],
             [
              0.2222222222222222,
              "#7201a8"
             ],
             [
              0.3333333333333333,
              "#9c179e"
             ],
             [
              0.4444444444444444,
              "#bd3786"
             ],
             [
              0.5555555555555556,
              "#d8576b"
             ],
             [
              0.6666666666666666,
              "#ed7953"
             ],
             [
              0.7777777777777778,
              "#fb9f3a"
             ],
             [
              0.8888888888888888,
              "#fdca26"
             ],
             [
              1,
              "#f0f921"
             ]
            ],
            "type": "heatmap"
           }
          ],
          "heatmapgl": [
           {
            "colorbar": {
             "outlinewidth": 0,
             "ticks": ""
            },
            "colorscale": [
             [
              0,
              "#0d0887"
             ],
             [
              0.1111111111111111,
              "#46039f"
             ],
             [
              0.2222222222222222,
              "#7201a8"
             ],
             [
              0.3333333333333333,
              "#9c179e"
             ],
             [
              0.4444444444444444,
              "#bd3786"
             ],
             [
              0.5555555555555556,
              "#d8576b"
             ],
             [
              0.6666666666666666,
              "#ed7953"
             ],
             [
              0.7777777777777778,
              "#fb9f3a"
             ],
             [
              0.8888888888888888,
              "#fdca26"
             ],
             [
              1,
              "#f0f921"
             ]
            ],
            "type": "heatmapgl"
           }
          ],
          "histogram": [
           {
            "marker": {
             "pattern": {
              "fillmode": "overlay",
              "size": 10,
              "solidity": 0.2
             }
            },
            "type": "histogram"
           }
          ],
          "histogram2d": [
           {
            "colorbar": {
             "outlinewidth": 0,
             "ticks": ""
            },
            "colorscale": [
             [
              0,
              "#0d0887"
             ],
             [
              0.1111111111111111,
              "#46039f"
             ],
             [
              0.2222222222222222,
              "#7201a8"
             ],
             [
              0.3333333333333333,
              "#9c179e"
             ],
             [
              0.4444444444444444,
              "#bd3786"
             ],
             [
              0.5555555555555556,
              "#d8576b"
             ],
             [
              0.6666666666666666,
              "#ed7953"
             ],
             [
              0.7777777777777778,
              "#fb9f3a"
             ],
             [
              0.8888888888888888,
              "#fdca26"
             ],
             [
              1,
              "#f0f921"
             ]
            ],
            "type": "histogram2d"
           }
          ],
          "histogram2dcontour": [
           {
            "colorbar": {
             "outlinewidth": 0,
             "ticks": ""
            },
            "colorscale": [
             [
              0,
              "#0d0887"
             ],
             [
              0.1111111111111111,
              "#46039f"
             ],
             [
              0.2222222222222222,
              "#7201a8"
             ],
             [
              0.3333333333333333,
              "#9c179e"
             ],
             [
              0.4444444444444444,
              "#bd3786"
             ],
             [
              0.5555555555555556,
              "#d8576b"
             ],
             [
              0.6666666666666666,
              "#ed7953"
             ],
             [
              0.7777777777777778,
              "#fb9f3a"
             ],
             [
              0.8888888888888888,
              "#fdca26"
             ],
             [
              1,
              "#f0f921"
             ]
            ],
            "type": "histogram2dcontour"
           }
          ],
          "mesh3d": [
           {
            "colorbar": {
             "outlinewidth": 0,
             "ticks": ""
            },
            "type": "mesh3d"
           }
          ],
          "parcoords": [
           {
            "line": {
             "colorbar": {
              "outlinewidth": 0,
              "ticks": ""
             }
            },
            "type": "parcoords"
           }
          ],
          "pie": [
           {
            "automargin": true,
            "type": "pie"
           }
          ],
          "scatter": [
           {
            "fillpattern": {
             "fillmode": "overlay",
             "size": 10,
             "solidity": 0.2
            },
            "type": "scatter"
           }
          ],
          "scatter3d": [
           {
            "line": {
             "colorbar": {
              "outlinewidth": 0,
              "ticks": ""
             }
            },
            "marker": {
             "colorbar": {
              "outlinewidth": 0,
              "ticks": ""
             }
            },
            "type": "scatter3d"
           }
          ],
          "scattercarpet": [
           {
            "marker": {
             "colorbar": {
              "outlinewidth": 0,
              "ticks": ""
             }
            },
            "type": "scattercarpet"
           }
          ],
          "scattergeo": [
           {
            "marker": {
             "colorbar": {
              "outlinewidth": 0,
              "ticks": ""
             }
            },
            "type": "scattergeo"
           }
          ],
          "scattergl": [
           {
            "marker": {
             "colorbar": {
              "outlinewidth": 0,
              "ticks": ""
             }
            },
            "type": "scattergl"
           }
          ],
          "scattermapbox": [
           {
            "marker": {
             "colorbar": {
              "outlinewidth": 0,
              "ticks": ""
             }
            },
            "type": "scattermapbox"
           }
          ],
          "scatterpolar": [
           {
            "marker": {
             "colorbar": {
              "outlinewidth": 0,
              "ticks": ""
             }
            },
            "type": "scatterpolar"
           }
          ],
          "scatterpolargl": [
           {
            "marker": {
             "colorbar": {
              "outlinewidth": 0,
              "ticks": ""
             }
            },
            "type": "scatterpolargl"
           }
          ],
          "scatterternary": [
           {
            "marker": {
             "colorbar": {
              "outlinewidth": 0,
              "ticks": ""
             }
            },
            "type": "scatterternary"
           }
          ],
          "surface": [
           {
            "colorbar": {
             "outlinewidth": 0,
             "ticks": ""
            },
            "colorscale": [
             [
              0,
              "#0d0887"
             ],
             [
              0.1111111111111111,
              "#46039f"
             ],
             [
              0.2222222222222222,
              "#7201a8"
             ],
             [
              0.3333333333333333,
              "#9c179e"
             ],
             [
              0.4444444444444444,
              "#bd3786"
             ],
             [
              0.5555555555555556,
              "#d8576b"
             ],
             [
              0.6666666666666666,
              "#ed7953"
             ],
             [
              0.7777777777777778,
              "#fb9f3a"
             ],
             [
              0.8888888888888888,
              "#fdca26"
             ],
             [
              1,
              "#f0f921"
             ]
            ],
            "type": "surface"
           }
          ],
          "table": [
           {
            "cells": {
             "fill": {
              "color": "#EBF0F8"
             },
             "line": {
              "color": "white"
             }
            },
            "header": {
             "fill": {
              "color": "#C8D4E3"
             },
             "line": {
              "color": "white"
             }
            },
            "type": "table"
           }
          ]
         },
         "layout": {
          "annotationdefaults": {
           "arrowcolor": "#2a3f5f",
           "arrowhead": 0,
           "arrowwidth": 1
          },
          "autotypenumbers": "strict",
          "coloraxis": {
           "colorbar": {
            "outlinewidth": 0,
            "ticks": ""
           }
          },
          "colorscale": {
           "diverging": [
            [
             0,
             "#8e0152"
            ],
            [
             0.1,
             "#c51b7d"
            ],
            [
             0.2,
             "#de77ae"
            ],
            [
             0.3,
             "#f1b6da"
            ],
            [
             0.4,
             "#fde0ef"
            ],
            [
             0.5,
             "#f7f7f7"
            ],
            [
             0.6,
             "#e6f5d0"
            ],
            [
             0.7,
             "#b8e186"
            ],
            [
             0.8,
             "#7fbc41"
            ],
            [
             0.9,
             "#4d9221"
            ],
            [
             1,
             "#276419"
            ]
           ],
           "sequential": [
            [
             0,
             "#0d0887"
            ],
            [
             0.1111111111111111,
             "#46039f"
            ],
            [
             0.2222222222222222,
             "#7201a8"
            ],
            [
             0.3333333333333333,
             "#9c179e"
            ],
            [
             0.4444444444444444,
             "#bd3786"
            ],
            [
             0.5555555555555556,
             "#d8576b"
            ],
            [
             0.6666666666666666,
             "#ed7953"
            ],
            [
             0.7777777777777778,
             "#fb9f3a"
            ],
            [
             0.8888888888888888,
             "#fdca26"
            ],
            [
             1,
             "#f0f921"
            ]
           ],
           "sequentialminus": [
            [
             0,
             "#0d0887"
            ],
            [
             0.1111111111111111,
             "#46039f"
            ],
            [
             0.2222222222222222,
             "#7201a8"
            ],
            [
             0.3333333333333333,
             "#9c179e"
            ],
            [
             0.4444444444444444,
             "#bd3786"
            ],
            [
             0.5555555555555556,
             "#d8576b"
            ],
            [
             0.6666666666666666,
             "#ed7953"
            ],
            [
             0.7777777777777778,
             "#fb9f3a"
            ],
            [
             0.8888888888888888,
             "#fdca26"
            ],
            [
             1,
             "#f0f921"
            ]
           ]
          },
          "colorway": [
           "#636efa",
           "#EF553B",
           "#00cc96",
           "#ab63fa",
           "#FFA15A",
           "#19d3f3",
           "#FF6692",
           "#B6E880",
           "#FF97FF",
           "#FECB52"
          ],
          "font": {
           "color": "#2a3f5f"
          },
          "geo": {
           "bgcolor": "white",
           "lakecolor": "white",
           "landcolor": "#E5ECF6",
           "showlakes": true,
           "showland": true,
           "subunitcolor": "white"
          },
          "hoverlabel": {
           "align": "left"
          },
          "hovermode": "closest",
          "mapbox": {
           "style": "light"
          },
          "paper_bgcolor": "white",
          "plot_bgcolor": "#E5ECF6",
          "polar": {
           "angularaxis": {
            "gridcolor": "white",
            "linecolor": "white",
            "ticks": ""
           },
           "bgcolor": "#E5ECF6",
           "radialaxis": {
            "gridcolor": "white",
            "linecolor": "white",
            "ticks": ""
           }
          },
          "scene": {
           "xaxis": {
            "backgroundcolor": "#E5ECF6",
            "gridcolor": "white",
            "gridwidth": 2,
            "linecolor": "white",
            "showbackground": true,
            "ticks": "",
            "zerolinecolor": "white"
           },
           "yaxis": {
            "backgroundcolor": "#E5ECF6",
            "gridcolor": "white",
            "gridwidth": 2,
            "linecolor": "white",
            "showbackground": true,
            "ticks": "",
            "zerolinecolor": "white"
           },
           "zaxis": {
            "backgroundcolor": "#E5ECF6",
            "gridcolor": "white",
            "gridwidth": 2,
            "linecolor": "white",
            "showbackground": true,
            "ticks": "",
            "zerolinecolor": "white"
           }
          },
          "shapedefaults": {
           "line": {
            "color": "#2a3f5f"
           }
          },
          "ternary": {
           "aaxis": {
            "gridcolor": "white",
            "linecolor": "white",
            "ticks": ""
           },
           "baxis": {
            "gridcolor": "white",
            "linecolor": "white",
            "ticks": ""
           },
           "bgcolor": "#E5ECF6",
           "caxis": {
            "gridcolor": "white",
            "linecolor": "white",
            "ticks": ""
           }
          },
          "title": {
           "x": 0.05
          },
          "xaxis": {
           "automargin": true,
           "gridcolor": "white",
           "linecolor": "white",
           "ticks": "",
           "title": {
            "standoff": 15
           },
           "zerolinecolor": "white",
           "zerolinewidth": 2
          },
          "yaxis": {
           "automargin": true,
           "gridcolor": "white",
           "linecolor": "white",
           "ticks": "",
           "title": {
            "standoff": 15
           },
           "zerolinecolor": "white",
           "zerolinewidth": 2
          }
         }
        },
        "width": 500,
        "xaxis": {
         "anchor": "y",
         "domain": [
          0,
          1
         ],
         "title": {
          "text": "umap 1"
         }
        },
        "yaxis": {
         "anchor": "x",
         "domain": [
          0,
          1
         ],
         "title": {
          "text": "umap 2"
         }
        }
       }
      }
     },
     "metadata": {},
     "output_type": "display_data"
    }
   ],
   "source": [
    "# dimensionality reduction and visualization using UMAP\n",
    "\n",
    "um = umap.UMAP()\n",
    "embedded_data_2d = um.fit_transform(embedded_data['embedding'].tolist())\n",
    "\n",
    "color_map = {\n",
    "    '0' : 'purple',\n",
    "    '1' : 'yellow'\n",
    "}\n",
    "\n",
    "fig = px.scatter(x = embedded_data_2d[:, 0], y = embedded_data_2d[:, 1], color = labels['Response'], color_discrete_map = color_map, width = 500, height = 400)\n",
    "fig.update_layout(xaxis_title = 'umap 1', yaxis_title = 'umap 2')\n",
    "\n",
    "fig.show()"
   ]
  },
  {
   "cell_type": "code",
   "execution_count": 17,
   "metadata": {},
   "outputs": [
    {
     "name": "stdout",
     "output_type": "stream",
     "text": [
      "Training accuracy before hyperparameter optimization: 0.5432098765432098\n",
      "Test set accuracy before hyperparameter optimization: 0.45714285714285713\n"
     ]
    }
   ],
   "source": [
    "# Train a logistic regression model using the embeddings before optimizing hyperparameters\n",
    "X_train, X_test, y_train, y_test = train_test_split(embedded_data['embedding'].tolist(), labels['Response'], test_size = 0.3, random_state=1234)\n",
    "logreg = LogisticRegression()\n",
    "logreg.fit(X_train, y_train)\n",
    "y_pred = logreg.predict(X_train)\n",
    "training_accuracy = accuracy_score(y_pred, y_train)\n",
    "y_pred = logreg.predict(X_test)\n",
    "test_accuracy = accuracy_score(y_pred, y_test)\n",
    "print(\"Training accuracy before hyperparameter optimization:\", training_accuracy)\n",
    "print(\"Test set accuracy before hyperparameter optimization:\", test_accuracy)"
   ]
  },
  {
   "cell_type": "code",
   "execution_count": 21,
   "metadata": {},
   "outputs": [
    {
     "name": "stderr",
     "output_type": "stream",
     "text": [
      "/Users/sophiesun/opt/anaconda3/lib/python3.8/site-packages/sklearn/linear_model/_sag.py:350: ConvergenceWarning:\n",
      "\n",
      "The max_iter was reached which means the coef_ did not converge\n",
      "\n",
      "/Users/sophiesun/opt/anaconda3/lib/python3.8/site-packages/sklearn/linear_model/_sag.py:350: ConvergenceWarning:\n",
      "\n",
      "The max_iter was reached which means the coef_ did not converge\n",
      "\n",
      "/Users/sophiesun/opt/anaconda3/lib/python3.8/site-packages/sklearn/linear_model/_sag.py:350: ConvergenceWarning:\n",
      "\n",
      "The max_iter was reached which means the coef_ did not converge\n",
      "\n",
      "/Users/sophiesun/opt/anaconda3/lib/python3.8/site-packages/sklearn/linear_model/_sag.py:350: ConvergenceWarning:\n",
      "\n",
      "The max_iter was reached which means the coef_ did not converge\n",
      "\n",
      "/Users/sophiesun/opt/anaconda3/lib/python3.8/site-packages/sklearn/linear_model/_sag.py:350: ConvergenceWarning:\n",
      "\n",
      "The max_iter was reached which means the coef_ did not converge\n",
      "\n",
      "/Users/sophiesun/opt/anaconda3/lib/python3.8/site-packages/sklearn/linear_model/_sag.py:350: ConvergenceWarning:\n",
      "\n",
      "The max_iter was reached which means the coef_ did not converge\n",
      "\n",
      "/Users/sophiesun/opt/anaconda3/lib/python3.8/site-packages/sklearn/linear_model/_sag.py:350: ConvergenceWarning:\n",
      "\n",
      "The max_iter was reached which means the coef_ did not converge\n",
      "\n",
      "/Users/sophiesun/opt/anaconda3/lib/python3.8/site-packages/sklearn/linear_model/_sag.py:350: ConvergenceWarning:\n",
      "\n",
      "The max_iter was reached which means the coef_ did not converge\n",
      "\n",
      "/Users/sophiesun/opt/anaconda3/lib/python3.8/site-packages/sklearn/linear_model/_sag.py:350: ConvergenceWarning:\n",
      "\n",
      "The max_iter was reached which means the coef_ did not converge\n",
      "\n",
      "/Users/sophiesun/opt/anaconda3/lib/python3.8/site-packages/sklearn/linear_model/_sag.py:350: ConvergenceWarning:\n",
      "\n",
      "The max_iter was reached which means the coef_ did not converge\n",
      "\n"
     ]
    },
    {
     "name": "stdout",
     "output_type": "stream",
     "text": [
      "Best hyperparameters: {'C': 1000, 'max_iter': 1000, 'solver': 'liblinear'}\n"
     ]
    }
   ],
   "source": [
    "# find the best hyperparameters for an L1 regularized LogReg model\n",
    "hyperparameters = {\n",
    "    'C': [0.1, 1, 10, 100, 1000],\n",
    "    'solver': ['liblinear', 'saga'],\n",
    "    'max_iter': [1000]\n",
    "}\n",
    "\n",
    "grid_search = GridSearchCV(LogisticRegression(penalty=\"l1\"), hyperparameters,  cv=5, scoring='accuracy')\n",
    "grid_search.fit(X_train, y_train)\n",
    "\n",
    "best_params = grid_search.best_params_\n",
    "best_model = grid_search.best_estimator_\n",
    "\n",
    "print(\"Best hyperparameters:\", best_params)"
   ]
  },
  {
   "cell_type": "code",
   "execution_count": 22,
   "metadata": {},
   "outputs": [
    {
     "name": "stdout",
     "output_type": "stream",
     "text": [
      "Training accuracy after hyperparameter optimization: 1.0\n",
      "Test set accuracy after hyperparameter optimization: 0.5142857142857142\n"
     ]
    }
   ],
   "source": [
    "# Train a logistic regression model using the top 2 PCAs after optimizing hyperparameters\n",
    "y_pred = best_model.predict(X_train)\n",
    "training_accuracy = accuracy_score(y_pred, y_train)\n",
    "y_pred = best_model.predict(X_test)\n",
    "test_accuracy = accuracy_score(y_pred, y_test)\n",
    "\n",
    "print(\"Training accuracy after hyperparameter optimization:\", training_accuracy)\n",
    "print(\"Test set accuracy after hyperparameter optimization:\", test_accuracy)"
   ]
  },
  {
   "cell_type": "code",
   "execution_count": 23,
   "metadata": {},
   "outputs": [],
   "source": [
    "# export cluster assignments\n",
    "\n",
    "clusters_embedding = pd.concat([labels, pd.DataFrame(model.labels_, columns = ['cluster'])], axis = 1)\n",
    "\n",
    "clusters_embedding.to_csv('../data/clusters_embedding.csv', index = False)\n",
    "\n",
    "# export data for L1 log reg\n",
    "embedded_data['embedding'].to_csv('../data/embedded_data.csv', index = False)"
   ]
  }
 ],
 "metadata": {
  "kernelspec": {
   "display_name": "base",
   "language": "python",
   "name": "python3"
  },
  "language_info": {
   "codemirror_mode": {
    "name": "ipython",
    "version": 3
   },
   "file_extension": ".py",
   "mimetype": "text/x-python",
   "name": "python",
   "nbconvert_exporter": "python",
   "pygments_lexer": "ipython3",
   "version": "3.8.5"
  }
 },
 "nbformat": 4,
 "nbformat_minor": 2
}
