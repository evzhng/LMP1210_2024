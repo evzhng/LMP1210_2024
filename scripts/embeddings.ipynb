{
 "cells": [
  {
   "cell_type": "code",
   "execution_count": 2,
   "metadata": {},
   "outputs": [],
   "source": [
    "pip install -U openai, scipy, plotly-express, scikit-learn, umap-learn\n",
    "pip install numpy==1.23.0 # umap requires an older version of numpy"
   ]
  },
  {
   "cell_type": "code",
   "execution_count": 23,
   "metadata": {},
   "outputs": [],
   "source": [
    "import os\n",
    "import pandas as pd\n",
    "import numpy as np\n",
    "from openai import OpenAI\n",
    "from sklearn.cluster import KMeans\n",
    "from scipy.spatial import distance\n",
    "import plotly.express as px\n",
    "import umap.umap_ as umap"
   ]
  },
  {
   "cell_type": "code",
   "execution_count": 87,
   "metadata": {},
   "outputs": [
    {
     "data": {
      "text/html": [
       "<div>\n",
       "<style scoped>\n",
       "    .dataframe tbody tr th:only-of-type {\n",
       "        vertical-align: middle;\n",
       "    }\n",
       "\n",
       "    .dataframe tbody tr th {\n",
       "        vertical-align: top;\n",
       "    }\n",
       "\n",
       "    .dataframe thead th {\n",
       "        text-align: right;\n",
       "    }\n",
       "</style>\n",
       "<table border=\"1\" class=\"dataframe\">\n",
       "  <thead>\n",
       "    <tr style=\"text-align: right;\">\n",
       "      <th></th>\n",
       "      <th>Unnamed: 0</th>\n",
       "      <th>Response</th>\n",
       "    </tr>\n",
       "  </thead>\n",
       "  <tbody>\n",
       "    <tr>\n",
       "      <th>0</th>\n",
       "      <td>SRR7344546</td>\n",
       "      <td>R</td>\n",
       "    </tr>\n",
       "    <tr>\n",
       "      <th>1</th>\n",
       "      <td>SRR7344554</td>\n",
       "      <td>N</td>\n",
       "    </tr>\n",
       "    <tr>\n",
       "      <th>2</th>\n",
       "      <td>SRR7344556</td>\n",
       "      <td>N</td>\n",
       "    </tr>\n",
       "    <tr>\n",
       "      <th>3</th>\n",
       "      <td>SRR7344564</td>\n",
       "      <td>N</td>\n",
       "    </tr>\n",
       "    <tr>\n",
       "      <th>4</th>\n",
       "      <td>SRR7344565</td>\n",
       "      <td>N</td>\n",
       "    </tr>\n",
       "  </tbody>\n",
       "</table>\n",
       "</div>"
      ],
      "text/plain": [
       "   Unnamed: 0 Response\n",
       "0  SRR7344546        R\n",
       "1  SRR7344554        N\n",
       "2  SRR7344556        N\n",
       "3  SRR7344564        N\n",
       "4  SRR7344565        N"
      ]
     },
     "execution_count": 87,
     "metadata": {},
     "output_type": "execute_result"
    }
   ],
   "source": [
    "'''\n",
    "Performs AI embedding on data\n",
    "'''\n",
    "\n",
    "# load data\n",
    "\n",
    "data = pd.read_csv('../data/log2_data_v3.csv')\n",
    "print(data.head())\n",
    "\n",
    "labels = pd.read_csv('../data/labels_v3.csv')\n",
    "print(labels.head())"
   ]
  },
  {
   "cell_type": "code",
   "execution_count": 49,
   "metadata": {},
   "outputs": [],
   "source": [
    "# openAI API key\n",
    "\n",
    "client = OpenAI(\n",
    "  api_key='',  \n",
    ")\n"
   ]
  },
  {
   "cell_type": "code",
   "execution_count": 66,
   "metadata": {},
   "outputs": [],
   "source": [
    "# embedding transcriptomic data\n",
    "\n",
    "def get_embedding(df):\n",
    "\n",
    "\t# model\n",
    "\t\n",
    "\tresponse = client.embeddings.create(\n",
    "    \tmodel= 'text-embedding-ada-002',\n",
    "    \tinput=[df]\n",
    "\t)\n",
    "\t# Get embedded data\n",
    "\t\n",
    "\tembedding = response.data[0].embedding\n",
    "    \n",
    "\treturn embedding"
   ]
  },
  {
   "cell_type": "code",
   "execution_count": 70,
   "metadata": {},
   "outputs": [
    {
     "name": "stdout",
     "output_type": "stream",
     "text": [
      "(125, 100)\n",
      "0      0.0 1.1649346867152932 0.17798414980298533 0.6...\n",
      "1      0.12880729789026002 1.358726836522174 0.070844...\n",
      "2      0.16219362419847294 0.14344533937100276 0.0 0....\n",
      "3      0.2677332475807369 0.03057601299596717 0.32604...\n",
      "4      0.13566506647355595 0.053567868543348565 0.241...\n",
      "                             ...                        \n",
      "120    0.18652448727387372 0.0 0.1414241399271249 0.9...\n",
      "121    0.020039051950253725 0.0 0.06217935087677976 0...\n",
      "122    0.07587424138298625 0.0 0.2033058122184411 0.6...\n",
      "123    0.12628848729363462 0.0 0.2261974310538789 1.1...\n",
      "124    0.1012481118342196 0.0 0.04323628856435453 0.7...\n",
      "Name: concatenated, Length: 125, dtype: object\n"
     ]
    }
   ],
   "source": [
    "# drop first column of sample IDs\n",
    "\n",
    "embedded_data = data.drop(data.columns[0], axis = 1)\n",
    "\n",
    "# testing: drop columns\n",
    "\n",
    "keep_thresh = 100\n",
    "embedded_data = embedded_data.iloc[:, :keep_thresh]\n",
    "print(embedded_data.shape)\n",
    "\n",
    "# change numeric to str and concatenate everything by row (sentence-like input structure required)\n",
    "\n",
    "embedded_data['concatenated'] = embedded_data.astype(str).apply(lambda row: ' '.join(row), axis = 1)\n",
    "print(embedded_data['concatenated'])\n",
    "\n",
    "# apply embeddings\n",
    "\n",
    "embedded_data['embedding'] = embedded_data['concatenated'].apply(get_embedding)\n",
    "\n"
   ]
  },
  {
   "cell_type": "code",
   "execution_count": 101,
   "metadata": {},
   "outputs": [],
   "source": [
    "# run kmeans based on embeddings \n",
    "\n",
    "# 2 clusters for responder, non-responder\n",
    "\n",
    "kmeans = KMeans(n_clusters = 2, n_init = 'auto')\n",
    "model = kmeans.fit(embedded_data['embedding'].tolist())"
   ]
  },
  {
   "cell_type": "code",
   "execution_count": 102,
   "metadata": {},
   "outputs": [
    {
     "data": {
      "application/vnd.plotly.v1+json": {
       "config": {
        "plotlyServerURL": "https://plot.ly"
       },
       "data": [
        {
         "hovertemplate": "color=1<br>symbol=R<br>x=%{x}<br>y=%{y}<extra></extra>",
         "legendgroup": "1, R",
         "marker": {
          "color": "blue",
          "symbol": "circle"
         },
         "mode": "markers",
         "name": "1, R",
         "orientation": "v",
         "showlegend": true,
         "type": "scatter",
         "x": [
          18.807857513427734,
          17.830318450927734,
          17.94658660888672,
          18.937192916870117,
          17.7749080657959,
          19.20965576171875,
          18.237009048461914,
          18.354957580566406,
          19.28278350830078,
          18.938379287719727,
          19.375526428222656,
          18.64158821105957,
          18.598114013671875,
          17.759206771850586,
          18.954790115356445
         ],
         "xaxis": "x",
         "y": [
          3.157379388809204,
          4.89683723449707,
          3.6226563453674316,
          3.363265037536621,
          3.5804619789123535,
          3.4583842754364014,
          4.670983791351318,
          3.367574453353882,
          5.007282733917236,
          4.652965545654297,
          5.224605083465576,
          3.5109517574310303,
          5.275346755981445,
          4.48902702331543,
          3.7172415256500244
         ],
         "yaxis": "y"
        },
        {
         "hovertemplate": "color=1<br>symbol=N<br>x=%{x}<br>y=%{y}<extra></extra>",
         "legendgroup": "1, N",
         "marker": {
          "color": "blue",
          "symbol": "diamond"
         },
         "mode": "markers",
         "name": "1, N",
         "orientation": "v",
         "showlegend": true,
         "type": "scatter",
         "x": [
          18.843996047973633,
          18.871931076049805,
          19.113162994384766,
          18.37368392944336,
          18.369884490966797,
          19.16960906982422,
          18.085092544555664,
          18.735960006713867,
          18.58553695678711,
          18.238449096679688,
          19.026290893554688,
          18.191049575805664,
          19.302013397216797,
          18.49175453186035,
          18.72772216796875,
          19.109493255615234,
          18.568098068237305,
          18.413463592529297,
          18.69878578186035,
          17.927412033081055,
          18.70440673828125,
          18.539796829223633,
          18.535301208496094,
          18.456199645996094,
          18.592329025268555,
          17.966867446899414
         ],
         "xaxis": "x",
         "y": [
          5.250284671783447,
          5.275529384613037,
          3.7875242233276367,
          4.069542407989502,
          2.9804141521453857,
          4.37188720703125,
          4.627326011657715,
          4.36368989944458,
          4.708543300628662,
          5.237204074859619,
          5.663119792938232,
          3.360208511352539,
          5.1450300216674805,
          4.246368885040283,
          4.299269199371338,
          3.566208839416504,
          5.714303016662598,
          4.160493850708008,
          5.606259822845459,
          4.3459858894348145,
          3.623420238494873,
          5.630981922149658,
          3.241852283477783,
          4.0642924308776855,
          5.653177261352539,
          4.231093883514404
         ],
         "yaxis": "y"
        },
        {
         "hovertemplate": "color=0<br>symbol=R<br>x=%{x}<br>y=%{y}<extra></extra>",
         "legendgroup": "0, R",
         "marker": {
          "color": "orange",
          "symbol": "circle"
         },
         "mode": "markers",
         "name": "0, R",
         "orientation": "v",
         "showlegend": true,
         "type": "scatter",
         "x": [
          16.967758178710938,
          14.521288871765137,
          16.321277618408203,
          17.097915649414062,
          14.835502624511719,
          14.020467758178711,
          15.598495483398438,
          15.5714693069458,
          13.763636589050293,
          13.829721450805664,
          15.302470207214355,
          15.084304809570312,
          16.218162536621094,
          17.44207000732422,
          15.20555305480957,
          15.038146018981934,
          17.019977569580078,
          16.202089309692383,
          14.516081809997559,
          14.391993522644043,
          15.42234992980957,
          16.626373291015625,
          14.16934585571289,
          14.77717113494873,
          16.079601287841797,
          13.865922927856445,
          16.218860626220703,
          14.921309471130371,
          16.526294708251953,
          16.47672462463379
         ],
         "xaxis": "x",
         "y": [
          2.4824326038360596,
          6.616536617279053,
          3.313518762588501,
          3.015681266784668,
          5.7036519050598145,
          4.550715923309326,
          2.7924108505249023,
          6.415524482727051,
          3.691584348678589,
          4.681318759918213,
          4.242936134338379,
          5.6570329666137695,
          3.236640453338623,
          3.9165563583374023,
          5.901438236236572,
          3.3855018615722656,
          3.51467227935791,
          5.074450492858887,
          5.100363731384277,
          4.654238700866699,
          3.8061776161193848,
          4.300980567932129,
          4.4715256690979,
          5.51669979095459,
          4.168089389801025,
          3.740199089050293,
          3.600888729095459,
          3.715397834777832,
          3.6073973178863525,
          4.645508289337158
         ],
         "yaxis": "y"
        },
        {
         "hovertemplate": "color=0<br>symbol=N<br>x=%{x}<br>y=%{y}<extra></extra>",
         "legendgroup": "0, N",
         "marker": {
          "color": "orange",
          "symbol": "diamond"
         },
         "mode": "markers",
         "name": "0, N",
         "orientation": "v",
         "showlegend": true,
         "type": "scatter",
         "x": [
          15.92861557006836,
          14.622498512268066,
          16.378009796142578,
          15.151305198669434,
          16.81404685974121,
          14.455431938171387,
          15.327033996582031,
          14.999905586242676,
          15.384905815124512,
          14.691394805908203,
          17.06608009338379,
          14.966024398803711,
          14.577317237854004,
          14.472921371459961,
          15.578166961669922,
          14.411352157592773,
          15.922883987426758,
          14.848875999450684,
          17.207721710205078,
          16.076602935791016,
          14.871910095214844,
          14.856734275817871,
          17.349754333496094,
          17.136259078979492,
          15.78189468383789,
          15.908015251159668,
          13.789942741394043,
          16.17783546447754,
          16.429014205932617,
          15.436307907104492,
          14.531898498535156,
          16.61751937866211,
          15.513602256774902,
          16.489299774169922,
          17.113521575927734,
          16.342187881469727,
          15.210305213928223,
          16.8696231842041,
          15.9264554977417,
          13.662381172180176,
          15.427026748657227,
          13.96042251586914,
          16.218700408935547,
          16.1343936920166,
          15.451271057128906,
          13.795918464660645,
          15.494731903076172,
          16.494260787963867,
          16.918964385986328,
          15.717029571533203,
          16.617446899414062,
          14.816505432128906,
          13.940634727478027,
          16.12417221069336
         ],
         "xaxis": "x",
         "y": [
          3.1979434490203857,
          3.249284267425537,
          2.4349257946014404,
          4.703763961791992,
          2.6983397006988525,
          4.729881286621094,
          3.8363988399505615,
          5.723147392272949,
          2.9681413173675537,
          6.364925861358643,
          4.534578323364258,
          5.964803218841553,
          6.593756675720215,
          6.676158428192139,
          4.546826362609863,
          4.264490604400635,
          4.429213523864746,
          3.649845838546753,
          3.6981046199798584,
          4.715041637420654,
          4.476032733917236,
          6.243113994598389,
          3.6547303199768066,
          2.662468910217285,
          2.6532037258148193,
          4.878058433532715,
          4.417060852050781,
          5.474452018737793,
          2.936326742172241,
          6.16724157333374,
          3.3251829147338867,
          3.4961371421813965,
          3.3279309272766113,
          4.160463809967041,
          4.055913925170898,
          4.899428844451904,
          5.293361663818359,
          3.2589123249053955,
          4.310763835906982,
          4.0909504890441895,
          5.323705196380615,
          4.291224002838135,
          4.237849712371826,
          4.668593883514404,
          5.201700687408447,
          4.145131587982178,
          5.646597862243652,
          2.5465800762176514,
          2.8209304809570312,
          3.9523940086364746,
          5.161156177520752,
          3.2257094383239746,
          3.6487598419189453,
          3.022308826446533
         ],
         "yaxis": "y"
        }
       ],
       "layout": {
        "legend": {
         "title": {
          "text": "color, symbol"
         },
         "tracegroupgap": 0
        },
        "margin": {
         "t": 60
        },
        "template": {
         "data": {
          "bar": [
           {
            "error_x": {
             "color": "#2a3f5f"
            },
            "error_y": {
             "color": "#2a3f5f"
            },
            "marker": {
             "line": {
              "color": "#E5ECF6",
              "width": 0.5
             },
             "pattern": {
              "fillmode": "overlay",
              "size": 10,
              "solidity": 0.2
             }
            },
            "type": "bar"
           }
          ],
          "barpolar": [
           {
            "marker": {
             "line": {
              "color": "#E5ECF6",
              "width": 0.5
             },
             "pattern": {
              "fillmode": "overlay",
              "size": 10,
              "solidity": 0.2
             }
            },
            "type": "barpolar"
           }
          ],
          "carpet": [
           {
            "aaxis": {
             "endlinecolor": "#2a3f5f",
             "gridcolor": "white",
             "linecolor": "white",
             "minorgridcolor": "white",
             "startlinecolor": "#2a3f5f"
            },
            "baxis": {
             "endlinecolor": "#2a3f5f",
             "gridcolor": "white",
             "linecolor": "white",
             "minorgridcolor": "white",
             "startlinecolor": "#2a3f5f"
            },
            "type": "carpet"
           }
          ],
          "choropleth": [
           {
            "colorbar": {
             "outlinewidth": 0,
             "ticks": ""
            },
            "type": "choropleth"
           }
          ],
          "contour": [
           {
            "colorbar": {
             "outlinewidth": 0,
             "ticks": ""
            },
            "colorscale": [
             [
              0,
              "#0d0887"
             ],
             [
              0.1111111111111111,
              "#46039f"
             ],
             [
              0.2222222222222222,
              "#7201a8"
             ],
             [
              0.3333333333333333,
              "#9c179e"
             ],
             [
              0.4444444444444444,
              "#bd3786"
             ],
             [
              0.5555555555555556,
              "#d8576b"
             ],
             [
              0.6666666666666666,
              "#ed7953"
             ],
             [
              0.7777777777777778,
              "#fb9f3a"
             ],
             [
              0.8888888888888888,
              "#fdca26"
             ],
             [
              1,
              "#f0f921"
             ]
            ],
            "type": "contour"
           }
          ],
          "contourcarpet": [
           {
            "colorbar": {
             "outlinewidth": 0,
             "ticks": ""
            },
            "type": "contourcarpet"
           }
          ],
          "heatmap": [
           {
            "colorbar": {
             "outlinewidth": 0,
             "ticks": ""
            },
            "colorscale": [
             [
              0,
              "#0d0887"
             ],
             [
              0.1111111111111111,
              "#46039f"
             ],
             [
              0.2222222222222222,
              "#7201a8"
             ],
             [
              0.3333333333333333,
              "#9c179e"
             ],
             [
              0.4444444444444444,
              "#bd3786"
             ],
             [
              0.5555555555555556,
              "#d8576b"
             ],
             [
              0.6666666666666666,
              "#ed7953"
             ],
             [
              0.7777777777777778,
              "#fb9f3a"
             ],
             [
              0.8888888888888888,
              "#fdca26"
             ],
             [
              1,
              "#f0f921"
             ]
            ],
            "type": "heatmap"
           }
          ],
          "heatmapgl": [
           {
            "colorbar": {
             "outlinewidth": 0,
             "ticks": ""
            },
            "colorscale": [
             [
              0,
              "#0d0887"
             ],
             [
              0.1111111111111111,
              "#46039f"
             ],
             [
              0.2222222222222222,
              "#7201a8"
             ],
             [
              0.3333333333333333,
              "#9c179e"
             ],
             [
              0.4444444444444444,
              "#bd3786"
             ],
             [
              0.5555555555555556,
              "#d8576b"
             ],
             [
              0.6666666666666666,
              "#ed7953"
             ],
             [
              0.7777777777777778,
              "#fb9f3a"
             ],
             [
              0.8888888888888888,
              "#fdca26"
             ],
             [
              1,
              "#f0f921"
             ]
            ],
            "type": "heatmapgl"
           }
          ],
          "histogram": [
           {
            "marker": {
             "pattern": {
              "fillmode": "overlay",
              "size": 10,
              "solidity": 0.2
             }
            },
            "type": "histogram"
           }
          ],
          "histogram2d": [
           {
            "colorbar": {
             "outlinewidth": 0,
             "ticks": ""
            },
            "colorscale": [
             [
              0,
              "#0d0887"
             ],
             [
              0.1111111111111111,
              "#46039f"
             ],
             [
              0.2222222222222222,
              "#7201a8"
             ],
             [
              0.3333333333333333,
              "#9c179e"
             ],
             [
              0.4444444444444444,
              "#bd3786"
             ],
             [
              0.5555555555555556,
              "#d8576b"
             ],
             [
              0.6666666666666666,
              "#ed7953"
             ],
             [
              0.7777777777777778,
              "#fb9f3a"
             ],
             [
              0.8888888888888888,
              "#fdca26"
             ],
             [
              1,
              "#f0f921"
             ]
            ],
            "type": "histogram2d"
           }
          ],
          "histogram2dcontour": [
           {
            "colorbar": {
             "outlinewidth": 0,
             "ticks": ""
            },
            "colorscale": [
             [
              0,
              "#0d0887"
             ],
             [
              0.1111111111111111,
              "#46039f"
             ],
             [
              0.2222222222222222,
              "#7201a8"
             ],
             [
              0.3333333333333333,
              "#9c179e"
             ],
             [
              0.4444444444444444,
              "#bd3786"
             ],
             [
              0.5555555555555556,
              "#d8576b"
             ],
             [
              0.6666666666666666,
              "#ed7953"
             ],
             [
              0.7777777777777778,
              "#fb9f3a"
             ],
             [
              0.8888888888888888,
              "#fdca26"
             ],
             [
              1,
              "#f0f921"
             ]
            ],
            "type": "histogram2dcontour"
           }
          ],
          "mesh3d": [
           {
            "colorbar": {
             "outlinewidth": 0,
             "ticks": ""
            },
            "type": "mesh3d"
           }
          ],
          "parcoords": [
           {
            "line": {
             "colorbar": {
              "outlinewidth": 0,
              "ticks": ""
             }
            },
            "type": "parcoords"
           }
          ],
          "pie": [
           {
            "automargin": true,
            "type": "pie"
           }
          ],
          "scatter": [
           {
            "fillpattern": {
             "fillmode": "overlay",
             "size": 10,
             "solidity": 0.2
            },
            "type": "scatter"
           }
          ],
          "scatter3d": [
           {
            "line": {
             "colorbar": {
              "outlinewidth": 0,
              "ticks": ""
             }
            },
            "marker": {
             "colorbar": {
              "outlinewidth": 0,
              "ticks": ""
             }
            },
            "type": "scatter3d"
           }
          ],
          "scattercarpet": [
           {
            "marker": {
             "colorbar": {
              "outlinewidth": 0,
              "ticks": ""
             }
            },
            "type": "scattercarpet"
           }
          ],
          "scattergeo": [
           {
            "marker": {
             "colorbar": {
              "outlinewidth": 0,
              "ticks": ""
             }
            },
            "type": "scattergeo"
           }
          ],
          "scattergl": [
           {
            "marker": {
             "colorbar": {
              "outlinewidth": 0,
              "ticks": ""
             }
            },
            "type": "scattergl"
           }
          ],
          "scattermapbox": [
           {
            "marker": {
             "colorbar": {
              "outlinewidth": 0,
              "ticks": ""
             }
            },
            "type": "scattermapbox"
           }
          ],
          "scatterpolar": [
           {
            "marker": {
             "colorbar": {
              "outlinewidth": 0,
              "ticks": ""
             }
            },
            "type": "scatterpolar"
           }
          ],
          "scatterpolargl": [
           {
            "marker": {
             "colorbar": {
              "outlinewidth": 0,
              "ticks": ""
             }
            },
            "type": "scatterpolargl"
           }
          ],
          "scatterternary": [
           {
            "marker": {
             "colorbar": {
              "outlinewidth": 0,
              "ticks": ""
             }
            },
            "type": "scatterternary"
           }
          ],
          "surface": [
           {
            "colorbar": {
             "outlinewidth": 0,
             "ticks": ""
            },
            "colorscale": [
             [
              0,
              "#0d0887"
             ],
             [
              0.1111111111111111,
              "#46039f"
             ],
             [
              0.2222222222222222,
              "#7201a8"
             ],
             [
              0.3333333333333333,
              "#9c179e"
             ],
             [
              0.4444444444444444,
              "#bd3786"
             ],
             [
              0.5555555555555556,
              "#d8576b"
             ],
             [
              0.6666666666666666,
              "#ed7953"
             ],
             [
              0.7777777777777778,
              "#fb9f3a"
             ],
             [
              0.8888888888888888,
              "#fdca26"
             ],
             [
              1,
              "#f0f921"
             ]
            ],
            "type": "surface"
           }
          ],
          "table": [
           {
            "cells": {
             "fill": {
              "color": "#EBF0F8"
             },
             "line": {
              "color": "white"
             }
            },
            "header": {
             "fill": {
              "color": "#C8D4E3"
             },
             "line": {
              "color": "white"
             }
            },
            "type": "table"
           }
          ]
         },
         "layout": {
          "annotationdefaults": {
           "arrowcolor": "#2a3f5f",
           "arrowhead": 0,
           "arrowwidth": 1
          },
          "autotypenumbers": "strict",
          "coloraxis": {
           "colorbar": {
            "outlinewidth": 0,
            "ticks": ""
           }
          },
          "colorscale": {
           "diverging": [
            [
             0,
             "#8e0152"
            ],
            [
             0.1,
             "#c51b7d"
            ],
            [
             0.2,
             "#de77ae"
            ],
            [
             0.3,
             "#f1b6da"
            ],
            [
             0.4,
             "#fde0ef"
            ],
            [
             0.5,
             "#f7f7f7"
            ],
            [
             0.6,
             "#e6f5d0"
            ],
            [
             0.7,
             "#b8e186"
            ],
            [
             0.8,
             "#7fbc41"
            ],
            [
             0.9,
             "#4d9221"
            ],
            [
             1,
             "#276419"
            ]
           ],
           "sequential": [
            [
             0,
             "#0d0887"
            ],
            [
             0.1111111111111111,
             "#46039f"
            ],
            [
             0.2222222222222222,
             "#7201a8"
            ],
            [
             0.3333333333333333,
             "#9c179e"
            ],
            [
             0.4444444444444444,
             "#bd3786"
            ],
            [
             0.5555555555555556,
             "#d8576b"
            ],
            [
             0.6666666666666666,
             "#ed7953"
            ],
            [
             0.7777777777777778,
             "#fb9f3a"
            ],
            [
             0.8888888888888888,
             "#fdca26"
            ],
            [
             1,
             "#f0f921"
            ]
           ],
           "sequentialminus": [
            [
             0,
             "#0d0887"
            ],
            [
             0.1111111111111111,
             "#46039f"
            ],
            [
             0.2222222222222222,
             "#7201a8"
            ],
            [
             0.3333333333333333,
             "#9c179e"
            ],
            [
             0.4444444444444444,
             "#bd3786"
            ],
            [
             0.5555555555555556,
             "#d8576b"
            ],
            [
             0.6666666666666666,
             "#ed7953"
            ],
            [
             0.7777777777777778,
             "#fb9f3a"
            ],
            [
             0.8888888888888888,
             "#fdca26"
            ],
            [
             1,
             "#f0f921"
            ]
           ]
          },
          "colorway": [
           "#636efa",
           "#EF553B",
           "#00cc96",
           "#ab63fa",
           "#FFA15A",
           "#19d3f3",
           "#FF6692",
           "#B6E880",
           "#FF97FF",
           "#FECB52"
          ],
          "font": {
           "color": "#2a3f5f"
          },
          "geo": {
           "bgcolor": "white",
           "lakecolor": "white",
           "landcolor": "#E5ECF6",
           "showlakes": true,
           "showland": true,
           "subunitcolor": "white"
          },
          "hoverlabel": {
           "align": "left"
          },
          "hovermode": "closest",
          "mapbox": {
           "style": "light"
          },
          "paper_bgcolor": "white",
          "plot_bgcolor": "#E5ECF6",
          "polar": {
           "angularaxis": {
            "gridcolor": "white",
            "linecolor": "white",
            "ticks": ""
           },
           "bgcolor": "#E5ECF6",
           "radialaxis": {
            "gridcolor": "white",
            "linecolor": "white",
            "ticks": ""
           }
          },
          "scene": {
           "xaxis": {
            "backgroundcolor": "#E5ECF6",
            "gridcolor": "white",
            "gridwidth": 2,
            "linecolor": "white",
            "showbackground": true,
            "ticks": "",
            "zerolinecolor": "white"
           },
           "yaxis": {
            "backgroundcolor": "#E5ECF6",
            "gridcolor": "white",
            "gridwidth": 2,
            "linecolor": "white",
            "showbackground": true,
            "ticks": "",
            "zerolinecolor": "white"
           },
           "zaxis": {
            "backgroundcolor": "#E5ECF6",
            "gridcolor": "white",
            "gridwidth": 2,
            "linecolor": "white",
            "showbackground": true,
            "ticks": "",
            "zerolinecolor": "white"
           }
          },
          "shapedefaults": {
           "line": {
            "color": "#2a3f5f"
           }
          },
          "ternary": {
           "aaxis": {
            "gridcolor": "white",
            "linecolor": "white",
            "ticks": ""
           },
           "baxis": {
            "gridcolor": "white",
            "linecolor": "white",
            "ticks": ""
           },
           "bgcolor": "#E5ECF6",
           "caxis": {
            "gridcolor": "white",
            "linecolor": "white",
            "ticks": ""
           }
          },
          "title": {
           "x": 0.05
          },
          "xaxis": {
           "automargin": true,
           "gridcolor": "white",
           "linecolor": "white",
           "ticks": "",
           "title": {
            "standoff": 15
           },
           "zerolinecolor": "white",
           "zerolinewidth": 2
          },
          "yaxis": {
           "automargin": true,
           "gridcolor": "white",
           "linecolor": "white",
           "ticks": "",
           "title": {
            "standoff": 15
           },
           "zerolinecolor": "white",
           "zerolinewidth": 2
          }
         }
        },
        "xaxis": {
         "anchor": "y",
         "domain": [
          0,
          1
         ],
         "title": {
          "text": "umap 1"
         }
        },
        "yaxis": {
         "anchor": "x",
         "domain": [
          0,
          1
         ],
         "title": {
          "text": "umap 2"
         }
        }
       }
      }
     },
     "metadata": {},
     "output_type": "display_data"
    }
   ],
   "source": [
    "# dimensionality reduction and visualization using UMAP\n",
    "\n",
    "um = umap.UMAP()\n",
    "embedded_data_2d = um.fit_transform(embedded_data['embedding'].tolist())\n",
    "\n",
    "color_map = {\n",
    "    '0' : 'orange',\n",
    "    '1' : 'blue'\n",
    "}\n",
    "\n",
    "fig = px.scatter(x = embedded_data_2d[:, 0], y = embedded_data_2d[:, 1], color = model.labels_.astype(str), color_discrete_map = color_map, symbol = labels['Response'])\n",
    "fig.update_layout(xaxis_title = 'umap 1', yaxis_title = 'umap 2')\n",
    "\n",
    "fig.show()"
   ]
  }
 ],
 "metadata": {
  "kernelspec": {
   "display_name": "base",
   "language": "python",
   "name": "python3"
  },
  "language_info": {
   "codemirror_mode": {
    "name": "ipython",
    "version": 3
   },
   "file_extension": ".py",
   "mimetype": "text/x-python",
   "name": "python",
   "nbconvert_exporter": "python",
   "pygments_lexer": "ipython3",
   "version": "3.8.5"
  }
 },
 "nbformat": 4,
 "nbformat_minor": 2
}
