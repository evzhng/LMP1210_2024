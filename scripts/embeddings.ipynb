{
 "cells": [
  {
   "cell_type": "code",
   "execution_count": 6,
   "metadata": {},
   "outputs": [],
   "source": [
    "# pip install -U openai scipy plotly-express scikit-learn umap-learn\n",
    "# pip install numpy == 1.23.0 # umap requires an older version of numpy"
   ]
  },
  {
   "cell_type": "code",
   "execution_count": 1,
   "metadata": {},
   "outputs": [],
   "source": [
    "import os\n",
    "import pandas as pd\n",
    "import numpy as np\n",
    "from openai import OpenAI\n",
    "from sklearn.cluster import KMeans\n",
    "from scipy.spatial import distance\n",
    "import plotly.express as px\n",
    "import umap.umap_ as umap"
   ]
  },
  {
   "cell_type": "code",
   "execution_count": 4,
   "metadata": {},
   "outputs": [
    {
     "name": "stdout",
     "output_type": "stream",
     "text": [
      "   Unnamed: 0   5S_rRNA       7SK      A1BG  A1BG-AS1      A1CF       A2M  \\\n",
      "0  SRR7344546  0.000000  1.164935  0.177984  0.646144  0.051743  7.388509   \n",
      "1  SRR7344554  0.128807  1.358727  0.070845  0.784005  0.015067  7.796801   \n",
      "2  SRR7344556  0.162194  0.143445  0.000000  0.000000  0.012671  4.623303   \n",
      "3  SRR7344564  0.267733  0.030576  0.326047  2.220248  0.105718  7.145439   \n",
      "4  SRR7344565  0.135665  0.053568  0.241141  1.811070  0.097685  6.680064   \n",
      "\n",
      "    A2M-AS1     A2ML1     A2MP1  ...   snoU2-30  snoU2_19  snoU83B   snoZ196  \\\n",
      "0  1.137378  0.051041  0.129775  ...   3.130928  3.287475  0.00000  0.000000   \n",
      "1  2.642253  0.221139  0.119809  ...  13.681881  1.575217  0.00000  0.000000   \n",
      "2  1.391299  0.016639  0.306234  ...   4.235644  0.264728  0.00000  0.000000   \n",
      "3  0.736532  0.055363  0.562818  ...   0.226744  0.000000  0.36073  2.853414   \n",
      "4  0.427896  0.927511  0.202232  ...   0.000000  0.437982  0.00000  1.574765   \n",
      "\n",
      "   snoZ278  snoZ40  snoZ6  snosnR66    uc_338  yR211F11.2  \n",
      "0      0.0     0.0    0.0       0.0  0.416320         0.0  \n",
      "1      0.0     0.0    0.0       0.0  0.364929         0.0  \n",
      "2      0.0     0.0    0.0       0.0  0.487395         0.0  \n",
      "3      0.0     0.0    0.0       0.0  0.074749         0.0  \n",
      "4      0.0     0.0    0.0       0.0  0.058304         0.0  \n",
      "\n",
      "[5 rows x 40766 columns]\n",
      "   Unnamed: 0 Response\n",
      "0  SRR7344546        R\n",
      "1  SRR7344554        N\n",
      "2  SRR7344556        N\n",
      "3  SRR7344564        N\n",
      "4  SRR7344565        N\n"
     ]
    }
   ],
   "source": [
    "'''\n",
    "Performs AI embedding on data\n",
    "'''\n",
    "\n",
    "# load data\n",
    "\n",
    "data = pd.read_csv('../data/log2_data_v3.csv')\n",
    "print(data.head())\n",
    "\n",
    "labels = pd.read_csv('../data/labels_v3.csv')\n",
    "print(labels.head())"
   ]
  },
  {
   "cell_type": "code",
   "execution_count": 5,
   "metadata": {},
   "outputs": [],
   "source": [
    "# openAI API key\n",
    "\n",
    "client = OpenAI(\n",
    "  api_key='',  \n",
    ")\n"
   ]
  },
  {
   "cell_type": "code",
   "execution_count": 6,
   "metadata": {},
   "outputs": [],
   "source": [
    "# embedding transcriptomic data\n",
    "\n",
    "def get_embedding(df):\n",
    "\n",
    "\t# model\n",
    "\t\n",
    "\tresponse = client.embeddings.create(\n",
    "    \tmodel= 'text-embedding-ada-002',\n",
    "    \tinput=[df]\n",
    "\t)\n",
    "\t# Get embedded data\n",
    "\t\n",
    "\tembedding = response.data[0].embedding\n",
    "    \n",
    "\treturn embedding"
   ]
  },
  {
   "cell_type": "code",
   "execution_count": 7,
   "metadata": {},
   "outputs": [
    {
     "name": "stdout",
     "output_type": "stream",
     "text": [
      "(125, 100)\n",
      "0      0.0 1.1649346867152932 0.17798414980298533 0.6...\n",
      "1      0.12880729789026002 1.358726836522174 0.070844...\n",
      "2      0.16219362419847294 0.14344533937100276 0.0 0....\n",
      "3      0.2677332475807369 0.03057601299596717 0.32604...\n",
      "4      0.13566506647355595 0.053567868543348565 0.241...\n",
      "                             ...                        \n",
      "120    0.18652448727387372 0.0 0.1414241399271249 0.9...\n",
      "121    0.020039051950253725 0.0 0.06217935087677976 0...\n",
      "122    0.07587424138298625 0.0 0.2033058122184411 0.6...\n",
      "123    0.12628848729363462 0.0 0.2261974310538789 1.1...\n",
      "124    0.1012481118342196 0.0 0.04323628856435453 0.7...\n",
      "Name: concatenated, Length: 125, dtype: object\n"
     ]
    }
   ],
   "source": [
    "# drop first column of sample IDs\n",
    "\n",
    "embedded_data = data.drop(data.columns[0], axis = 1)\n",
    "\n",
    "# testing: drop columns\n",
    "\n",
    "keep_thresh = 100\n",
    "embedded_data = embedded_data.iloc[:, :keep_thresh]\n",
    "print(embedded_data.shape)\n",
    "\n",
    "# change numeric to str and concatenate everything by row (sentence-like input structure required)\n",
    "\n",
    "embedded_data['concatenated'] = embedded_data.astype(str).apply(lambda row: ' '.join(row), axis = 1)\n",
    "print(embedded_data['concatenated'])\n",
    "\n",
    "# apply embeddings\n",
    "\n",
    "embedded_data['embedding'] = embedded_data['concatenated'].apply(get_embedding)\n",
    "\n"
   ]
  },
  {
   "cell_type": "code",
   "execution_count": 8,
   "metadata": {},
   "outputs": [],
   "source": [
    "# run kmeans based on embeddings \n",
    "\n",
    "# 2 clusters for responder, non-responder\n",
    "\n",
    "kmeans = KMeans(n_clusters = 2, n_init = 'auto')\n",
    "model = kmeans.fit(embedded_data['embedding'].tolist())"
   ]
  },
  {
   "cell_type": "code",
   "execution_count": 9,
   "metadata": {},
   "outputs": [
    {
     "data": {
      "application/vnd.plotly.v1+json": {
       "config": {
        "plotlyServerURL": "https://plot.ly"
       },
       "data": [
        {
         "hovertemplate": "color=0<br>symbol=R<br>x=%{x}<br>y=%{y}<extra></extra>",
         "legendgroup": "0, R",
         "marker": {
          "color": "orange",
          "symbol": "circle"
         },
         "mode": "markers",
         "name": "0, R",
         "orientation": "v",
         "showlegend": true,
         "type": "scatter",
         "x": [
          8.894969940185547,
          8.037615776062012,
          7.777003765106201,
          8.850290298461914,
          7.586927890777588,
          9.349371910095215,
          7.933516025543213,
          8.46753978729248,
          9.399324417114258,
          8.305654525756836,
          9.277787208557129,
          8.931208610534668,
          8.990118980407715,
          7.596534252166748,
          8.895153045654297
         ],
         "xaxis": "x",
         "y": [
          10.495196342468262,
          11.37328052520752,
          10.296542167663574,
          10.587535858154297,
          10.517175674438477,
          10.700935363769531,
          11.090131759643555,
          10.212714195251465,
          9.142977714538574,
          10.980779647827148,
          9.382710456848145,
          10.07877254486084,
          9.080350875854492,
          11.119466781616211,
          10.89189338684082
         ],
         "yaxis": "y"
        },
        {
         "hovertemplate": "color=0<br>symbol=N<br>x=%{x}<br>y=%{y}<extra></extra>",
         "legendgroup": "0, N",
         "marker": {
          "color": "orange",
          "symbol": "diamond"
         },
         "mode": "markers",
         "name": "0, N",
         "orientation": "v",
         "showlegend": true,
         "type": "scatter",
         "x": [
          9.215903282165527,
          9.314840316772461,
          9.278460502624512,
          8.54826831817627,
          8.222573280334473,
          8.38988208770752,
          8.05453872680664,
          8.478412628173828,
          8.415802955627441,
          9.403030395507812,
          8.848678588867188,
          8.635108947753906,
          9.153922080993652,
          8.499090194702148,
          8.70117473602295,
          9.27255630493164,
          8.600156784057617,
          8.022847175598145,
          8.812403678894043,
          7.8480048179626465,
          8.998941421508789,
          8.632528305053711,
          8.707670211791992,
          8.20779037475586,
          8.83597469329834,
          7.674930572509766
         ],
         "xaxis": "x",
         "y": [
          9.463699340820312,
          9.718178749084473,
          10.755258560180664,
          11.148106575012207,
          9.867837905883789,
          10.250166893005371,
          11.244702339172363,
          10.68055248260498,
          10.8577241897583,
          9.983841896057129,
          9.040684700012207,
          9.937801361083984,
          9.224163055419922,
          10.701325416564941,
          11.017581939697266,
          10.60312271118164,
          8.876852035522461,
          10.754016876220703,
          8.765421867370605,
          10.659183502197266,
          10.25865650177002,
          9.324219703674316,
          10.254352569580078,
          10.794461250305176,
          8.987051963806152,
          10.970211029052734
         ],
         "yaxis": "y"
        },
        {
         "hovertemplate": "color=1<br>symbol=R<br>x=%{x}<br>y=%{y}<extra></extra>",
         "legendgroup": "1, R",
         "marker": {
          "color": "blue",
          "symbol": "circle"
         },
         "mode": "markers",
         "name": "1, R",
         "orientation": "v",
         "showlegend": true,
         "type": "scatter",
         "x": [
          6.938363075256348,
          8.069881439208984,
          6.561956405639648,
          6.968954563140869,
          7.148475170135498,
          6.202032566070557,
          6.683144569396973,
          7.909828186035156,
          5.837069988250732,
          5.3063788414001465,
          6.902089595794678,
          6.9016008377075195,
          6.256009578704834,
          7.043855667114258,
          7.303971290588379,
          5.021783351898193,
          6.7078471183776855,
          5.4282732009887695,
          6.365683555603027,
          5.642838478088379,
          4.895073890686035,
          6.17264461517334,
          5.641884803771973,
          6.968611717224121,
          5.984298229217529,
          5.61107873916626,
          6.050342082977295,
          5.26039981842041,
          6.4850077629089355,
          5.207790851593018
         ],
         "xaxis": "x",
         "y": [
          9.219733238220215,
          6.524965286254883,
          9.359207153320312,
          9.716750144958496,
          7.045844554901123,
          6.96811056137085,
          8.282086372375488,
          7.319386959075928,
          6.909871578216553,
          7.437984466552734,
          8.271574020385742,
          7.3175859451293945,
          9.083125114440918,
          10.652125358581543,
          7.386476993560791,
          8.343379020690918,
          10.403494834899902,
          9.799187660217285,
          7.217933177947998,
          7.690102577209473,
          9.042476654052734,
          10.626008033752441,
          7.421510696411133,
          7.176017761230469,
          10.226490020751953,
          7.091405391693115,
          9.077818870544434,
          8.763617515563965,
          8.89297103881836,
          10.00496768951416
         ],
         "yaxis": "y"
        },
        {
         "hovertemplate": "color=1<br>symbol=N<br>x=%{x}<br>y=%{y}<extra></extra>",
         "legendgroup": "1, N",
         "marker": {
          "color": "blue",
          "symbol": "diamond"
         },
         "mode": "markers",
         "name": "1, N",
         "orientation": "v",
         "showlegend": true,
         "type": "scatter",
         "x": [
          5.8707356452941895,
          5.023043632507324,
          7.237700462341309,
          6.271475791931152,
          7.129054069519043,
          5.311450958251953,
          4.738321304321289,
          7.35974645614624,
          6.486971855163574,
          7.84913444519043,
          6.917870044708252,
          7.328072547912598,
          8.087685585021973,
          7.889132976531982,
          5.715911388397217,
          5.950531005859375,
          5.315424919128418,
          4.8434624671936035,
          6.54364013671875,
          5.7573442459106445,
          5.927618980407715,
          7.749906539916992,
          6.868326663970947,
          7.237049579620361,
          6.909248352050781,
          5.584583759307861,
          5.349498748779297,
          7.594497203826904,
          6.38702917098999,
          7.747714519500732,
          4.866644859313965,
          6.46321439743042,
          5.46731424331665,
          6.161355972290039,
          7.032427787780762,
          5.3525872230529785,
          6.849545478820801,
          6.887476444244385,
          5.344086647033691,
          5.447361946105957,
          6.987694263458252,
          5.343398094177246,
          6.03523588180542,
          5.149940490722656,
          6.530941963195801,
          5.510828495025635,
          7.287233829498291,
          7.068249702453613,
          7.05465030670166,
          4.999246120452881,
          6.499732494354248,
          5.095269203186035,
          6.036651611328125,
          6.274763107299805
         ],
         "xaxis": "x",
         "y": [
          8.96653938293457,
          8.295313835144043,
          9.12255573272705,
          8.088272094726562,
          9.419148445129395,
          7.823129653930664,
          8.996723175048828,
          7.210763931274414,
          8.517156600952148,
          6.632113933563232,
          10.559727668762207,
          6.922590732574463,
          6.513011455535889,
          6.635493278503418,
          10.00359058380127,
          7.160167217254639,
          10.216330528259277,
          8.622029304504395,
          10.713863372802734,
          10.26579475402832,
          8.082019805908203,
          6.7895050048828125,
          10.716975212097168,
          9.619854927062988,
          8.458322525024414,
          9.932456970214844,
          7.210403919219971,
          8.371415138244629,
          9.13674545288086,
          7.2803730964660645,
          8.1381196975708,
          9.596238136291504,
          8.681693077087402,
          9.762068748474121,
          10.005464553833008,
          9.586958885192871,
          7.731723308563232,
          9.674442291259766,
          10.080911636352539,
          6.975601673126221,
          7.65338134765625,
          7.632112979888916,
          10.272295951843262,
          10.252107620239258,
          7.825337886810303,
          6.845139026641846,
          7.7848124504089355,
          9.134183883666992,
          9.366961479187012,
          9.387907028198242,
          10.195157051086426,
          8.486631393432617,
          7.068386554718018,
          8.852612495422363
         ],
         "yaxis": "y"
        }
       ],
       "layout": {
        "legend": {
         "title": {
          "text": "color, symbol"
         },
         "tracegroupgap": 0
        },
        "margin": {
         "t": 60
        },
        "template": {
         "data": {
          "bar": [
           {
            "error_x": {
             "color": "#2a3f5f"
            },
            "error_y": {
             "color": "#2a3f5f"
            },
            "marker": {
             "line": {
              "color": "#E5ECF6",
              "width": 0.5
             },
             "pattern": {
              "fillmode": "overlay",
              "size": 10,
              "solidity": 0.2
             }
            },
            "type": "bar"
           }
          ],
          "barpolar": [
           {
            "marker": {
             "line": {
              "color": "#E5ECF6",
              "width": 0.5
             },
             "pattern": {
              "fillmode": "overlay",
              "size": 10,
              "solidity": 0.2
             }
            },
            "type": "barpolar"
           }
          ],
          "carpet": [
           {
            "aaxis": {
             "endlinecolor": "#2a3f5f",
             "gridcolor": "white",
             "linecolor": "white",
             "minorgridcolor": "white",
             "startlinecolor": "#2a3f5f"
            },
            "baxis": {
             "endlinecolor": "#2a3f5f",
             "gridcolor": "white",
             "linecolor": "white",
             "minorgridcolor": "white",
             "startlinecolor": "#2a3f5f"
            },
            "type": "carpet"
           }
          ],
          "choropleth": [
           {
            "colorbar": {
             "outlinewidth": 0,
             "ticks": ""
            },
            "type": "choropleth"
           }
          ],
          "contour": [
           {
            "colorbar": {
             "outlinewidth": 0,
             "ticks": ""
            },
            "colorscale": [
             [
              0,
              "#0d0887"
             ],
             [
              0.1111111111111111,
              "#46039f"
             ],
             [
              0.2222222222222222,
              "#7201a8"
             ],
             [
              0.3333333333333333,
              "#9c179e"
             ],
             [
              0.4444444444444444,
              "#bd3786"
             ],
             [
              0.5555555555555556,
              "#d8576b"
             ],
             [
              0.6666666666666666,
              "#ed7953"
             ],
             [
              0.7777777777777778,
              "#fb9f3a"
             ],
             [
              0.8888888888888888,
              "#fdca26"
             ],
             [
              1,
              "#f0f921"
             ]
            ],
            "type": "contour"
           }
          ],
          "contourcarpet": [
           {
            "colorbar": {
             "outlinewidth": 0,
             "ticks": ""
            },
            "type": "contourcarpet"
           }
          ],
          "heatmap": [
           {
            "colorbar": {
             "outlinewidth": 0,
             "ticks": ""
            },
            "colorscale": [
             [
              0,
              "#0d0887"
             ],
             [
              0.1111111111111111,
              "#46039f"
             ],
             [
              0.2222222222222222,
              "#7201a8"
             ],
             [
              0.3333333333333333,
              "#9c179e"
             ],
             [
              0.4444444444444444,
              "#bd3786"
             ],
             [
              0.5555555555555556,
              "#d8576b"
             ],
             [
              0.6666666666666666,
              "#ed7953"
             ],
             [
              0.7777777777777778,
              "#fb9f3a"
             ],
             [
              0.8888888888888888,
              "#fdca26"
             ],
             [
              1,
              "#f0f921"
             ]
            ],
            "type": "heatmap"
           }
          ],
          "heatmapgl": [
           {
            "colorbar": {
             "outlinewidth": 0,
             "ticks": ""
            },
            "colorscale": [
             [
              0,
              "#0d0887"
             ],
             [
              0.1111111111111111,
              "#46039f"
             ],
             [
              0.2222222222222222,
              "#7201a8"
             ],
             [
              0.3333333333333333,
              "#9c179e"
             ],
             [
              0.4444444444444444,
              "#bd3786"
             ],
             [
              0.5555555555555556,
              "#d8576b"
             ],
             [
              0.6666666666666666,
              "#ed7953"
             ],
             [
              0.7777777777777778,
              "#fb9f3a"
             ],
             [
              0.8888888888888888,
              "#fdca26"
             ],
             [
              1,
              "#f0f921"
             ]
            ],
            "type": "heatmapgl"
           }
          ],
          "histogram": [
           {
            "marker": {
             "pattern": {
              "fillmode": "overlay",
              "size": 10,
              "solidity": 0.2
             }
            },
            "type": "histogram"
           }
          ],
          "histogram2d": [
           {
            "colorbar": {
             "outlinewidth": 0,
             "ticks": ""
            },
            "colorscale": [
             [
              0,
              "#0d0887"
             ],
             [
              0.1111111111111111,
              "#46039f"
             ],
             [
              0.2222222222222222,
              "#7201a8"
             ],
             [
              0.3333333333333333,
              "#9c179e"
             ],
             [
              0.4444444444444444,
              "#bd3786"
             ],
             [
              0.5555555555555556,
              "#d8576b"
             ],
             [
              0.6666666666666666,
              "#ed7953"
             ],
             [
              0.7777777777777778,
              "#fb9f3a"
             ],
             [
              0.8888888888888888,
              "#fdca26"
             ],
             [
              1,
              "#f0f921"
             ]
            ],
            "type": "histogram2d"
           }
          ],
          "histogram2dcontour": [
           {
            "colorbar": {
             "outlinewidth": 0,
             "ticks": ""
            },
            "colorscale": [
             [
              0,
              "#0d0887"
             ],
             [
              0.1111111111111111,
              "#46039f"
             ],
             [
              0.2222222222222222,
              "#7201a8"
             ],
             [
              0.3333333333333333,
              "#9c179e"
             ],
             [
              0.4444444444444444,
              "#bd3786"
             ],
             [
              0.5555555555555556,
              "#d8576b"
             ],
             [
              0.6666666666666666,
              "#ed7953"
             ],
             [
              0.7777777777777778,
              "#fb9f3a"
             ],
             [
              0.8888888888888888,
              "#fdca26"
             ],
             [
              1,
              "#f0f921"
             ]
            ],
            "type": "histogram2dcontour"
           }
          ],
          "mesh3d": [
           {
            "colorbar": {
             "outlinewidth": 0,
             "ticks": ""
            },
            "type": "mesh3d"
           }
          ],
          "parcoords": [
           {
            "line": {
             "colorbar": {
              "outlinewidth": 0,
              "ticks": ""
             }
            },
            "type": "parcoords"
           }
          ],
          "pie": [
           {
            "automargin": true,
            "type": "pie"
           }
          ],
          "scatter": [
           {
            "fillpattern": {
             "fillmode": "overlay",
             "size": 10,
             "solidity": 0.2
            },
            "type": "scatter"
           }
          ],
          "scatter3d": [
           {
            "line": {
             "colorbar": {
              "outlinewidth": 0,
              "ticks": ""
             }
            },
            "marker": {
             "colorbar": {
              "outlinewidth": 0,
              "ticks": ""
             }
            },
            "type": "scatter3d"
           }
          ],
          "scattercarpet": [
           {
            "marker": {
             "colorbar": {
              "outlinewidth": 0,
              "ticks": ""
             }
            },
            "type": "scattercarpet"
           }
          ],
          "scattergeo": [
           {
            "marker": {
             "colorbar": {
              "outlinewidth": 0,
              "ticks": ""
             }
            },
            "type": "scattergeo"
           }
          ],
          "scattergl": [
           {
            "marker": {
             "colorbar": {
              "outlinewidth": 0,
              "ticks": ""
             }
            },
            "type": "scattergl"
           }
          ],
          "scattermapbox": [
           {
            "marker": {
             "colorbar": {
              "outlinewidth": 0,
              "ticks": ""
             }
            },
            "type": "scattermapbox"
           }
          ],
          "scatterpolar": [
           {
            "marker": {
             "colorbar": {
              "outlinewidth": 0,
              "ticks": ""
             }
            },
            "type": "scatterpolar"
           }
          ],
          "scatterpolargl": [
           {
            "marker": {
             "colorbar": {
              "outlinewidth": 0,
              "ticks": ""
             }
            },
            "type": "scatterpolargl"
           }
          ],
          "scatterternary": [
           {
            "marker": {
             "colorbar": {
              "outlinewidth": 0,
              "ticks": ""
             }
            },
            "type": "scatterternary"
           }
          ],
          "surface": [
           {
            "colorbar": {
             "outlinewidth": 0,
             "ticks": ""
            },
            "colorscale": [
             [
              0,
              "#0d0887"
             ],
             [
              0.1111111111111111,
              "#46039f"
             ],
             [
              0.2222222222222222,
              "#7201a8"
             ],
             [
              0.3333333333333333,
              "#9c179e"
             ],
             [
              0.4444444444444444,
              "#bd3786"
             ],
             [
              0.5555555555555556,
              "#d8576b"
             ],
             [
              0.6666666666666666,
              "#ed7953"
             ],
             [
              0.7777777777777778,
              "#fb9f3a"
             ],
             [
              0.8888888888888888,
              "#fdca26"
             ],
             [
              1,
              "#f0f921"
             ]
            ],
            "type": "surface"
           }
          ],
          "table": [
           {
            "cells": {
             "fill": {
              "color": "#EBF0F8"
             },
             "line": {
              "color": "white"
             }
            },
            "header": {
             "fill": {
              "color": "#C8D4E3"
             },
             "line": {
              "color": "white"
             }
            },
            "type": "table"
           }
          ]
         },
         "layout": {
          "annotationdefaults": {
           "arrowcolor": "#2a3f5f",
           "arrowhead": 0,
           "arrowwidth": 1
          },
          "autotypenumbers": "strict",
          "coloraxis": {
           "colorbar": {
            "outlinewidth": 0,
            "ticks": ""
           }
          },
          "colorscale": {
           "diverging": [
            [
             0,
             "#8e0152"
            ],
            [
             0.1,
             "#c51b7d"
            ],
            [
             0.2,
             "#de77ae"
            ],
            [
             0.3,
             "#f1b6da"
            ],
            [
             0.4,
             "#fde0ef"
            ],
            [
             0.5,
             "#f7f7f7"
            ],
            [
             0.6,
             "#e6f5d0"
            ],
            [
             0.7,
             "#b8e186"
            ],
            [
             0.8,
             "#7fbc41"
            ],
            [
             0.9,
             "#4d9221"
            ],
            [
             1,
             "#276419"
            ]
           ],
           "sequential": [
            [
             0,
             "#0d0887"
            ],
            [
             0.1111111111111111,
             "#46039f"
            ],
            [
             0.2222222222222222,
             "#7201a8"
            ],
            [
             0.3333333333333333,
             "#9c179e"
            ],
            [
             0.4444444444444444,
             "#bd3786"
            ],
            [
             0.5555555555555556,
             "#d8576b"
            ],
            [
             0.6666666666666666,
             "#ed7953"
            ],
            [
             0.7777777777777778,
             "#fb9f3a"
            ],
            [
             0.8888888888888888,
             "#fdca26"
            ],
            [
             1,
             "#f0f921"
            ]
           ],
           "sequentialminus": [
            [
             0,
             "#0d0887"
            ],
            [
             0.1111111111111111,
             "#46039f"
            ],
            [
             0.2222222222222222,
             "#7201a8"
            ],
            [
             0.3333333333333333,
             "#9c179e"
            ],
            [
             0.4444444444444444,
             "#bd3786"
            ],
            [
             0.5555555555555556,
             "#d8576b"
            ],
            [
             0.6666666666666666,
             "#ed7953"
            ],
            [
             0.7777777777777778,
             "#fb9f3a"
            ],
            [
             0.8888888888888888,
             "#fdca26"
            ],
            [
             1,
             "#f0f921"
            ]
           ]
          },
          "colorway": [
           "#636efa",
           "#EF553B",
           "#00cc96",
           "#ab63fa",
           "#FFA15A",
           "#19d3f3",
           "#FF6692",
           "#B6E880",
           "#FF97FF",
           "#FECB52"
          ],
          "font": {
           "color": "#2a3f5f"
          },
          "geo": {
           "bgcolor": "white",
           "lakecolor": "white",
           "landcolor": "#E5ECF6",
           "showlakes": true,
           "showland": true,
           "subunitcolor": "white"
          },
          "hoverlabel": {
           "align": "left"
          },
          "hovermode": "closest",
          "mapbox": {
           "style": "light"
          },
          "paper_bgcolor": "white",
          "plot_bgcolor": "#E5ECF6",
          "polar": {
           "angularaxis": {
            "gridcolor": "white",
            "linecolor": "white",
            "ticks": ""
           },
           "bgcolor": "#E5ECF6",
           "radialaxis": {
            "gridcolor": "white",
            "linecolor": "white",
            "ticks": ""
           }
          },
          "scene": {
           "xaxis": {
            "backgroundcolor": "#E5ECF6",
            "gridcolor": "white",
            "gridwidth": 2,
            "linecolor": "white",
            "showbackground": true,
            "ticks": "",
            "zerolinecolor": "white"
           },
           "yaxis": {
            "backgroundcolor": "#E5ECF6",
            "gridcolor": "white",
            "gridwidth": 2,
            "linecolor": "white",
            "showbackground": true,
            "ticks": "",
            "zerolinecolor": "white"
           },
           "zaxis": {
            "backgroundcolor": "#E5ECF6",
            "gridcolor": "white",
            "gridwidth": 2,
            "linecolor": "white",
            "showbackground": true,
            "ticks": "",
            "zerolinecolor": "white"
           }
          },
          "shapedefaults": {
           "line": {
            "color": "#2a3f5f"
           }
          },
          "ternary": {
           "aaxis": {
            "gridcolor": "white",
            "linecolor": "white",
            "ticks": ""
           },
           "baxis": {
            "gridcolor": "white",
            "linecolor": "white",
            "ticks": ""
           },
           "bgcolor": "#E5ECF6",
           "caxis": {
            "gridcolor": "white",
            "linecolor": "white",
            "ticks": ""
           }
          },
          "title": {
           "x": 0.05
          },
          "xaxis": {
           "automargin": true,
           "gridcolor": "white",
           "linecolor": "white",
           "ticks": "",
           "title": {
            "standoff": 15
           },
           "zerolinecolor": "white",
           "zerolinewidth": 2
          },
          "yaxis": {
           "automargin": true,
           "gridcolor": "white",
           "linecolor": "white",
           "ticks": "",
           "title": {
            "standoff": 15
           },
           "zerolinecolor": "white",
           "zerolinewidth": 2
          }
         }
        },
        "xaxis": {
         "anchor": "y",
         "domain": [
          0,
          1
         ],
         "title": {
          "text": "umap 1"
         }
        },
        "yaxis": {
         "anchor": "x",
         "domain": [
          0,
          1
         ],
         "title": {
          "text": "umap 2"
         }
        }
       }
      }
     },
     "metadata": {},
     "output_type": "display_data"
    }
   ],
   "source": [
    "# dimensionality reduction and visualization using UMAP\n",
    "\n",
    "um = umap.UMAP()\n",
    "embedded_data_2d = um.fit_transform(embedded_data['embedding'].tolist())\n",
    "\n",
    "color_map = {\n",
    "    '0' : 'orange',\n",
    "    '1' : 'blue'\n",
    "}\n",
    "\n",
    "fig = px.scatter(x = embedded_data_2d[:, 0], y = embedded_data_2d[:, 1], color = model.labels_.astype(str), color_discrete_map = color_map, symbol = labels['Response'])\n",
    "fig.update_layout(xaxis_title = 'umap 1', yaxis_title = 'umap 2')\n",
    "\n",
    "fig.show()"
   ]
  },
  {
   "cell_type": "code",
   "execution_count": 24,
   "metadata": {},
   "outputs": [],
   "source": [
    "# export cluster assignments\n",
    "\n",
    "clusters_embedding = pd.concat([labels, pd.DataFrame(model.labels_, columns = ['cluster'])], axis = 1)\n",
    "\n",
    "clusters_embedding.to_csv('../data/clusters_embedding.csv', index = False)\n",
    "\n",
    "# export data for L1 log reg\n",
    "embedded_data['embedding'].to_csv('../data/embedded_data.csv', index = False)\n",
    "\n"
   ]
  }
 ],
 "metadata": {
  "kernelspec": {
   "display_name": "base",
   "language": "python",
   "name": "python3"
  },
  "language_info": {
   "codemirror_mode": {
    "name": "ipython",
    "version": 3
   },
   "file_extension": ".py",
   "mimetype": "text/x-python",
   "name": "python",
   "nbconvert_exporter": "python",
   "pygments_lexer": "ipython3",
   "version": "3.8.5"
  }
 },
 "nbformat": 4,
 "nbformat_minor": 2
}
