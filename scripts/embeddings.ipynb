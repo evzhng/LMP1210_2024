{
 "cells": [
  {
   "cell_type": "code",
   "execution_count": 46,
   "metadata": {},
   "outputs": [],
   "source": [
    "# pip install -U openai scipy plotly-express scikit-learn umap-learn\n",
    "# pip install numpy == 1.23.0 # umap requires an older version of numpy"
   ]
  },
  {
   "cell_type": "code",
   "execution_count": 47,
   "metadata": {},
   "outputs": [],
   "source": [
    "import os\n",
    "import pandas as pd\n",
    "import numpy as np\n",
    "from openai import OpenAI\n",
    "from sklearn.cluster import KMeans\n",
    "from scipy.spatial import distance\n",
    "import plotly.express as px\n",
    "import umap.umap_ as umap\n",
    "from sklearn.preprocessing import LabelEncoder\n",
    "from sklearn.model_selection import train_test_split\n",
    "from sklearn.metrics import accuracy_score\n",
    "from sklearn.linear_model import LogisticRegression\n",
    "from sklearn.model_selection import GridSearchCV"
   ]
  },
  {
   "cell_type": "code",
   "execution_count": 48,
   "metadata": {},
   "outputs": [
    {
     "name": "stdout",
     "output_type": "stream",
     "text": [
      "        RN7SL2        FTL     MT-CO3     MT-CO2    MT-ATP8    MT-ATP6  \\\n",
      "0    15.038124  10.267509   6.096489   6.029887   4.996209   4.828822   \n",
      "1    15.313833   9.622666   9.860376   9.738486   9.475843   9.217649   \n",
      "2    16.739384   9.744946  10.067124  10.726867   8.760113   8.636872   \n",
      "3     6.150741  11.761988  11.113195  10.876473   9.272044  10.677880   \n",
      "4     6.737094  11.851334  10.608619  10.246659   8.657706   9.951498   \n",
      "..         ...        ...        ...        ...        ...        ...   \n",
      "111   4.355103  11.250609  13.168966  12.982082  12.444777  12.334313   \n",
      "112   6.131375   9.797686  13.330152  13.433663  13.033499  13.012454   \n",
      "113   4.201878  10.747962  13.237784  12.853114  12.543654  12.216011   \n",
      "114   7.196152  11.728989  13.865689  14.082163  13.449037  13.490130   \n",
      "115   5.810201  11.861459  13.483685  14.015472  12.733038  12.980847   \n",
      "\n",
      "        MT-CO1       IGKC     MT-ND4    MT-RNR2  ...      CTSB     IGKJ1  \\\n",
      "0     7.590253   5.647115   5.412997   5.024420  ...  7.253257  0.000000   \n",
      "1    10.936979   5.360864   8.928858   7.789543  ...  7.433607  0.000000   \n",
      "2    11.444593   9.147465   8.696023   6.988178  ...  5.344500  1.691215   \n",
      "3    11.052563  10.066972  10.668391   9.690645  ...  7.083906  4.836296   \n",
      "4    10.451394  10.013964   9.771394   9.228568  ...  7.081397  2.933361   \n",
      "..         ...        ...        ...        ...  ...       ...       ...   \n",
      "111  13.182728  10.708819  12.691640  12.482063  ...  7.754951  5.336761   \n",
      "112  13.181086   9.660553  12.633035  12.026346  ...  7.186584  4.257262   \n",
      "113  13.232737   7.957063  12.573261  12.525359  ...  7.354137  2.412854   \n",
      "114  13.789122  11.016040  13.358010  13.648787  ...  8.103934  4.390403   \n",
      "115  13.707471  13.056523  13.238818  13.404275  ...  8.012906  6.055888   \n",
      "\n",
      "       SPRR2E   IGKV4-1  TFF1        HP      HLA-A   IGHV3-7  HLA-DRB1  \\\n",
      "0    0.000000  0.217787   0.0  0.474323   9.465274  0.000000  8.906496   \n",
      "1    0.185674  3.118167   0.0  0.052839   7.720830  0.000000  5.987946   \n",
      "2    0.000000  0.558147   0.0  0.066288   3.604023  0.259431  5.674888   \n",
      "3    0.000000  5.996376   0.0  0.429230   8.847922  2.360120  8.026241   \n",
      "4    4.917178  4.459239   0.0  0.128755   9.050430  4.492624  8.053082   \n",
      "..        ...       ...   ...       ...        ...       ...       ...   \n",
      "111  0.270362  6.296828   0.0  1.004117   9.659730  4.894998  9.073784   \n",
      "112  7.285802  4.433527   0.0  3.291759   8.372716  3.387898  7.967589   \n",
      "113  0.373331  4.599007   0.0  0.521399   9.275573  2.136633  8.672348   \n",
      "114  0.000000  5.742371   0.0  0.064506  10.039392  6.576920  7.145275   \n",
      "115  0.000000  8.117690   0.0  0.228441   9.577390  7.690226  7.570892   \n",
      "\n",
      "       KRTDAP  \n",
      "0    0.000000  \n",
      "1    0.204788  \n",
      "2    0.000000  \n",
      "3    0.132312  \n",
      "4    5.337647  \n",
      "..        ...  \n",
      "111  0.883613  \n",
      "112  7.162938  \n",
      "113  1.151287  \n",
      "114  0.004328  \n",
      "115  0.000000  \n",
      "\n",
      "[116 rows x 100 columns]\n",
      "     Unnamed: 0  Response\n",
      "0             0         1\n",
      "1             1         0\n",
      "2             2         0\n",
      "3             3         0\n",
      "4             4         0\n",
      "..          ...       ...\n",
      "111         111         1\n",
      "112         112         1\n",
      "113         113         1\n",
      "114         114         1\n",
      "115         115         1\n",
      "\n",
      "[116 rows x 2 columns]\n"
     ]
    }
   ],
   "source": [
    "'''\n",
    "Performs AI embedding on data\n",
    "'''\n",
    "\n",
    "# load data\n",
    "\n",
    "data = pd.read_csv('../data/GSE910_SMOTE_log2_top100.csv')\n",
    "data = data.drop(data.columns[0], axis =1)\n",
    "print(data)\n",
    "\n",
    "labels = pd.read_csv('../data/GSE910_SMOTE_labels_top100.csv')\n",
    "print(labels)\n",
    "\n"
   ]
  },
  {
   "cell_type": "code",
   "execution_count": 49,
   "metadata": {},
   "outputs": [],
   "source": [
    "# openAI API key\n",
    "\n",
    "client = OpenAI(\n",
    "  api_key='',  \n",
    ")\n"
   ]
  },
  {
   "cell_type": "code",
   "execution_count": 50,
   "metadata": {},
   "outputs": [],
   "source": [
    "# embedding transcriptomic data\n",
    "\n",
    "def get_embedding(df):\n",
    "\n",
    "\t# model\n",
    "\t\n",
    "\tresponse = client.embeddings.create(\n",
    "    \tmodel= 'text-embedding-ada-002',\n",
    "    \tinput=[df]\n",
    "\t)\n",
    "\t# Get embedded data\n",
    "\t\n",
    "\tembedding = response.data[0].embedding\n",
    "    \n",
    "\treturn embedding"
   ]
  },
  {
   "cell_type": "code",
   "execution_count": 62,
   "metadata": {},
   "outputs": [
    {
     "name": "stdout",
     "output_type": "stream",
     "text": [
      "(116, 100)\n",
      "0      15.038123971976647 10.26750924509026 6.0964890...\n",
      "1      15.313832801838668 9.6226660795167 9.860376156...\n",
      "2      16.73938425784841 9.744945814413533 10.0671239...\n",
      "3      6.150741097513215 11.761988404115765 11.113195...\n",
      "4      6.7370942412119295 11.851334460576384 10.60861...\n",
      "                             ...                        \n",
      "111    4.35510302926095 11.250608516979582 13.1689662...\n",
      "112    6.131374697434058 9.797685814655683 13.3301520...\n",
      "113    4.2018779911227995 10.74796235187887 13.237783...\n",
      "114    7.1961515607316375 11.728988798545844 13.86568...\n",
      "115    5.810201197714824 11.861458887347524 13.483685...\n",
      "Name: concatenated, Length: 116, dtype: object\n"
     ]
    }
   ],
   "source": [
    "# drop first column of sample IDs\n",
    "\n",
    "embedded_data = data\n",
    "# embedded_data = data.drop(data.columns[0], axis = 1)\n",
    "print(embedded_data.shape)\n",
    "\n",
    "# change numeric to str and concatenate everything by row (sentence-like input structure required)\n",
    "\n",
    "embedded_data['concatenated'] = embedded_data.astype(str).apply(lambda row: ' '.join(row), axis = 1)\n",
    "print(embedded_data['concatenated'])\n",
    "\n",
    "# apply embeddings\n",
    "\n",
    "embedded_data['embedding'] = embedded_data['concatenated'].apply(get_embedding)\n",
    "\n"
   ]
  },
  {
   "cell_type": "code",
   "execution_count": 63,
   "metadata": {},
   "outputs": [
    {
     "data": {
      "application/vnd.plotly.v1+json": {
       "config": {
        "plotlyServerURL": "https://plot.ly"
       },
       "data": [
        {
         "hovertemplate": "x=%{x}<br>y=%{y}<br>color=%{marker.color}<extra></extra>",
         "legendgroup": "",
         "marker": {
          "color": [
           1,
           0,
           0,
           0,
           0,
           0,
           0,
           0,
           0,
           1,
           1,
           1,
           1,
           0,
           1,
           1,
           0,
           0,
           1,
           0,
           1,
           1,
           0,
           0,
           0,
           0,
           1,
           1,
           1,
           0,
           0,
           0,
           1,
           1,
           1,
           0,
           0,
           0,
           0,
           0,
           1,
           0,
           0,
           0,
           1,
           0,
           0,
           0,
           1,
           0,
           0,
           0,
           0,
           0,
           0,
           1,
           0,
           0,
           0,
           0,
           1,
           0,
           0,
           0,
           0,
           0,
           1,
           0,
           1,
           0,
           0,
           0,
           0,
           0,
           0,
           1,
           0,
           0,
           0,
           0,
           0,
           1,
           0,
           1,
           1,
           1,
           1,
           1,
           1,
           1,
           1,
           1,
           1,
           1,
           1,
           1,
           1,
           1,
           1,
           1,
           1,
           1,
           1,
           1,
           1,
           1,
           1,
           1,
           1,
           1,
           1,
           1,
           1,
           1,
           1,
           1
          ],
          "coloraxis": "coloraxis",
          "symbol": "circle"
         },
         "mode": "markers",
         "name": "",
         "orientation": "v",
         "showlegend": false,
         "type": "scatter",
         "x": [
          14.199568748474121,
          14.126717567443848,
          14.244708061218262,
          14.957393646240234,
          14.659165382385254,
          17.418184280395508,
          15.210183143615723,
          15.619717597961426,
          16.359764099121094,
          15.506802558898926,
          15.014596939086914,
          14.811256408691406,
          14.429438591003418,
          16.184993743896484,
          15.545528411865234,
          15.088129997253418,
          18.987606048583984,
          18.73170280456543,
          17.031734466552734,
          15.996170997619629,
          16.015003204345703,
          14.345321655273438,
          17.565757751464844,
          16.6369686126709,
          14.548944473266602,
          14.770938873291016,
          17.549772262573242,
          18.476228713989258,
          15.72642993927002,
          15.998270034790039,
          16.841449737548828,
          16.948318481445312,
          15.536770820617676,
          16.470678329467773,
          17.57026481628418,
          17.749189376831055,
          17.300405502319336,
          18.85597801208496,
          15.141623497009277,
          16.82495880126953,
          17.842695236206055,
          16.72394371032715,
          15.703812599182129,
          18.74705696105957,
          15.873591423034668,
          18.131933212280273,
          16.27215576171875,
          18.162073135375977,
          16.04789924621582,
          17.887617111206055,
          17.96270179748535,
          16.56405258178711,
          18.303913116455078,
          14.786046028137207,
          17.645275115966797,
          14.443039894104004,
          16.967378616333008,
          15.033093452453613,
          14.82122802734375,
          14.551385879516602,
          19.19976234436035,
          18.392372131347656,
          17.7868595123291,
          18.28367042541504,
          18.060970306396484,
          16.573143005371094,
          17.918169021606445,
          18.044340133666992,
          17.795886993408203,
          18.702377319335938,
          16.63994789123535,
          17.44114112854004,
          18.154529571533203,
          15.63123607635498,
          18.12031364440918,
          18.711040496826172,
          14.595907211303711,
          17.897075653076172,
          17.76070213317871,
          17.757902145385742,
          19.170398712158203,
          17.053342819213867,
          16.13406753540039,
          17.940916061401367,
          18.733430862426758,
          17.115264892578125,
          16.94805145263672,
          15.681480407714844,
          17.271434783935547,
          16.262693405151367,
          14.66578483581543,
          15.374282836914062,
          17.470422744750977,
          16.363101959228516,
          18.963266372680664,
          15.37289810180664,
          16.0198917388916,
          18.789688110351562,
          18.96954917907715,
          16.908802032470703,
          17.416967391967773,
          17.301307678222656,
          16.629114151000977,
          18.516944885253906,
          17.611852645874023,
          17.78936767578125,
          15.174995422363281,
          14.758033752441406,
          14.891228675842285,
          17.16084861755371,
          17.861637115478516,
          17.9334659576416,
          17.225358963012695,
          17.321481704711914,
          16.52338981628418,
          14.995626449584961
         ],
         "xaxis": "x",
         "y": [
          1.1728781461715698,
          1.0487967729568481,
          0.7636377811431885,
          -0.013334180228412151,
          0.23017627000808716,
          -1.3718557357788086,
          1.4406899213790894,
          3.1710548400878906,
          -0.458102822303772,
          0.5209859609603882,
          3.1094377040863037,
          0.6461737155914307,
          1.6588503122329712,
          2.2612788677215576,
          3.1911747455596924,
          1.598737359046936,
          1.8637815713882446,
          2.1202478408813477,
          1.7179396152496338,
          -0.46005380153656006,
          2.842264413833618,
          1.5417107343673706,
          0.26019641757011414,
          1.4371761083602905,
          2.2811429500579834,
          2.13230562210083,
          -0.7296755313873291,
          1.8546370267868042,
          1.0724363327026367,
          1.4932479858398438,
          2.3632969856262207,
          1.4827619791030884,
          0.7631646394729614,
          2.676992416381836,
          1.914246678352356,
          -0.02364804781973362,
          2.990992784500122,
          1.9434107542037964,
          1.4563753604888916,
          3.3120195865631104,
          -0.7044491767883301,
          0.15509162843227386,
          0.4097001552581787,
          1.5134012699127197,
          0.114444300532341,
          -0.7528950572013855,
          -0.3125363886356354,
          -1.1898744106292725,
          3.4306578636169434,
          -1.1705266237258911,
          -1.3623642921447754,
          3.640408992767334,
          -0.7354004979133606,
          1.6533150672912598,
          -0.5679901242256165,
          1.8971463441848755,
          -0.5579583048820496,
          1.801125168800354,
          2.493727445602417,
          2.1590797901153564,
          2.521855592727661,
          1.0920265913009644,
          2.895677328109741,
          0.9204398393630981,
          1.2621345520019531,
          -0.3367283344268799,
          1.4373862743377686,
          -1.0048816204071045,
          1.1339304447174072,
          1.4507862329483032,
          1.9292587041854858,
          -1.17717707157135,
          2.443406343460083,
          3.2380826473236084,
          0.5922764539718628,
          2.496999502182007,
          3.2255024909973145,
          0.4237893223762512,
          -1.188751220703125,
          -1.0484853982925415,
          2.1286683082580566,
          0.29144519567489624,
          3.2225470542907715,
          2.8934082984924316,
          2.380462169647217,
          1.8925093412399292,
          0.17754849791526794,
          2.7944459915161133,
          1.340553641319275,
          3.5234017372131348,
          3.0105507373809814,
          0.8959179520606995,
          0.4686289429664612,
          0.06960423290729523,
          2.3046679496765137,
          2.956923007965088,
          0.8552587032318115,
          2.5309698581695557,
          2.6608338356018066,
          -0.5029922127723694,
          1.804486870765686,
          3.3971612453460693,
          2.4908297061920166,
          1.900080919265747,
          1.2109448909759521,
          2.2924716472625732,
          3.246500253677368,
          0.661052405834198,
          3.158081293106079,
          -1.1395431756973267,
          0.9838059544563293,
          -0.5393995046615601,
          1.7204705476760864,
          -0.8955090045928955,
          2.576646327972412,
          1.165706992149353
         ],
         "yaxis": "y"
        }
       ],
       "layout": {
        "coloraxis": {
         "colorbar": {
          "title": {
           "text": "color"
          }
         },
         "colorscale": [
          [
           0,
           "#0d0887"
          ],
          [
           0.1111111111111111,
           "#46039f"
          ],
          [
           0.2222222222222222,
           "#7201a8"
          ],
          [
           0.3333333333333333,
           "#9c179e"
          ],
          [
           0.4444444444444444,
           "#bd3786"
          ],
          [
           0.5555555555555556,
           "#d8576b"
          ],
          [
           0.6666666666666666,
           "#ed7953"
          ],
          [
           0.7777777777777778,
           "#fb9f3a"
          ],
          [
           0.8888888888888888,
           "#fdca26"
          ],
          [
           1,
           "#f0f921"
          ]
         ]
        },
        "height": 400,
        "legend": {
         "tracegroupgap": 0
        },
        "margin": {
         "t": 60
        },
        "template": {
         "data": {
          "bar": [
           {
            "error_x": {
             "color": "#2a3f5f"
            },
            "error_y": {
             "color": "#2a3f5f"
            },
            "marker": {
             "line": {
              "color": "#E5ECF6",
              "width": 0.5
             },
             "pattern": {
              "fillmode": "overlay",
              "size": 10,
              "solidity": 0.2
             }
            },
            "type": "bar"
           }
          ],
          "barpolar": [
           {
            "marker": {
             "line": {
              "color": "#E5ECF6",
              "width": 0.5
             },
             "pattern": {
              "fillmode": "overlay",
              "size": 10,
              "solidity": 0.2
             }
            },
            "type": "barpolar"
           }
          ],
          "carpet": [
           {
            "aaxis": {
             "endlinecolor": "#2a3f5f",
             "gridcolor": "white",
             "linecolor": "white",
             "minorgridcolor": "white",
             "startlinecolor": "#2a3f5f"
            },
            "baxis": {
             "endlinecolor": "#2a3f5f",
             "gridcolor": "white",
             "linecolor": "white",
             "minorgridcolor": "white",
             "startlinecolor": "#2a3f5f"
            },
            "type": "carpet"
           }
          ],
          "choropleth": [
           {
            "colorbar": {
             "outlinewidth": 0,
             "ticks": ""
            },
            "type": "choropleth"
           }
          ],
          "contour": [
           {
            "colorbar": {
             "outlinewidth": 0,
             "ticks": ""
            },
            "colorscale": [
             [
              0,
              "#0d0887"
             ],
             [
              0.1111111111111111,
              "#46039f"
             ],
             [
              0.2222222222222222,
              "#7201a8"
             ],
             [
              0.3333333333333333,
              "#9c179e"
             ],
             [
              0.4444444444444444,
              "#bd3786"
             ],
             [
              0.5555555555555556,
              "#d8576b"
             ],
             [
              0.6666666666666666,
              "#ed7953"
             ],
             [
              0.7777777777777778,
              "#fb9f3a"
             ],
             [
              0.8888888888888888,
              "#fdca26"
             ],
             [
              1,
              "#f0f921"
             ]
            ],
            "type": "contour"
           }
          ],
          "contourcarpet": [
           {
            "colorbar": {
             "outlinewidth": 0,
             "ticks": ""
            },
            "type": "contourcarpet"
           }
          ],
          "heatmap": [
           {
            "colorbar": {
             "outlinewidth": 0,
             "ticks": ""
            },
            "colorscale": [
             [
              0,
              "#0d0887"
             ],
             [
              0.1111111111111111,
              "#46039f"
             ],
             [
              0.2222222222222222,
              "#7201a8"
             ],
             [
              0.3333333333333333,
              "#9c179e"
             ],
             [
              0.4444444444444444,
              "#bd3786"
             ],
             [
              0.5555555555555556,
              "#d8576b"
             ],
             [
              0.6666666666666666,
              "#ed7953"
             ],
             [
              0.7777777777777778,
              "#fb9f3a"
             ],
             [
              0.8888888888888888,
              "#fdca26"
             ],
             [
              1,
              "#f0f921"
             ]
            ],
            "type": "heatmap"
           }
          ],
          "heatmapgl": [
           {
            "colorbar": {
             "outlinewidth": 0,
             "ticks": ""
            },
            "colorscale": [
             [
              0,
              "#0d0887"
             ],
             [
              0.1111111111111111,
              "#46039f"
             ],
             [
              0.2222222222222222,
              "#7201a8"
             ],
             [
              0.3333333333333333,
              "#9c179e"
             ],
             [
              0.4444444444444444,
              "#bd3786"
             ],
             [
              0.5555555555555556,
              "#d8576b"
             ],
             [
              0.6666666666666666,
              "#ed7953"
             ],
             [
              0.7777777777777778,
              "#fb9f3a"
             ],
             [
              0.8888888888888888,
              "#fdca26"
             ],
             [
              1,
              "#f0f921"
             ]
            ],
            "type": "heatmapgl"
           }
          ],
          "histogram": [
           {
            "marker": {
             "pattern": {
              "fillmode": "overlay",
              "size": 10,
              "solidity": 0.2
             }
            },
            "type": "histogram"
           }
          ],
          "histogram2d": [
           {
            "colorbar": {
             "outlinewidth": 0,
             "ticks": ""
            },
            "colorscale": [
             [
              0,
              "#0d0887"
             ],
             [
              0.1111111111111111,
              "#46039f"
             ],
             [
              0.2222222222222222,
              "#7201a8"
             ],
             [
              0.3333333333333333,
              "#9c179e"
             ],
             [
              0.4444444444444444,
              "#bd3786"
             ],
             [
              0.5555555555555556,
              "#d8576b"
             ],
             [
              0.6666666666666666,
              "#ed7953"
             ],
             [
              0.7777777777777778,
              "#fb9f3a"
             ],
             [
              0.8888888888888888,
              "#fdca26"
             ],
             [
              1,
              "#f0f921"
             ]
            ],
            "type": "histogram2d"
           }
          ],
          "histogram2dcontour": [
           {
            "colorbar": {
             "outlinewidth": 0,
             "ticks": ""
            },
            "colorscale": [
             [
              0,
              "#0d0887"
             ],
             [
              0.1111111111111111,
              "#46039f"
             ],
             [
              0.2222222222222222,
              "#7201a8"
             ],
             [
              0.3333333333333333,
              "#9c179e"
             ],
             [
              0.4444444444444444,
              "#bd3786"
             ],
             [
              0.5555555555555556,
              "#d8576b"
             ],
             [
              0.6666666666666666,
              "#ed7953"
             ],
             [
              0.7777777777777778,
              "#fb9f3a"
             ],
             [
              0.8888888888888888,
              "#fdca26"
             ],
             [
              1,
              "#f0f921"
             ]
            ],
            "type": "histogram2dcontour"
           }
          ],
          "mesh3d": [
           {
            "colorbar": {
             "outlinewidth": 0,
             "ticks": ""
            },
            "type": "mesh3d"
           }
          ],
          "parcoords": [
           {
            "line": {
             "colorbar": {
              "outlinewidth": 0,
              "ticks": ""
             }
            },
            "type": "parcoords"
           }
          ],
          "pie": [
           {
            "automargin": true,
            "type": "pie"
           }
          ],
          "scatter": [
           {
            "fillpattern": {
             "fillmode": "overlay",
             "size": 10,
             "solidity": 0.2
            },
            "type": "scatter"
           }
          ],
          "scatter3d": [
           {
            "line": {
             "colorbar": {
              "outlinewidth": 0,
              "ticks": ""
             }
            },
            "marker": {
             "colorbar": {
              "outlinewidth": 0,
              "ticks": ""
             }
            },
            "type": "scatter3d"
           }
          ],
          "scattercarpet": [
           {
            "marker": {
             "colorbar": {
              "outlinewidth": 0,
              "ticks": ""
             }
            },
            "type": "scattercarpet"
           }
          ],
          "scattergeo": [
           {
            "marker": {
             "colorbar": {
              "outlinewidth": 0,
              "ticks": ""
             }
            },
            "type": "scattergeo"
           }
          ],
          "scattergl": [
           {
            "marker": {
             "colorbar": {
              "outlinewidth": 0,
              "ticks": ""
             }
            },
            "type": "scattergl"
           }
          ],
          "scattermapbox": [
           {
            "marker": {
             "colorbar": {
              "outlinewidth": 0,
              "ticks": ""
             }
            },
            "type": "scattermapbox"
           }
          ],
          "scatterpolar": [
           {
            "marker": {
             "colorbar": {
              "outlinewidth": 0,
              "ticks": ""
             }
            },
            "type": "scatterpolar"
           }
          ],
          "scatterpolargl": [
           {
            "marker": {
             "colorbar": {
              "outlinewidth": 0,
              "ticks": ""
             }
            },
            "type": "scatterpolargl"
           }
          ],
          "scatterternary": [
           {
            "marker": {
             "colorbar": {
              "outlinewidth": 0,
              "ticks": ""
             }
            },
            "type": "scatterternary"
           }
          ],
          "surface": [
           {
            "colorbar": {
             "outlinewidth": 0,
             "ticks": ""
            },
            "colorscale": [
             [
              0,
              "#0d0887"
             ],
             [
              0.1111111111111111,
              "#46039f"
             ],
             [
              0.2222222222222222,
              "#7201a8"
             ],
             [
              0.3333333333333333,
              "#9c179e"
             ],
             [
              0.4444444444444444,
              "#bd3786"
             ],
             [
              0.5555555555555556,
              "#d8576b"
             ],
             [
              0.6666666666666666,
              "#ed7953"
             ],
             [
              0.7777777777777778,
              "#fb9f3a"
             ],
             [
              0.8888888888888888,
              "#fdca26"
             ],
             [
              1,
              "#f0f921"
             ]
            ],
            "type": "surface"
           }
          ],
          "table": [
           {
            "cells": {
             "fill": {
              "color": "#EBF0F8"
             },
             "line": {
              "color": "white"
             }
            },
            "header": {
             "fill": {
              "color": "#C8D4E3"
             },
             "line": {
              "color": "white"
             }
            },
            "type": "table"
           }
          ]
         },
         "layout": {
          "annotationdefaults": {
           "arrowcolor": "#2a3f5f",
           "arrowhead": 0,
           "arrowwidth": 1
          },
          "autotypenumbers": "strict",
          "coloraxis": {
           "colorbar": {
            "outlinewidth": 0,
            "ticks": ""
           }
          },
          "colorscale": {
           "diverging": [
            [
             0,
             "#8e0152"
            ],
            [
             0.1,
             "#c51b7d"
            ],
            [
             0.2,
             "#de77ae"
            ],
            [
             0.3,
             "#f1b6da"
            ],
            [
             0.4,
             "#fde0ef"
            ],
            [
             0.5,
             "#f7f7f7"
            ],
            [
             0.6,
             "#e6f5d0"
            ],
            [
             0.7,
             "#b8e186"
            ],
            [
             0.8,
             "#7fbc41"
            ],
            [
             0.9,
             "#4d9221"
            ],
            [
             1,
             "#276419"
            ]
           ],
           "sequential": [
            [
             0,
             "#0d0887"
            ],
            [
             0.1111111111111111,
             "#46039f"
            ],
            [
             0.2222222222222222,
             "#7201a8"
            ],
            [
             0.3333333333333333,
             "#9c179e"
            ],
            [
             0.4444444444444444,
             "#bd3786"
            ],
            [
             0.5555555555555556,
             "#d8576b"
            ],
            [
             0.6666666666666666,
             "#ed7953"
            ],
            [
             0.7777777777777778,
             "#fb9f3a"
            ],
            [
             0.8888888888888888,
             "#fdca26"
            ],
            [
             1,
             "#f0f921"
            ]
           ],
           "sequentialminus": [
            [
             0,
             "#0d0887"
            ],
            [
             0.1111111111111111,
             "#46039f"
            ],
            [
             0.2222222222222222,
             "#7201a8"
            ],
            [
             0.3333333333333333,
             "#9c179e"
            ],
            [
             0.4444444444444444,
             "#bd3786"
            ],
            [
             0.5555555555555556,
             "#d8576b"
            ],
            [
             0.6666666666666666,
             "#ed7953"
            ],
            [
             0.7777777777777778,
             "#fb9f3a"
            ],
            [
             0.8888888888888888,
             "#fdca26"
            ],
            [
             1,
             "#f0f921"
            ]
           ]
          },
          "colorway": [
           "#636efa",
           "#EF553B",
           "#00cc96",
           "#ab63fa",
           "#FFA15A",
           "#19d3f3",
           "#FF6692",
           "#B6E880",
           "#FF97FF",
           "#FECB52"
          ],
          "font": {
           "color": "#2a3f5f"
          },
          "geo": {
           "bgcolor": "white",
           "lakecolor": "white",
           "landcolor": "#E5ECF6",
           "showlakes": true,
           "showland": true,
           "subunitcolor": "white"
          },
          "hoverlabel": {
           "align": "left"
          },
          "hovermode": "closest",
          "mapbox": {
           "style": "light"
          },
          "paper_bgcolor": "white",
          "plot_bgcolor": "#E5ECF6",
          "polar": {
           "angularaxis": {
            "gridcolor": "white",
            "linecolor": "white",
            "ticks": ""
           },
           "bgcolor": "#E5ECF6",
           "radialaxis": {
            "gridcolor": "white",
            "linecolor": "white",
            "ticks": ""
           }
          },
          "scene": {
           "xaxis": {
            "backgroundcolor": "#E5ECF6",
            "gridcolor": "white",
            "gridwidth": 2,
            "linecolor": "white",
            "showbackground": true,
            "ticks": "",
            "zerolinecolor": "white"
           },
           "yaxis": {
            "backgroundcolor": "#E5ECF6",
            "gridcolor": "white",
            "gridwidth": 2,
            "linecolor": "white",
            "showbackground": true,
            "ticks": "",
            "zerolinecolor": "white"
           },
           "zaxis": {
            "backgroundcolor": "#E5ECF6",
            "gridcolor": "white",
            "gridwidth": 2,
            "linecolor": "white",
            "showbackground": true,
            "ticks": "",
            "zerolinecolor": "white"
           }
          },
          "shapedefaults": {
           "line": {
            "color": "#2a3f5f"
           }
          },
          "ternary": {
           "aaxis": {
            "gridcolor": "white",
            "linecolor": "white",
            "ticks": ""
           },
           "baxis": {
            "gridcolor": "white",
            "linecolor": "white",
            "ticks": ""
           },
           "bgcolor": "#E5ECF6",
           "caxis": {
            "gridcolor": "white",
            "linecolor": "white",
            "ticks": ""
           }
          },
          "title": {
           "x": 0.05
          },
          "xaxis": {
           "automargin": true,
           "gridcolor": "white",
           "linecolor": "white",
           "ticks": "",
           "title": {
            "standoff": 15
           },
           "zerolinecolor": "white",
           "zerolinewidth": 2
          },
          "yaxis": {
           "automargin": true,
           "gridcolor": "white",
           "linecolor": "white",
           "ticks": "",
           "title": {
            "standoff": 15
           },
           "zerolinecolor": "white",
           "zerolinewidth": 2
          }
         }
        },
        "width": 500,
        "xaxis": {
         "anchor": "y",
         "domain": [
          0,
          1
         ],
         "title": {
          "text": "umap 1"
         }
        },
        "yaxis": {
         "anchor": "x",
         "domain": [
          0,
          1
         ],
         "title": {
          "text": "umap 2"
         }
        }
       }
      }
     },
     "metadata": {},
     "output_type": "display_data"
    }
   ],
   "source": [
    "# dimensionality reduction and visualization using UMAP\n",
    "\n",
    "um = umap.UMAP()\n",
    "embedded_data_2d = um.fit_transform(embedded_data['embedding'].tolist())\n",
    "\n",
    "color_map = {\n",
    "    '0' : 'purple',\n",
    "    '1' : 'yellow'\n",
    "}\n",
    "\n",
    "fig = px.scatter(x = embedded_data_2d[:, 0], y = embedded_data_2d[:, 1], color = labels['Response'], color_discrete_map = color_map, width = 500, height = 400)\n",
    "fig.update_layout(xaxis_title = 'umap 1', yaxis_title = 'umap 2')\n",
    "\n",
    "fig.show()\n",
    "# requires Kaleido installation\n",
    "fig.write_image(\"../figures/GSE910_embeddings_umap.png\")"
   ]
  },
  {
   "cell_type": "code",
   "execution_count": 65,
   "metadata": {},
   "outputs": [
    {
     "name": "stdout",
     "output_type": "stream",
     "text": [
      "Training accuracy before hyperparameter optimization: 0.5679012345679012\n",
      "Test set accuracy before hyperparameter optimization: 0.5714285714285714\n"
     ]
    }
   ],
   "source": [
    "# Train a logistic regression model using the embeddings before optimizing hyperparameters\n",
    "X_train, X_test, y_train, y_test = train_test_split(embedded_data_2d.tolist(), labels['Response'], test_size = 0.3, random_state=1234)\n",
    "logreg = LogisticRegression()\n",
    "logreg.fit(X_train, y_train)\n",
    "y_pred = logreg.predict(X_train)\n",
    "training_accuracy = accuracy_score(y_pred, y_train)\n",
    "y_pred = logreg.predict(X_test)\n",
    "test_accuracy = accuracy_score(y_pred, y_test)\n",
    "print(\"Training accuracy before hyperparameter optimization:\", training_accuracy)\n",
    "print(\"Test set accuracy before hyperparameter optimization:\", test_accuracy)"
   ]
  },
  {
   "cell_type": "code",
   "execution_count": 66,
   "metadata": {},
   "outputs": [
    {
     "name": "stdout",
     "output_type": "stream",
     "text": [
      "Best hyperparameters: {'C': 1, 'max_iter': 1000, 'solver': 'liblinear'}\n"
     ]
    },
    {
     "name": "stderr",
     "output_type": "stream",
     "text": [
      "/Users/sophiesun/opt/anaconda3/lib/python3.8/site-packages/sklearn/linear_model/_sag.py:350: ConvergenceWarning:\n",
      "\n",
      "The max_iter was reached which means the coef_ did not converge\n",
      "\n",
      "/Users/sophiesun/opt/anaconda3/lib/python3.8/site-packages/sklearn/linear_model/_sag.py:350: ConvergenceWarning:\n",
      "\n",
      "The max_iter was reached which means the coef_ did not converge\n",
      "\n",
      "/Users/sophiesun/opt/anaconda3/lib/python3.8/site-packages/sklearn/linear_model/_sag.py:350: ConvergenceWarning:\n",
      "\n",
      "The max_iter was reached which means the coef_ did not converge\n",
      "\n",
      "/Users/sophiesun/opt/anaconda3/lib/python3.8/site-packages/sklearn/linear_model/_sag.py:350: ConvergenceWarning:\n",
      "\n",
      "The max_iter was reached which means the coef_ did not converge\n",
      "\n"
     ]
    }
   ],
   "source": [
    "# find the best hyperparameters for an L1 regularized LogReg model\n",
    "hyperparameters = {\n",
    "    'C': [0.1, 1, 10, 100, 1000],\n",
    "    'solver': ['liblinear', 'saga'],\n",
    "    'max_iter': [1000]\n",
    "}\n",
    "\n",
    "grid_search = GridSearchCV(LogisticRegression(penalty=\"l1\"), hyperparameters,  cv=5, scoring='accuracy')\n",
    "grid_search.fit(X_train, y_train)\n",
    "\n",
    "best_params = grid_search.best_params_\n",
    "best_model = grid_search.best_estimator_\n",
    "\n",
    "print(\"Best hyperparameters:\", best_params)"
   ]
  },
  {
   "cell_type": "code",
   "execution_count": 67,
   "metadata": {},
   "outputs": [
    {
     "name": "stdout",
     "output_type": "stream",
     "text": [
      "Training accuracy after hyperparameter optimization: 0.5679012345679012\n",
      "Test set accuracy after hyperparameter optimization: 0.5714285714285714\n"
     ]
    }
   ],
   "source": [
    "# Train a logistic regression model using the top 2 PCAs after optimizing hyperparameters\n",
    "y_pred = best_model.predict(X_train)\n",
    "training_accuracy = accuracy_score(y_pred, y_train)\n",
    "y_pred = best_model.predict(X_test)\n",
    "test_accuracy = accuracy_score(y_pred, y_test)\n",
    "\n",
    "print(\"Training accuracy after hyperparameter optimization:\", training_accuracy)\n",
    "print(\"Test set accuracy after hyperparameter optimization:\", test_accuracy)"
   ]
  },
  {
   "cell_type": "code",
   "execution_count": 68,
   "metadata": {},
   "outputs": [],
   "source": [
    "# export cluster assignments\n",
    "\n",
    "clusters_embedding = pd.concat([pd.DataFrame(y_pred, columns = ['y_pred']), pd.DataFrame(y_test.to_list(), columns = ['y_test'])], axis = 1)\n",
    "\n",
    "clusters_embedding.to_csv('../data/clusters_embedding.csv', index = False)\n",
    "\n",
    "# export data for L1 log reg\n",
    "embedded_data['embedding'].to_csv('../data/embedded_data.csv', index = False)"
   ]
  }
 ],
 "metadata": {
  "kernelspec": {
   "display_name": "base",
   "language": "python",
   "name": "python3"
  },
  "language_info": {
   "codemirror_mode": {
    "name": "ipython",
    "version": 3
   },
   "file_extension": ".py",
   "mimetype": "text/x-python",
   "name": "python",
   "nbconvert_exporter": "python",
   "pygments_lexer": "ipython3",
   "version": "3.8.5"
  }
 },
 "nbformat": 4,
 "nbformat_minor": 2
}
