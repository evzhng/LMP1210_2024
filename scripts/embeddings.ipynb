{
 "cells": [
  {
   "cell_type": "code",
   "execution_count": 2,
   "metadata": {},
   "outputs": [],
   "source": [
    "pip install -U openai, scipy, plotly-express, scikit-learn, umap-learn\n",
    "pip install numpy==1.23.0 # umap requires an older version of numpy"
   ]
  },
  {
   "cell_type": "code",
   "execution_count": 23,
   "metadata": {},
   "outputs": [],
   "source": [
    "import os\n",
    "import pandas as pd\n",
    "import numpy as np\n",
    "from openai import OpenAI\n",
    "from sklearn.cluster import KMeans\n",
    "from scipy.spatial import distance\n",
    "import plotly.express as px\n",
    "import umap.umap_ as umap"
   ]
  },
  {
   "cell_type": "code",
   "execution_count": 87,
   "metadata": {},
   "outputs": [
    {
     "data": {
      "text/html": [
       "<div>\n",
       "<style scoped>\n",
       "    .dataframe tbody tr th:only-of-type {\n",
       "        vertical-align: middle;\n",
       "    }\n",
       "\n",
       "    .dataframe tbody tr th {\n",
       "        vertical-align: top;\n",
       "    }\n",
       "\n",
       "    .dataframe thead th {\n",
       "        text-align: right;\n",
       "    }\n",
       "</style>\n",
       "<table border=\"1\" class=\"dataframe\">\n",
       "  <thead>\n",
       "    <tr style=\"text-align: right;\">\n",
       "      <th></th>\n",
       "      <th>Unnamed: 0</th>\n",
       "      <th>Response</th>\n",
       "    </tr>\n",
       "  </thead>\n",
       "  <tbody>\n",
       "    <tr>\n",
       "      <th>0</th>\n",
       "      <td>SRR7344546</td>\n",
       "      <td>R</td>\n",
       "    </tr>\n",
       "    <tr>\n",
       "      <th>1</th>\n",
       "      <td>SRR7344554</td>\n",
       "      <td>N</td>\n",
       "    </tr>\n",
       "    <tr>\n",
       "      <th>2</th>\n",
       "      <td>SRR7344556</td>\n",
       "      <td>N</td>\n",
       "    </tr>\n",
       "    <tr>\n",
       "      <th>3</th>\n",
       "      <td>SRR7344564</td>\n",
       "      <td>N</td>\n",
       "    </tr>\n",
       "    <tr>\n",
       "      <th>4</th>\n",
       "      <td>SRR7344565</td>\n",
       "      <td>N</td>\n",
       "    </tr>\n",
       "  </tbody>\n",
       "</table>\n",
       "</div>"
      ],
      "text/plain": [
       "   Unnamed: 0 Response\n",
       "0  SRR7344546        R\n",
       "1  SRR7344554        N\n",
       "2  SRR7344556        N\n",
       "3  SRR7344564        N\n",
       "4  SRR7344565        N"
      ]
     },
     "execution_count": 87,
     "metadata": {},
     "output_type": "execute_result"
    }
   ],
   "source": [
    "'''\n",
    "Performs AI embedding on data\n",
    "'''\n",
    "\n",
    "# load data\n",
    "\n",
    "data = pd.read_csv('../data/log2_data_v3.csv')\n",
    "data.head()\n",
    "\n",
    "labels = pd.read_csv('../data/labels_v3.csv')\n",
    "labels.head()"
   ]
  },
  {
   "cell_type": "code",
   "execution_count": 49,
   "metadata": {},
   "outputs": [],
   "source": [
    "client = OpenAI(\n",
    "  api_key='',  \n",
    ")\n"
   ]
  },
  {
   "cell_type": "code",
   "execution_count": 66,
   "metadata": {},
   "outputs": [],
   "source": [
    "def get_embedding(df):\n",
    "\t# Embed transcriptomic data\n",
    "\tresponse = client.embeddings.create(\n",
    "    \tmodel= 'text-embedding-ada-002',\n",
    "    \tinput=[df]\n",
    "\t)\n",
    "\t# Get embedded data\n",
    "\tembedding = response.data[0].embedding\n",
    "    \n",
    "\treturn embedding"
   ]
  },
  {
   "cell_type": "code",
   "execution_count": 70,
   "metadata": {},
   "outputs": [
    {
     "name": "stdout",
     "output_type": "stream",
     "text": [
      "(125, 100)\n",
      "0      0.0 1.1649346867152932 0.17798414980298533 0.6...\n",
      "1      0.12880729789026002 1.358726836522174 0.070844...\n",
      "2      0.16219362419847294 0.14344533937100276 0.0 0....\n",
      "3      0.2677332475807369 0.03057601299596717 0.32604...\n",
      "4      0.13566506647355595 0.053567868543348565 0.241...\n",
      "                             ...                        \n",
      "120    0.18652448727387372 0.0 0.1414241399271249 0.9...\n",
      "121    0.020039051950253725 0.0 0.06217935087677976 0...\n",
      "122    0.07587424138298625 0.0 0.2033058122184411 0.6...\n",
      "123    0.12628848729363462 0.0 0.2261974310538789 1.1...\n",
      "124    0.1012481118342196 0.0 0.04323628856435453 0.7...\n",
      "Name: concatenated, Length: 125, dtype: object\n"
     ]
    }
   ],
   "source": [
    "# drop first column of sample IDs\n",
    "\n",
    "embedded_data = data.drop(data.columns[0], axis = 1)\n",
    "\n",
    "# testing: drop columns\n",
    "keep_thresh = 100\n",
    "embedded_data = embedded_data.iloc[:, :keep_thresh]\n",
    "print(embedded_data.shape)\n",
    "\n",
    "# change numeric to str and concatenate everything by row \n",
    "embedded_data['concatenated'] = embedded_data.astype(str).apply(lambda row: ' '.join(row), axis = 1)\n",
    "print(embedded_data['concatenated'])\n",
    "\n",
    "# apply embeddings\n",
    "embedded_data['embedding'] = embedded_data['concatenated'].apply(get_embedding)\n",
    "\n"
   ]
  },
  {
   "cell_type": "code",
   "execution_count": 97,
   "metadata": {},
   "outputs": [
    {
     "data": {
      "text/html": [
       "<style>#sk-container-id-3 {color: black;}#sk-container-id-3 pre{padding: 0;}#sk-container-id-3 div.sk-toggleable {background-color: white;}#sk-container-id-3 label.sk-toggleable__label {cursor: pointer;display: block;width: 100%;margin-bottom: 0;padding: 0.3em;box-sizing: border-box;text-align: center;}#sk-container-id-3 label.sk-toggleable__label-arrow:before {content: \"▸\";float: left;margin-right: 0.25em;color: #696969;}#sk-container-id-3 label.sk-toggleable__label-arrow:hover:before {color: black;}#sk-container-id-3 div.sk-estimator:hover label.sk-toggleable__label-arrow:before {color: black;}#sk-container-id-3 div.sk-toggleable__content {max-height: 0;max-width: 0;overflow: hidden;text-align: left;background-color: #f0f8ff;}#sk-container-id-3 div.sk-toggleable__content pre {margin: 0.2em;color: black;border-radius: 0.25em;background-color: #f0f8ff;}#sk-container-id-3 input.sk-toggleable__control:checked~div.sk-toggleable__content {max-height: 200px;max-width: 100%;overflow: auto;}#sk-container-id-3 input.sk-toggleable__control:checked~label.sk-toggleable__label-arrow:before {content: \"▾\";}#sk-container-id-3 div.sk-estimator input.sk-toggleable__control:checked~label.sk-toggleable__label {background-color: #d4ebff;}#sk-container-id-3 div.sk-label input.sk-toggleable__control:checked~label.sk-toggleable__label {background-color: #d4ebff;}#sk-container-id-3 input.sk-hidden--visually {border: 0;clip: rect(1px 1px 1px 1px);clip: rect(1px, 1px, 1px, 1px);height: 1px;margin: -1px;overflow: hidden;padding: 0;position: absolute;width: 1px;}#sk-container-id-3 div.sk-estimator {font-family: monospace;background-color: #f0f8ff;border: 1px dotted black;border-radius: 0.25em;box-sizing: border-box;margin-bottom: 0.5em;}#sk-container-id-3 div.sk-estimator:hover {background-color: #d4ebff;}#sk-container-id-3 div.sk-parallel-item::after {content: \"\";width: 100%;border-bottom: 1px solid gray;flex-grow: 1;}#sk-container-id-3 div.sk-label:hover label.sk-toggleable__label {background-color: #d4ebff;}#sk-container-id-3 div.sk-serial::before {content: \"\";position: absolute;border-left: 1px solid gray;box-sizing: border-box;top: 0;bottom: 0;left: 50%;z-index: 0;}#sk-container-id-3 div.sk-serial {display: flex;flex-direction: column;align-items: center;background-color: white;padding-right: 0.2em;padding-left: 0.2em;position: relative;}#sk-container-id-3 div.sk-item {position: relative;z-index: 1;}#sk-container-id-3 div.sk-parallel {display: flex;align-items: stretch;justify-content: center;background-color: white;position: relative;}#sk-container-id-3 div.sk-item::before, #sk-container-id-3 div.sk-parallel-item::before {content: \"\";position: absolute;border-left: 1px solid gray;box-sizing: border-box;top: 0;bottom: 0;left: 50%;z-index: -1;}#sk-container-id-3 div.sk-parallel-item {display: flex;flex-direction: column;z-index: 1;position: relative;background-color: white;}#sk-container-id-3 div.sk-parallel-item:first-child::after {align-self: flex-end;width: 50%;}#sk-container-id-3 div.sk-parallel-item:last-child::after {align-self: flex-start;width: 50%;}#sk-container-id-3 div.sk-parallel-item:only-child::after {width: 0;}#sk-container-id-3 div.sk-dashed-wrapped {border: 1px dashed gray;margin: 0 0.4em 0.5em 0.4em;box-sizing: border-box;padding-bottom: 0.4em;background-color: white;}#sk-container-id-3 div.sk-label label {font-family: monospace;font-weight: bold;display: inline-block;line-height: 1.2em;}#sk-container-id-3 div.sk-label-container {text-align: center;}#sk-container-id-3 div.sk-container {/* jupyter's `normalize.less` sets `[hidden] { display: none; }` but bootstrap.min.css set `[hidden] { display: none !important; }` so we also need the `!important` here to be able to override the default hidden behavior on the sphinx rendered scikit-learn.org. See: https://github.com/scikit-learn/scikit-learn/issues/21755 */display: inline-block !important;position: relative;}#sk-container-id-3 div.sk-text-repr-fallback {display: none;}</style><div id=\"sk-container-id-3\" class=\"sk-top-container\"><div class=\"sk-text-repr-fallback\"><pre>KMeans(n_clusters=2, n_init=&#x27;auto&#x27;)</pre><b>In a Jupyter environment, please rerun this cell to show the HTML representation or trust the notebook. <br />On GitHub, the HTML representation is unable to render, please try loading this page with nbviewer.org.</b></div><div class=\"sk-container\" hidden><div class=\"sk-item\"><div class=\"sk-estimator sk-toggleable\"><input class=\"sk-toggleable__control sk-hidden--visually\" id=\"sk-estimator-id-3\" type=\"checkbox\" checked><label for=\"sk-estimator-id-3\" class=\"sk-toggleable__label sk-toggleable__label-arrow\">KMeans</label><div class=\"sk-toggleable__content\"><pre>KMeans(n_clusters=2, n_init=&#x27;auto&#x27;)</pre></div></div></div></div></div>"
      ],
      "text/plain": [
       "KMeans(n_clusters=2, n_init='auto')"
      ]
     },
     "execution_count": 97,
     "metadata": {},
     "output_type": "execute_result"
    }
   ],
   "source": [
    "# run kmeans based on embeddings \n",
    "# 2 clusters for responder, non-responder\n",
    "\n",
    "kmeans = KMeans(n_clusters = 2, n_init = 'auto')\n",
    "kmeans.fit(embedded_data['embedding'].tolist())"
   ]
  },
  {
   "cell_type": "code",
   "execution_count": 100,
   "metadata": {},
   "outputs": [
    {
     "data": {
      "application/vnd.plotly.v1+json": {
       "config": {
        "plotlyServerURL": "https://plot.ly"
       },
       "data": [
        {
         "hovertemplate": "color=1<br>symbol=R<br>x=%{x}<br>y=%{y}<extra></extra>",
         "legendgroup": "1, R",
         "marker": {
          "color": "blue",
          "symbol": "circle"
         },
         "mode": "markers",
         "name": "1, R",
         "orientation": "v",
         "showlegend": true,
         "type": "scatter",
         "x": [
          3.049867630004883,
          2.2250514030456543,
          3.483034372329712,
          2.8468964099884033,
          3.4449355602264404,
          2.9252769947052,
          2.530667304992676,
          3.1692144870758057,
          2.6803770065307617,
          2.185117721557617,
          2.268568754196167,
          2.5537617206573486,
          1.822584629058838,
          2.8539764881134033,
          2.8069217205047607
         ],
         "xaxis": "x",
         "y": [
          4.282311916351318,
          5.717924118041992,
          5.074920654296875,
          4.164199352264404,
          5.25311279296875,
          4.4737396240234375,
          5.632473945617676,
          4.121835231781006,
          3.3248634338378906,
          4.803114891052246,
          3.355600118637085,
          4.355713367462158,
          3.8970255851745605,
          6.02828311920166,
          4.670813083648682
         ],
         "yaxis": "y"
        },
        {
         "hovertemplate": "color=1<br>symbol=N<br>x=%{x}<br>y=%{y}<extra></extra>",
         "legendgroup": "1, N",
         "marker": {
          "color": "blue",
          "symbol": "diamond"
         },
         "mode": "markers",
         "name": "1, N",
         "orientation": "v",
         "showlegend": true,
         "type": "scatter",
         "x": [
          2.106858015060425,
          2.018475294113159,
          2.7852671146392822,
          2.8194122314453125,
          3.268280506134033,
          2.9819717407226562,
          2.3384013175964355,
          2.594480037689209,
          2.2011239528656006,
          1.8979321718215942,
          1.839196801185608,
          2.681971788406372,
          2.3557894229888916,
          2.788280487060547,
          2.5499658584594727,
          3.2320356369018555,
          1.9586448669433594,
          2.7199642658233643,
          2.2076025009155273,
          3.0632801055908203,
          3.040539264678955,
          2.1292991638183594,
          3.131359338760376,
          2.832463264465332,
          2.035444498062134,
          3.165618419647217
         ],
         "xaxis": "x",
         "y": [
          3.5624921321868896,
          3.3138511180877686,
          4.782162189483643,
          5.336341381072998,
          3.7855894565582275,
          3.916921854019165,
          5.7271575927734375,
          5.268945693969727,
          5.08989143371582,
          3.315941333770752,
          3.9278440475463867,
          4.388612747192383,
          3.5464699268341064,
          5.141851425170898,
          4.964491367340088,
          4.43002986907959,
          3.86879301071167,
          5.665339469909668,
          3.769698143005371,
          5.896425247192383,
          4.622715473175049,
          3.9339098930358887,
          4.519637584686279,
          5.585444450378418,
          4.027730464935303,
          5.616561412811279
         ],
         "yaxis": "y"
        },
        {
         "hovertemplate": "color=0<br>symbol=R<br>x=%{x}<br>y=%{y}<extra></extra>",
         "legendgroup": "0, R",
         "marker": {
          "color": "orange",
          "symbol": "circle"
         },
         "mode": "markers",
         "name": "0, R",
         "orientation": "v",
         "showlegend": true,
         "type": "scatter",
         "x": [
          4.70979642868042,
          6.201683044433594,
          4.18769645690918,
          4.122706890106201,
          6.387825965881348,
          7.088247299194336,
          5.163066387176514,
          5.541961193084717,
          6.722133636474609,
          6.385838985443115,
          5.158670425415039,
          5.858948230743408,
          4.761436462402344,
          3.841608762741089,
          5.720621109008789,
          5.4681220054626465,
          4.053809642791748,
          5.147330284118652,
          5.955595016479492,
          6.657552242279053,
          5.355136394500732,
          4.550994873046875,
          6.813671588897705,
          5.622440338134766,
          4.856439113616943,
          6.6862664222717285,
          5.048675060272217,
          5.776777267456055,
          4.795141220092773,
          4.842817783355713
         ],
         "xaxis": "x",
         "y": [
          3.8916690349578857,
          2.1434571743011475,
          4.305981159210205,
          3.3358139991760254,
          3.2628989219665527,
          4.595312118530273,
          3.6601741313934326,
          2.6835148334503174,
          5.214316368103027,
          4.7205705642700195,
          3.389610528945923,
          3.5240232944488525,
          4.56444787979126,
          5.479544162750244,
          3.2263777256011963,
          5.611067295074463,
          5.009650707244873,
          6.176062107086182,
          4.463769435882568,
          4.279514312744141,
          6.248231410980225,
          5.378360748291016,
          4.459950923919678,
          3.7045950889587402,
          5.669432163238525,
          5.288825511932373,
          4.4460577964782715,
          5.524752140045166,
          4.263658046722412,
          5.307695388793945
         ],
         "yaxis": "y"
        },
        {
         "hovertemplate": "color=0<br>symbol=N<br>x=%{x}<br>y=%{y}<extra></extra>",
         "legendgroup": "0, N",
         "marker": {
          "color": "orange",
          "symbol": "diamond"
         },
         "mode": "markers",
         "name": "0, N",
         "orientation": "v",
         "showlegend": true,
         "type": "scatter",
         "x": [
          4.563786506652832,
          6.008293628692627,
          4.374794960021973,
          6.006119251251221,
          4.1960625648498535,
          6.007325172424316,
          5.475147247314453,
          6.171963214874268,
          4.7808122634887695,
          6.338847637176514,
          4.323379039764404,
          6.11102294921875,
          6.240710735321045,
          6.1317458152771,
          4.997992992401123,
          6.841411590576172,
          4.653929710388184,
          5.553990364074707,
          4.22568416595459,
          5.0066680908203125,
          6.269351959228516,
          6.273199558258057,
          4.068220615386963,
          4.05107307434082,
          5.022012233734131,
          5.232525825500488,
          6.671517848968506,
          5.762592315673828,
          4.494132995605469,
          5.766426086425781,
          5.995395183563232,
          4.352437496185303,
          5.143367767333984,
          4.1478400230407715,
          3.750514507293701,
          5.031308650970459,
          5.525125980377197,
          4.022734642028809,
          4.765605926513672,
          6.411480903625488,
          6.116212368011475,
          6.499602794647217,
          4.81827974319458,
          4.73695707321167,
          6.315187454223633,
          6.632645130157471,
          5.503305912017822,
          4.570677757263184,
          4.035624980926514,
          4.510504245758057,
          5.170984745025635,
          5.809555530548096,
          6.8628830909729,
          4.932384967803955
         ],
         "xaxis": "x",
         "y": [
          4.661261081695557,
          5.786667823791504,
          3.3616299629211426,
          4.112579345703125,
          3.5479888916015625,
          4.974332809448242,
          6.293667793273926,
          3.3024628162384033,
          3.2845170497894287,
          2.4977991580963135,
          5.791991710662842,
          3.023796796798706,
          2.264198064804077,
          2.2284464836120605,
          6.052868366241455,
          4.388065814971924,
          6.64302921295166,
          5.713376522064209,
          5.275183200836182,
          6.460020542144775,
          4.393272399902344,
          2.5874040126800537,
          5.241072177886963,
          3.363314628601074,
          3.4965009689331055,
          6.428910732269287,
          4.808259963989258,
          5.064419269561768,
          4.301318645477295,
          2.8975160121917725,
          5.6693034172058105,
          3.923607587814331,
          5.067834377288818,
          6.254051685333252,
          5.9573564529418945,
          5.5597405433654785,
          4.051491737365723,
          3.855419158935547,
          6.490658760070801,
          4.841611385345459,
          3.7436890602111816,
          4.570499420166016,
          5.699103832244873,
          6.639917850494385,
          3.98940372467041,
          4.712014675140381,
          3.541731595993042,
          3.591132640838623,
          3.659959316253662,
          6.256885528564453,
          5.820375442504883,
          5.843044757843018,
          5.151630878448486,
          4.2177557945251465
         ],
         "yaxis": "y"
        }
       ],
       "layout": {
        "legend": {
         "title": {
          "text": "color, symbol"
         },
         "tracegroupgap": 0
        },
        "margin": {
         "t": 60
        },
        "template": {
         "data": {
          "bar": [
           {
            "error_x": {
             "color": "#2a3f5f"
            },
            "error_y": {
             "color": "#2a3f5f"
            },
            "marker": {
             "line": {
              "color": "#E5ECF6",
              "width": 0.5
             },
             "pattern": {
              "fillmode": "overlay",
              "size": 10,
              "solidity": 0.2
             }
            },
            "type": "bar"
           }
          ],
          "barpolar": [
           {
            "marker": {
             "line": {
              "color": "#E5ECF6",
              "width": 0.5
             },
             "pattern": {
              "fillmode": "overlay",
              "size": 10,
              "solidity": 0.2
             }
            },
            "type": "barpolar"
           }
          ],
          "carpet": [
           {
            "aaxis": {
             "endlinecolor": "#2a3f5f",
             "gridcolor": "white",
             "linecolor": "white",
             "minorgridcolor": "white",
             "startlinecolor": "#2a3f5f"
            },
            "baxis": {
             "endlinecolor": "#2a3f5f",
             "gridcolor": "white",
             "linecolor": "white",
             "minorgridcolor": "white",
             "startlinecolor": "#2a3f5f"
            },
            "type": "carpet"
           }
          ],
          "choropleth": [
           {
            "colorbar": {
             "outlinewidth": 0,
             "ticks": ""
            },
            "type": "choropleth"
           }
          ],
          "contour": [
           {
            "colorbar": {
             "outlinewidth": 0,
             "ticks": ""
            },
            "colorscale": [
             [
              0,
              "#0d0887"
             ],
             [
              0.1111111111111111,
              "#46039f"
             ],
             [
              0.2222222222222222,
              "#7201a8"
             ],
             [
              0.3333333333333333,
              "#9c179e"
             ],
             [
              0.4444444444444444,
              "#bd3786"
             ],
             [
              0.5555555555555556,
              "#d8576b"
             ],
             [
              0.6666666666666666,
              "#ed7953"
             ],
             [
              0.7777777777777778,
              "#fb9f3a"
             ],
             [
              0.8888888888888888,
              "#fdca26"
             ],
             [
              1,
              "#f0f921"
             ]
            ],
            "type": "contour"
           }
          ],
          "contourcarpet": [
           {
            "colorbar": {
             "outlinewidth": 0,
             "ticks": ""
            },
            "type": "contourcarpet"
           }
          ],
          "heatmap": [
           {
            "colorbar": {
             "outlinewidth": 0,
             "ticks": ""
            },
            "colorscale": [
             [
              0,
              "#0d0887"
             ],
             [
              0.1111111111111111,
              "#46039f"
             ],
             [
              0.2222222222222222,
              "#7201a8"
             ],
             [
              0.3333333333333333,
              "#9c179e"
             ],
             [
              0.4444444444444444,
              "#bd3786"
             ],
             [
              0.5555555555555556,
              "#d8576b"
             ],
             [
              0.6666666666666666,
              "#ed7953"
             ],
             [
              0.7777777777777778,
              "#fb9f3a"
             ],
             [
              0.8888888888888888,
              "#fdca26"
             ],
             [
              1,
              "#f0f921"
             ]
            ],
            "type": "heatmap"
           }
          ],
          "heatmapgl": [
           {
            "colorbar": {
             "outlinewidth": 0,
             "ticks": ""
            },
            "colorscale": [
             [
              0,
              "#0d0887"
             ],
             [
              0.1111111111111111,
              "#46039f"
             ],
             [
              0.2222222222222222,
              "#7201a8"
             ],
             [
              0.3333333333333333,
              "#9c179e"
             ],
             [
              0.4444444444444444,
              "#bd3786"
             ],
             [
              0.5555555555555556,
              "#d8576b"
             ],
             [
              0.6666666666666666,
              "#ed7953"
             ],
             [
              0.7777777777777778,
              "#fb9f3a"
             ],
             [
              0.8888888888888888,
              "#fdca26"
             ],
             [
              1,
              "#f0f921"
             ]
            ],
            "type": "heatmapgl"
           }
          ],
          "histogram": [
           {
            "marker": {
             "pattern": {
              "fillmode": "overlay",
              "size": 10,
              "solidity": 0.2
             }
            },
            "type": "histogram"
           }
          ],
          "histogram2d": [
           {
            "colorbar": {
             "outlinewidth": 0,
             "ticks": ""
            },
            "colorscale": [
             [
              0,
              "#0d0887"
             ],
             [
              0.1111111111111111,
              "#46039f"
             ],
             [
              0.2222222222222222,
              "#7201a8"
             ],
             [
              0.3333333333333333,
              "#9c179e"
             ],
             [
              0.4444444444444444,
              "#bd3786"
             ],
             [
              0.5555555555555556,
              "#d8576b"
             ],
             [
              0.6666666666666666,
              "#ed7953"
             ],
             [
              0.7777777777777778,
              "#fb9f3a"
             ],
             [
              0.8888888888888888,
              "#fdca26"
             ],
             [
              1,
              "#f0f921"
             ]
            ],
            "type": "histogram2d"
           }
          ],
          "histogram2dcontour": [
           {
            "colorbar": {
             "outlinewidth": 0,
             "ticks": ""
            },
            "colorscale": [
             [
              0,
              "#0d0887"
             ],
             [
              0.1111111111111111,
              "#46039f"
             ],
             [
              0.2222222222222222,
              "#7201a8"
             ],
             [
              0.3333333333333333,
              "#9c179e"
             ],
             [
              0.4444444444444444,
              "#bd3786"
             ],
             [
              0.5555555555555556,
              "#d8576b"
             ],
             [
              0.6666666666666666,
              "#ed7953"
             ],
             [
              0.7777777777777778,
              "#fb9f3a"
             ],
             [
              0.8888888888888888,
              "#fdca26"
             ],
             [
              1,
              "#f0f921"
             ]
            ],
            "type": "histogram2dcontour"
           }
          ],
          "mesh3d": [
           {
            "colorbar": {
             "outlinewidth": 0,
             "ticks": ""
            },
            "type": "mesh3d"
           }
          ],
          "parcoords": [
           {
            "line": {
             "colorbar": {
              "outlinewidth": 0,
              "ticks": ""
             }
            },
            "type": "parcoords"
           }
          ],
          "pie": [
           {
            "automargin": true,
            "type": "pie"
           }
          ],
          "scatter": [
           {
            "fillpattern": {
             "fillmode": "overlay",
             "size": 10,
             "solidity": 0.2
            },
            "type": "scatter"
           }
          ],
          "scatter3d": [
           {
            "line": {
             "colorbar": {
              "outlinewidth": 0,
              "ticks": ""
             }
            },
            "marker": {
             "colorbar": {
              "outlinewidth": 0,
              "ticks": ""
             }
            },
            "type": "scatter3d"
           }
          ],
          "scattercarpet": [
           {
            "marker": {
             "colorbar": {
              "outlinewidth": 0,
              "ticks": ""
             }
            },
            "type": "scattercarpet"
           }
          ],
          "scattergeo": [
           {
            "marker": {
             "colorbar": {
              "outlinewidth": 0,
              "ticks": ""
             }
            },
            "type": "scattergeo"
           }
          ],
          "scattergl": [
           {
            "marker": {
             "colorbar": {
              "outlinewidth": 0,
              "ticks": ""
             }
            },
            "type": "scattergl"
           }
          ],
          "scattermapbox": [
           {
            "marker": {
             "colorbar": {
              "outlinewidth": 0,
              "ticks": ""
             }
            },
            "type": "scattermapbox"
           }
          ],
          "scatterpolar": [
           {
            "marker": {
             "colorbar": {
              "outlinewidth": 0,
              "ticks": ""
             }
            },
            "type": "scatterpolar"
           }
          ],
          "scatterpolargl": [
           {
            "marker": {
             "colorbar": {
              "outlinewidth": 0,
              "ticks": ""
             }
            },
            "type": "scatterpolargl"
           }
          ],
          "scatterternary": [
           {
            "marker": {
             "colorbar": {
              "outlinewidth": 0,
              "ticks": ""
             }
            },
            "type": "scatterternary"
           }
          ],
          "surface": [
           {
            "colorbar": {
             "outlinewidth": 0,
             "ticks": ""
            },
            "colorscale": [
             [
              0,
              "#0d0887"
             ],
             [
              0.1111111111111111,
              "#46039f"
             ],
             [
              0.2222222222222222,
              "#7201a8"
             ],
             [
              0.3333333333333333,
              "#9c179e"
             ],
             [
              0.4444444444444444,
              "#bd3786"
             ],
             [
              0.5555555555555556,
              "#d8576b"
             ],
             [
              0.6666666666666666,
              "#ed7953"
             ],
             [
              0.7777777777777778,
              "#fb9f3a"
             ],
             [
              0.8888888888888888,
              "#fdca26"
             ],
             [
              1,
              "#f0f921"
             ]
            ],
            "type": "surface"
           }
          ],
          "table": [
           {
            "cells": {
             "fill": {
              "color": "#EBF0F8"
             },
             "line": {
              "color": "white"
             }
            },
            "header": {
             "fill": {
              "color": "#C8D4E3"
             },
             "line": {
              "color": "white"
             }
            },
            "type": "table"
           }
          ]
         },
         "layout": {
          "annotationdefaults": {
           "arrowcolor": "#2a3f5f",
           "arrowhead": 0,
           "arrowwidth": 1
          },
          "autotypenumbers": "strict",
          "coloraxis": {
           "colorbar": {
            "outlinewidth": 0,
            "ticks": ""
           }
          },
          "colorscale": {
           "diverging": [
            [
             0,
             "#8e0152"
            ],
            [
             0.1,
             "#c51b7d"
            ],
            [
             0.2,
             "#de77ae"
            ],
            [
             0.3,
             "#f1b6da"
            ],
            [
             0.4,
             "#fde0ef"
            ],
            [
             0.5,
             "#f7f7f7"
            ],
            [
             0.6,
             "#e6f5d0"
            ],
            [
             0.7,
             "#b8e186"
            ],
            [
             0.8,
             "#7fbc41"
            ],
            [
             0.9,
             "#4d9221"
            ],
            [
             1,
             "#276419"
            ]
           ],
           "sequential": [
            [
             0,
             "#0d0887"
            ],
            [
             0.1111111111111111,
             "#46039f"
            ],
            [
             0.2222222222222222,
             "#7201a8"
            ],
            [
             0.3333333333333333,
             "#9c179e"
            ],
            [
             0.4444444444444444,
             "#bd3786"
            ],
            [
             0.5555555555555556,
             "#d8576b"
            ],
            [
             0.6666666666666666,
             "#ed7953"
            ],
            [
             0.7777777777777778,
             "#fb9f3a"
            ],
            [
             0.8888888888888888,
             "#fdca26"
            ],
            [
             1,
             "#f0f921"
            ]
           ],
           "sequentialminus": [
            [
             0,
             "#0d0887"
            ],
            [
             0.1111111111111111,
             "#46039f"
            ],
            [
             0.2222222222222222,
             "#7201a8"
            ],
            [
             0.3333333333333333,
             "#9c179e"
            ],
            [
             0.4444444444444444,
             "#bd3786"
            ],
            [
             0.5555555555555556,
             "#d8576b"
            ],
            [
             0.6666666666666666,
             "#ed7953"
            ],
            [
             0.7777777777777778,
             "#fb9f3a"
            ],
            [
             0.8888888888888888,
             "#fdca26"
            ],
            [
             1,
             "#f0f921"
            ]
           ]
          },
          "colorway": [
           "#636efa",
           "#EF553B",
           "#00cc96",
           "#ab63fa",
           "#FFA15A",
           "#19d3f3",
           "#FF6692",
           "#B6E880",
           "#FF97FF",
           "#FECB52"
          ],
          "font": {
           "color": "#2a3f5f"
          },
          "geo": {
           "bgcolor": "white",
           "lakecolor": "white",
           "landcolor": "#E5ECF6",
           "showlakes": true,
           "showland": true,
           "subunitcolor": "white"
          },
          "hoverlabel": {
           "align": "left"
          },
          "hovermode": "closest",
          "mapbox": {
           "style": "light"
          },
          "paper_bgcolor": "white",
          "plot_bgcolor": "#E5ECF6",
          "polar": {
           "angularaxis": {
            "gridcolor": "white",
            "linecolor": "white",
            "ticks": ""
           },
           "bgcolor": "#E5ECF6",
           "radialaxis": {
            "gridcolor": "white",
            "linecolor": "white",
            "ticks": ""
           }
          },
          "scene": {
           "xaxis": {
            "backgroundcolor": "#E5ECF6",
            "gridcolor": "white",
            "gridwidth": 2,
            "linecolor": "white",
            "showbackground": true,
            "ticks": "",
            "zerolinecolor": "white"
           },
           "yaxis": {
            "backgroundcolor": "#E5ECF6",
            "gridcolor": "white",
            "gridwidth": 2,
            "linecolor": "white",
            "showbackground": true,
            "ticks": "",
            "zerolinecolor": "white"
           },
           "zaxis": {
            "backgroundcolor": "#E5ECF6",
            "gridcolor": "white",
            "gridwidth": 2,
            "linecolor": "white",
            "showbackground": true,
            "ticks": "",
            "zerolinecolor": "white"
           }
          },
          "shapedefaults": {
           "line": {
            "color": "#2a3f5f"
           }
          },
          "ternary": {
           "aaxis": {
            "gridcolor": "white",
            "linecolor": "white",
            "ticks": ""
           },
           "baxis": {
            "gridcolor": "white",
            "linecolor": "white",
            "ticks": ""
           },
           "bgcolor": "#E5ECF6",
           "caxis": {
            "gridcolor": "white",
            "linecolor": "white",
            "ticks": ""
           }
          },
          "title": {
           "x": 0.05
          },
          "xaxis": {
           "automargin": true,
           "gridcolor": "white",
           "linecolor": "white",
           "ticks": "",
           "title": {
            "standoff": 15
           },
           "zerolinecolor": "white",
           "zerolinewidth": 2
          },
          "yaxis": {
           "automargin": true,
           "gridcolor": "white",
           "linecolor": "white",
           "ticks": "",
           "title": {
            "standoff": 15
           },
           "zerolinecolor": "white",
           "zerolinewidth": 2
          }
         }
        },
        "xaxis": {
         "anchor": "y",
         "domain": [
          0,
          1
         ],
         "title": {
          "text": "umap 1"
         }
        },
        "yaxis": {
         "anchor": "x",
         "domain": [
          0,
          1
         ],
         "title": {
          "text": "umap 2"
         }
        }
       }
      }
     },
     "metadata": {},
     "output_type": "display_data"
    }
   ],
   "source": [
    "# dimensionality reduction and visualization using UMAP\n",
    "\n",
    "um = umap.UMAP()\n",
    "embedded_data_2d = um.fit_transform(embedded_data['embedding'].tolist())\n",
    "\n",
    "color_map = {\n",
    "    '0' : 'orange',\n",
    "    '1' : 'blue'\n",
    "}\n",
    "\n",
    "\n",
    "fig = px.scatter(x = embedded_data_2d[:, 0], y = embedded_data_2d[:, 1], color = kmeans.labels_.astype(str), color_discrete_map = color_map, symbol = labels['Response'])\n",
    "fig.update_layout(xaxis_title = 'umap 1', yaxis_title = 'umap 2')\n",
    "\n",
    "fig.show()"
   ]
  }
 ],
 "metadata": {
  "kernelspec": {
   "display_name": "base",
   "language": "python",
   "name": "python3"
  },
  "language_info": {
   "codemirror_mode": {
    "name": "ipython",
    "version": 3
   },
   "file_extension": ".py",
   "mimetype": "text/x-python",
   "name": "python",
   "nbconvert_exporter": "python",
   "pygments_lexer": "ipython3",
   "version": "3.8.5"
  }
 },
 "nbformat": 4,
 "nbformat_minor": 2
}
