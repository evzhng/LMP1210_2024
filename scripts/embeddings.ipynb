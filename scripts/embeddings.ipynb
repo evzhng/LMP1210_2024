{
 "cells": [
  {
   "cell_type": "code",
   "execution_count": null,
   "metadata": {},
   "outputs": [],
   "source": [
    "# pip install -U openai scipy plotly-express scikit-learn umap-learn\n",
    "# pip install numpy == 1.23.0 # umap requires an older version of numpy"
   ]
  },
  {
   "cell_type": "code",
   "execution_count": 93,
   "metadata": {},
   "outputs": [],
   "source": [
    "import os\n",
    "import pandas as pd\n",
    "import numpy as np\n",
    "from openai import OpenAI\n",
    "from sklearn.cluster import KMeans\n",
    "from scipy.spatial import distance\n",
    "import plotly.express as px\n",
    "import umap.umap_ as umap\n",
    "from sklearn.preprocessing import LabelEncoder\n",
    "from sklearn.model_selection import train_test_split\n",
    "from sklearn.metrics import accuracy_score\n",
    "from sklearn.linear_model import LogisticRegression\n",
    "from sklearn.model_selection import GridSearchCV"
   ]
  },
  {
   "cell_type": "code",
   "execution_count": 110,
   "metadata": {},
   "outputs": [
    {
     "name": "stdout",
     "output_type": "stream",
     "text": [
      "        RN7SL2        FTL     MT-CO3     MT-CO2    MT-ATP8    MT-ATP6  \\\n",
      "0    15.038124  10.267509   6.096489   6.029887   4.996209   4.828822   \n",
      "1    15.313833   9.622666   9.860376   9.738486   9.475843   9.217649   \n",
      "2    16.739384   9.744946  10.067124  10.726867   8.760113   8.636872   \n",
      "3     6.150741  11.761988  11.113195  10.876473   9.272044  10.677880   \n",
      "4     6.737094  11.851334  10.608619  10.246659   8.657706   9.951498   \n",
      "..         ...        ...        ...        ...        ...        ...   \n",
      "111   4.355103  11.250609  13.168966  12.982082  12.444777  12.334313   \n",
      "112   6.131375   9.797686  13.330152  13.433663  13.033499  13.012454   \n",
      "113   4.201878  10.747962  13.237784  12.853114  12.543654  12.216011   \n",
      "114   7.196152  11.728989  13.865689  14.082163  13.449037  13.490130   \n",
      "115   5.810201  11.861459  13.483685  14.015472  12.733038  12.980847   \n",
      "\n",
      "        MT-CO1       IGKC     MT-ND4    MT-RNR2  ...      CTSB     IGKJ1  \\\n",
      "0     7.590253   5.647115   5.412997   5.024420  ...  7.253257  0.000000   \n",
      "1    10.936979   5.360864   8.928858   7.789543  ...  7.433607  0.000000   \n",
      "2    11.444593   9.147465   8.696023   6.988178  ...  5.344500  1.691215   \n",
      "3    11.052563  10.066972  10.668391   9.690645  ...  7.083906  4.836296   \n",
      "4    10.451394  10.013964   9.771394   9.228568  ...  7.081397  2.933361   \n",
      "..         ...        ...        ...        ...  ...       ...       ...   \n",
      "111  13.182728  10.708819  12.691640  12.482063  ...  7.754951  5.336761   \n",
      "112  13.181086   9.660553  12.633035  12.026346  ...  7.186584  4.257262   \n",
      "113  13.232737   7.957063  12.573261  12.525359  ...  7.354137  2.412854   \n",
      "114  13.789122  11.016040  13.358010  13.648787  ...  8.103934  4.390403   \n",
      "115  13.707471  13.056523  13.238818  13.404275  ...  8.012906  6.055888   \n",
      "\n",
      "       SPRR2E   IGKV4-1  TFF1        HP      HLA-A   IGHV3-7  HLA-DRB1  \\\n",
      "0    0.000000  0.217787   0.0  0.474323   9.465274  0.000000  8.906496   \n",
      "1    0.185674  3.118167   0.0  0.052839   7.720830  0.000000  5.987946   \n",
      "2    0.000000  0.558147   0.0  0.066288   3.604023  0.259431  5.674888   \n",
      "3    0.000000  5.996376   0.0  0.429230   8.847922  2.360120  8.026241   \n",
      "4    4.917178  4.459239   0.0  0.128755   9.050430  4.492624  8.053082   \n",
      "..        ...       ...   ...       ...        ...       ...       ...   \n",
      "111  0.270362  6.296828   0.0  1.004117   9.659730  4.894998  9.073784   \n",
      "112  7.285802  4.433527   0.0  3.291759   8.372716  3.387898  7.967589   \n",
      "113  0.373331  4.599007   0.0  0.521399   9.275573  2.136633  8.672348   \n",
      "114  0.000000  5.742371   0.0  0.064506  10.039392  6.576920  7.145275   \n",
      "115  0.000000  8.117690   0.0  0.228441   9.577390  7.690226  7.570892   \n",
      "\n",
      "       KRTDAP  \n",
      "0    0.000000  \n",
      "1    0.204788  \n",
      "2    0.000000  \n",
      "3    0.132312  \n",
      "4    5.337647  \n",
      "..        ...  \n",
      "111  0.883613  \n",
      "112  7.162938  \n",
      "113  1.151287  \n",
      "114  0.004328  \n",
      "115  0.000000  \n",
      "\n",
      "[116 rows x 100 columns]\n",
      "     Unnamed: 0  Response\n",
      "0             0         1\n",
      "1             1         0\n",
      "2             2         0\n",
      "3             3         0\n",
      "4             4         0\n",
      "..          ...       ...\n",
      "111         111         1\n",
      "112         112         1\n",
      "113         113         1\n",
      "114         114         1\n",
      "115         115         1\n",
      "\n",
      "[116 rows x 2 columns]\n"
     ]
    }
   ],
   "source": [
    "'''\n",
    "Performs AI embedding on data\n",
    "'''\n",
    "\n",
    "# load data\n",
    "\n",
    "data = pd.read_csv('../data/GSE910_SMOTE_log2_top100.csv')\n",
    "data = data.drop(data.columns[0], axis =1)\n",
    "print(data)\n",
    "\n",
    "labels = pd.read_csv('../data/GSE910_SMOTE_labels_top100.csv')\n",
    "print(labels)\n",
    "\n"
   ]
  },
  {
   "cell_type": "code",
   "execution_count": null,
   "metadata": {},
   "outputs": [],
   "source": [
    "# openAI API key\n",
    "\n",
    "client = OpenAI(\n",
    "  api_key='',  \n",
    ")\n"
   ]
  },
  {
   "cell_type": "code",
   "execution_count": 106,
   "metadata": {},
   "outputs": [],
   "source": [
    "# embedding transcriptomic data\n",
    "\n",
    "def get_embedding(df):\n",
    "\n",
    "\t# model\n",
    "\t\n",
    "\tresponse = client.embeddings.create(\n",
    "    \tmodel= 'text-embedding-ada-002',\n",
    "    \tinput=[df]\n",
    "\t)\n",
    "\t# Get embedded data\n",
    "\t\n",
    "\tembedding = response.data[0].embedding\n",
    "    \n",
    "\treturn embedding"
   ]
  },
  {
   "cell_type": "code",
   "execution_count": 107,
   "metadata": {},
   "outputs": [
    {
     "name": "stdout",
     "output_type": "stream",
     "text": [
      "(116, 99)\n",
      "0      10.26750924509026 6.096489077610898 6.02988704...\n",
      "1      9.6226660795167 9.86037615653056 9.73848598171...\n",
      "2      9.744945814413533 10.06712393608517 10.7268670...\n",
      "3      11.761988404115765 11.113195214781117 10.87647...\n",
      "4      11.851334460576384 10.608618955940033 10.24665...\n",
      "                             ...                        \n",
      "111    11.250608516979582 13.168966216330713 12.98208...\n",
      "112    9.797685814655683 13.330152007589266 13.433663...\n",
      "113    10.74796235187887 13.237783506785176 12.853114...\n",
      "114    11.728988798545844 13.865689050483866 14.08216...\n",
      "115    11.861458887347524 13.483685277296948 14.01547...\n",
      "Name: concatenated, Length: 116, dtype: object\n"
     ]
    }
   ],
   "source": [
    "# drop first column of sample IDs\n",
    "\n",
    "embedded_data = data.drop(data.columns[0], axis = 1)\n",
    "print(embedded_data.shape)\n",
    "\n",
    "# change numeric to str and concatenate everything by row (sentence-like input structure required)\n",
    "\n",
    "embedded_data['concatenated'] = embedded_data.astype(str).apply(lambda row: ' '.join(row), axis = 1)\n",
    "print(embedded_data['concatenated'])\n",
    "\n",
    "# apply embeddings\n",
    "\n",
    "embedded_data['embedding'] = embedded_data['concatenated'].apply(get_embedding)\n",
    "\n"
   ]
  },
  {
   "cell_type": "code",
   "execution_count": 117,
   "metadata": {},
   "outputs": [],
   "source": [
    "# run kmeans based on embeddings \n",
    "\n",
    "# 2 clusters for responder, non-responder\n",
    "\n",
    "kmeans = KMeans(n_clusters = 2, n_init = 'auto')\n",
    "model = kmeans.fit(embedded_data['embedding'].tolist())"
   ]
  },
  {
   "cell_type": "code",
   "execution_count": 118,
   "metadata": {},
   "outputs": [
    {
     "data": {
      "application/vnd.plotly.v1+json": {
       "config": {
        "plotlyServerURL": "https://plot.ly"
       },
       "data": [
        {
         "hovertemplate": "color=1<br>symbol=1<br>x=%{x}<br>y=%{y}<extra></extra>",
         "legendgroup": "1, 1",
         "marker": {
          "color": "blue",
          "symbol": "circle"
         },
         "mode": "markers",
         "name": "1, 1",
         "orientation": "v",
         "showlegend": true,
         "type": "scatter",
         "x": [
          9.481728553771973,
          7.378399848937988,
          9.239568710327148,
          6.109890937805176,
          5.203103065490723,
          4.63032341003418,
          5.165952682495117,
          5.600581645965576,
          4.554934978485107,
          6.676041603088379,
          8.794891357421875,
          4.231675148010254,
          7.17568302154541,
          7.661092758178711,
          4.205446720123291,
          9.11201286315918,
          4.5536651611328125,
          4.944685459136963,
          8.75062370300293,
          7.15467643737793,
          7.5074262619018555,
          7.814440727233887,
          8.913707733154297,
          4.337619781494141,
          4.669976711273193,
          3.832098960876465,
          9.490622520446777,
          8.826193809509277,
          4.44897985458374,
          4.793624401092529,
          6.879201412200928,
          7.234863758087158,
          9.353901863098145,
          4.820508003234863,
          7.2649006843566895,
          7.395639896392822,
          5.130974769592285,
          5.299793243408203
         ],
         "xaxis": "x",
         "y": [
          16.817354202270508,
          17.719099044799805,
          17.096281051635742,
          15.363737106323242,
          16.883968353271484,
          17.029823303222656,
          16.48514175415039,
          17.49471664428711,
          16.880035400390625,
          17.145971298217773,
          18.69805145263672,
          16.56761360168457,
          17.374021530151367,
          17.3998966217041,
          15.910927772521973,
          18.823097229003906,
          16.5667724609375,
          15.705495834350586,
          18.862438201904297,
          17.221134185791016,
          17.919837951660156,
          18.39116859436035,
          19.06843376159668,
          16.044010162353516,
          16.130184173583984,
          16.056020736694336,
          17.08107566833496,
          19.061227798461914,
          16.332672119140625,
          16.420364379882812,
          17.27784538269043,
          17.299137115478516,
          17.280895233154297,
          17.086429595947266,
          17.917125701904297,
          18.36216926574707,
          16.284032821655273,
          17.13629150390625
         ],
         "yaxis": "y"
        },
        {
         "hovertemplate": "color=1<br>symbol=0<br>x=%{x}<br>y=%{y}<extra></extra>",
         "legendgroup": "1, 0",
         "marker": {
          "color": "blue",
          "symbol": "diamond"
         },
         "mode": "markers",
         "name": "1, 0",
         "orientation": "v",
         "showlegend": true,
         "type": "scatter",
         "x": [
          9.616133689880371,
          9.682613372802734,
          9.449837684631348,
          9.484844207763672,
          7.7719807624816895,
          9.161297798156738,
          4.240286827087402,
          4.026642322540283,
          9.033753395080566,
          5.657607555389404,
          7.358345985412598,
          5.425252914428711,
          4.729140281677246,
          8.881412506103516,
          5.771313667297363,
          4.831368446350098,
          7.157694339752197,
          9.29745101928711,
          4.044180870056152,
          4.3736371994018555,
          6.3016357421875,
          7.432424068450928,
          7.087372779846191,
          8.294672012329102,
          6.972361087799072,
          7.5126051902771,
          7.5071702003479,
          8.526424407958984,
          7.8293561935424805,
          5.290882110595703,
          5.43662691116333,
          5.437878131866455,
          5.425613880157471,
          7.921653747558594,
          7.121467113494873,
          5.62141752243042,
          4.494684219360352
         ],
         "xaxis": "x",
         "y": [
          17.1669864654541,
          17.285512924194336,
          17.775299072265625,
          17.58945655822754,
          17.01640510559082,
          18.118532180786133,
          16.979541778564453,
          15.934578895568848,
          18.625934600830078,
          17.389188766479492,
          16.879518508911133,
          17.543317794799805,
          15.91964054107666,
          19.083066940307617,
          17.658061981201172,
          17.12055015563965,
          18.225391387939453,
          17.916532516479492,
          16.34062957763672,
          16.753110885620117,
          17.05366325378418,
          17.033123016357422,
          18.026758193969727,
          18.863571166992188,
          17.680498123168945,
          18.54446792602539,
          17.49066162109375,
          18.720956802368164,
          18.056806564331055,
          17.434593200683594,
          15.590624809265137,
          15.382880210876465,
          17.8384952545166,
          18.744495391845703,
          17.595317840576172,
          16.634990692138672,
          16.262609481811523
         ],
         "yaxis": "y"
        },
        {
         "hovertemplate": "color=0<br>symbol=1<br>x=%{x}<br>y=%{y}<extra></extra>",
         "legendgroup": "0, 1",
         "marker": {
          "color": "orange",
          "symbol": "circle"
         },
         "mode": "markers",
         "name": "0, 1",
         "orientation": "v",
         "showlegend": true,
         "type": "scatter",
         "x": [
          8.156035423278809,
          6.802535533905029,
          8.199583053588867,
          8.201661109924316,
          8.512884140014648,
          5.730662822723389,
          8.209248542785645,
          8.175185203552246,
          8.485296249389648,
          5.856423854827881,
          7.9947733879089355,
          6.86286735534668,
          6.73935604095459,
          7.878032684326172,
          5.31287145614624,
          8.193582534790039,
          7.920487880706787,
          8.164371490478516,
          7.967630386352539,
          8.00819206237793
         ],
         "xaxis": "x",
         "y": [
          13.373540878295898,
          14.542547225952148,
          13.606671333312988,
          15.16441822052002,
          13.668678283691406,
          15.033402442932129,
          15.378336906433105,
          13.992217063903809,
          13.808457374572754,
          14.658712387084961,
          14.28305435180664,
          14.214258193969727,
          14.041092872619629,
          14.331953048706055,
          14.834454536437988,
          14.90676212310791,
          13.702433586120605,
          14.007330894470215,
          15.647530555725098,
          15.577012062072754
         ],
         "yaxis": "y"
        },
        {
         "hovertemplate": "color=0<br>symbol=0<br>x=%{x}<br>y=%{y}<extra></extra>",
         "legendgroup": "0, 0",
         "marker": {
          "color": "orange",
          "symbol": "diamond"
         },
         "mode": "markers",
         "name": "0, 0",
         "orientation": "v",
         "showlegend": true,
         "type": "scatter",
         "x": [
          6.545531749725342,
          8.254013061523438,
          7.921092510223389,
          5.556363582611084,
          6.261990070343018,
          6.120275497436523,
          5.054636478424072,
          6.398360729217529,
          7.603983402252197,
          5.925926685333252,
          6.354542255401611,
          7.041571617126465,
          8.196249008178711,
          6.319836139678955,
          8.366216659545898,
          6.00865364074707,
          5.749161243438721,
          6.108817100524902,
          7.8824381828308105,
          6.3689398765563965,
          7.754303455352783
         ],
         "xaxis": "x",
         "y": [
          14.437429428100586,
          14.206273078918457,
          14.121530532836914,
          15.51980209350586,
          13.701740264892578,
          13.884434700012207,
          15.339754104614258,
          13.733234405517578,
          15.704980850219727,
          13.811903953552246,
          13.582829475402832,
          14.052188873291016,
          14.34712028503418,
          13.538235664367676,
          13.847295761108398,
          14.351387977600098,
          14.908461570739746,
          13.555256843566895,
          13.753626823425293,
          14.366793632507324,
          13.924118041992188
         ],
         "yaxis": "y"
        }
       ],
       "layout": {
        "legend": {
         "title": {
          "text": "color, symbol"
         },
         "tracegroupgap": 0
        },
        "margin": {
         "t": 60
        },
        "template": {
         "data": {
          "bar": [
           {
            "error_x": {
             "color": "#2a3f5f"
            },
            "error_y": {
             "color": "#2a3f5f"
            },
            "marker": {
             "line": {
              "color": "#E5ECF6",
              "width": 0.5
             },
             "pattern": {
              "fillmode": "overlay",
              "size": 10,
              "solidity": 0.2
             }
            },
            "type": "bar"
           }
          ],
          "barpolar": [
           {
            "marker": {
             "line": {
              "color": "#E5ECF6",
              "width": 0.5
             },
             "pattern": {
              "fillmode": "overlay",
              "size": 10,
              "solidity": 0.2
             }
            },
            "type": "barpolar"
           }
          ],
          "carpet": [
           {
            "aaxis": {
             "endlinecolor": "#2a3f5f",
             "gridcolor": "white",
             "linecolor": "white",
             "minorgridcolor": "white",
             "startlinecolor": "#2a3f5f"
            },
            "baxis": {
             "endlinecolor": "#2a3f5f",
             "gridcolor": "white",
             "linecolor": "white",
             "minorgridcolor": "white",
             "startlinecolor": "#2a3f5f"
            },
            "type": "carpet"
           }
          ],
          "choropleth": [
           {
            "colorbar": {
             "outlinewidth": 0,
             "ticks": ""
            },
            "type": "choropleth"
           }
          ],
          "contour": [
           {
            "colorbar": {
             "outlinewidth": 0,
             "ticks": ""
            },
            "colorscale": [
             [
              0,
              "#0d0887"
             ],
             [
              0.1111111111111111,
              "#46039f"
             ],
             [
              0.2222222222222222,
              "#7201a8"
             ],
             [
              0.3333333333333333,
              "#9c179e"
             ],
             [
              0.4444444444444444,
              "#bd3786"
             ],
             [
              0.5555555555555556,
              "#d8576b"
             ],
             [
              0.6666666666666666,
              "#ed7953"
             ],
             [
              0.7777777777777778,
              "#fb9f3a"
             ],
             [
              0.8888888888888888,
              "#fdca26"
             ],
             [
              1,
              "#f0f921"
             ]
            ],
            "type": "contour"
           }
          ],
          "contourcarpet": [
           {
            "colorbar": {
             "outlinewidth": 0,
             "ticks": ""
            },
            "type": "contourcarpet"
           }
          ],
          "heatmap": [
           {
            "colorbar": {
             "outlinewidth": 0,
             "ticks": ""
            },
            "colorscale": [
             [
              0,
              "#0d0887"
             ],
             [
              0.1111111111111111,
              "#46039f"
             ],
             [
              0.2222222222222222,
              "#7201a8"
             ],
             [
              0.3333333333333333,
              "#9c179e"
             ],
             [
              0.4444444444444444,
              "#bd3786"
             ],
             [
              0.5555555555555556,
              "#d8576b"
             ],
             [
              0.6666666666666666,
              "#ed7953"
             ],
             [
              0.7777777777777778,
              "#fb9f3a"
             ],
             [
              0.8888888888888888,
              "#fdca26"
             ],
             [
              1,
              "#f0f921"
             ]
            ],
            "type": "heatmap"
           }
          ],
          "heatmapgl": [
           {
            "colorbar": {
             "outlinewidth": 0,
             "ticks": ""
            },
            "colorscale": [
             [
              0,
              "#0d0887"
             ],
             [
              0.1111111111111111,
              "#46039f"
             ],
             [
              0.2222222222222222,
              "#7201a8"
             ],
             [
              0.3333333333333333,
              "#9c179e"
             ],
             [
              0.4444444444444444,
              "#bd3786"
             ],
             [
              0.5555555555555556,
              "#d8576b"
             ],
             [
              0.6666666666666666,
              "#ed7953"
             ],
             [
              0.7777777777777778,
              "#fb9f3a"
             ],
             [
              0.8888888888888888,
              "#fdca26"
             ],
             [
              1,
              "#f0f921"
             ]
            ],
            "type": "heatmapgl"
           }
          ],
          "histogram": [
           {
            "marker": {
             "pattern": {
              "fillmode": "overlay",
              "size": 10,
              "solidity": 0.2
             }
            },
            "type": "histogram"
           }
          ],
          "histogram2d": [
           {
            "colorbar": {
             "outlinewidth": 0,
             "ticks": ""
            },
            "colorscale": [
             [
              0,
              "#0d0887"
             ],
             [
              0.1111111111111111,
              "#46039f"
             ],
             [
              0.2222222222222222,
              "#7201a8"
             ],
             [
              0.3333333333333333,
              "#9c179e"
             ],
             [
              0.4444444444444444,
              "#bd3786"
             ],
             [
              0.5555555555555556,
              "#d8576b"
             ],
             [
              0.6666666666666666,
              "#ed7953"
             ],
             [
              0.7777777777777778,
              "#fb9f3a"
             ],
             [
              0.8888888888888888,
              "#fdca26"
             ],
             [
              1,
              "#f0f921"
             ]
            ],
            "type": "histogram2d"
           }
          ],
          "histogram2dcontour": [
           {
            "colorbar": {
             "outlinewidth": 0,
             "ticks": ""
            },
            "colorscale": [
             [
              0,
              "#0d0887"
             ],
             [
              0.1111111111111111,
              "#46039f"
             ],
             [
              0.2222222222222222,
              "#7201a8"
             ],
             [
              0.3333333333333333,
              "#9c179e"
             ],
             [
              0.4444444444444444,
              "#bd3786"
             ],
             [
              0.5555555555555556,
              "#d8576b"
             ],
             [
              0.6666666666666666,
              "#ed7953"
             ],
             [
              0.7777777777777778,
              "#fb9f3a"
             ],
             [
              0.8888888888888888,
              "#fdca26"
             ],
             [
              1,
              "#f0f921"
             ]
            ],
            "type": "histogram2dcontour"
           }
          ],
          "mesh3d": [
           {
            "colorbar": {
             "outlinewidth": 0,
             "ticks": ""
            },
            "type": "mesh3d"
           }
          ],
          "parcoords": [
           {
            "line": {
             "colorbar": {
              "outlinewidth": 0,
              "ticks": ""
             }
            },
            "type": "parcoords"
           }
          ],
          "pie": [
           {
            "automargin": true,
            "type": "pie"
           }
          ],
          "scatter": [
           {
            "fillpattern": {
             "fillmode": "overlay",
             "size": 10,
             "solidity": 0.2
            },
            "type": "scatter"
           }
          ],
          "scatter3d": [
           {
            "line": {
             "colorbar": {
              "outlinewidth": 0,
              "ticks": ""
             }
            },
            "marker": {
             "colorbar": {
              "outlinewidth": 0,
              "ticks": ""
             }
            },
            "type": "scatter3d"
           }
          ],
          "scattercarpet": [
           {
            "marker": {
             "colorbar": {
              "outlinewidth": 0,
              "ticks": ""
             }
            },
            "type": "scattercarpet"
           }
          ],
          "scattergeo": [
           {
            "marker": {
             "colorbar": {
              "outlinewidth": 0,
              "ticks": ""
             }
            },
            "type": "scattergeo"
           }
          ],
          "scattergl": [
           {
            "marker": {
             "colorbar": {
              "outlinewidth": 0,
              "ticks": ""
             }
            },
            "type": "scattergl"
           }
          ],
          "scattermapbox": [
           {
            "marker": {
             "colorbar": {
              "outlinewidth": 0,
              "ticks": ""
             }
            },
            "type": "scattermapbox"
           }
          ],
          "scatterpolar": [
           {
            "marker": {
             "colorbar": {
              "outlinewidth": 0,
              "ticks": ""
             }
            },
            "type": "scatterpolar"
           }
          ],
          "scatterpolargl": [
           {
            "marker": {
             "colorbar": {
              "outlinewidth": 0,
              "ticks": ""
             }
            },
            "type": "scatterpolargl"
           }
          ],
          "scatterternary": [
           {
            "marker": {
             "colorbar": {
              "outlinewidth": 0,
              "ticks": ""
             }
            },
            "type": "scatterternary"
           }
          ],
          "surface": [
           {
            "colorbar": {
             "outlinewidth": 0,
             "ticks": ""
            },
            "colorscale": [
             [
              0,
              "#0d0887"
             ],
             [
              0.1111111111111111,
              "#46039f"
             ],
             [
              0.2222222222222222,
              "#7201a8"
             ],
             [
              0.3333333333333333,
              "#9c179e"
             ],
             [
              0.4444444444444444,
              "#bd3786"
             ],
             [
              0.5555555555555556,
              "#d8576b"
             ],
             [
              0.6666666666666666,
              "#ed7953"
             ],
             [
              0.7777777777777778,
              "#fb9f3a"
             ],
             [
              0.8888888888888888,
              "#fdca26"
             ],
             [
              1,
              "#f0f921"
             ]
            ],
            "type": "surface"
           }
          ],
          "table": [
           {
            "cells": {
             "fill": {
              "color": "#EBF0F8"
             },
             "line": {
              "color": "white"
             }
            },
            "header": {
             "fill": {
              "color": "#C8D4E3"
             },
             "line": {
              "color": "white"
             }
            },
            "type": "table"
           }
          ]
         },
         "layout": {
          "annotationdefaults": {
           "arrowcolor": "#2a3f5f",
           "arrowhead": 0,
           "arrowwidth": 1
          },
          "autotypenumbers": "strict",
          "coloraxis": {
           "colorbar": {
            "outlinewidth": 0,
            "ticks": ""
           }
          },
          "colorscale": {
           "diverging": [
            [
             0,
             "#8e0152"
            ],
            [
             0.1,
             "#c51b7d"
            ],
            [
             0.2,
             "#de77ae"
            ],
            [
             0.3,
             "#f1b6da"
            ],
            [
             0.4,
             "#fde0ef"
            ],
            [
             0.5,
             "#f7f7f7"
            ],
            [
             0.6,
             "#e6f5d0"
            ],
            [
             0.7,
             "#b8e186"
            ],
            [
             0.8,
             "#7fbc41"
            ],
            [
             0.9,
             "#4d9221"
            ],
            [
             1,
             "#276419"
            ]
           ],
           "sequential": [
            [
             0,
             "#0d0887"
            ],
            [
             0.1111111111111111,
             "#46039f"
            ],
            [
             0.2222222222222222,
             "#7201a8"
            ],
            [
             0.3333333333333333,
             "#9c179e"
            ],
            [
             0.4444444444444444,
             "#bd3786"
            ],
            [
             0.5555555555555556,
             "#d8576b"
            ],
            [
             0.6666666666666666,
             "#ed7953"
            ],
            [
             0.7777777777777778,
             "#fb9f3a"
            ],
            [
             0.8888888888888888,
             "#fdca26"
            ],
            [
             1,
             "#f0f921"
            ]
           ],
           "sequentialminus": [
            [
             0,
             "#0d0887"
            ],
            [
             0.1111111111111111,
             "#46039f"
            ],
            [
             0.2222222222222222,
             "#7201a8"
            ],
            [
             0.3333333333333333,
             "#9c179e"
            ],
            [
             0.4444444444444444,
             "#bd3786"
            ],
            [
             0.5555555555555556,
             "#d8576b"
            ],
            [
             0.6666666666666666,
             "#ed7953"
            ],
            [
             0.7777777777777778,
             "#fb9f3a"
            ],
            [
             0.8888888888888888,
             "#fdca26"
            ],
            [
             1,
             "#f0f921"
            ]
           ]
          },
          "colorway": [
           "#636efa",
           "#EF553B",
           "#00cc96",
           "#ab63fa",
           "#FFA15A",
           "#19d3f3",
           "#FF6692",
           "#B6E880",
           "#FF97FF",
           "#FECB52"
          ],
          "font": {
           "color": "#2a3f5f"
          },
          "geo": {
           "bgcolor": "white",
           "lakecolor": "white",
           "landcolor": "#E5ECF6",
           "showlakes": true,
           "showland": true,
           "subunitcolor": "white"
          },
          "hoverlabel": {
           "align": "left"
          },
          "hovermode": "closest",
          "mapbox": {
           "style": "light"
          },
          "paper_bgcolor": "white",
          "plot_bgcolor": "#E5ECF6",
          "polar": {
           "angularaxis": {
            "gridcolor": "white",
            "linecolor": "white",
            "ticks": ""
           },
           "bgcolor": "#E5ECF6",
           "radialaxis": {
            "gridcolor": "white",
            "linecolor": "white",
            "ticks": ""
           }
          },
          "scene": {
           "xaxis": {
            "backgroundcolor": "#E5ECF6",
            "gridcolor": "white",
            "gridwidth": 2,
            "linecolor": "white",
            "showbackground": true,
            "ticks": "",
            "zerolinecolor": "white"
           },
           "yaxis": {
            "backgroundcolor": "#E5ECF6",
            "gridcolor": "white",
            "gridwidth": 2,
            "linecolor": "white",
            "showbackground": true,
            "ticks": "",
            "zerolinecolor": "white"
           },
           "zaxis": {
            "backgroundcolor": "#E5ECF6",
            "gridcolor": "white",
            "gridwidth": 2,
            "linecolor": "white",
            "showbackground": true,
            "ticks": "",
            "zerolinecolor": "white"
           }
          },
          "shapedefaults": {
           "line": {
            "color": "#2a3f5f"
           }
          },
          "ternary": {
           "aaxis": {
            "gridcolor": "white",
            "linecolor": "white",
            "ticks": ""
           },
           "baxis": {
            "gridcolor": "white",
            "linecolor": "white",
            "ticks": ""
           },
           "bgcolor": "#E5ECF6",
           "caxis": {
            "gridcolor": "white",
            "linecolor": "white",
            "ticks": ""
           }
          },
          "title": {
           "x": 0.05
          },
          "xaxis": {
           "automargin": true,
           "gridcolor": "white",
           "linecolor": "white",
           "ticks": "",
           "title": {
            "standoff": 15
           },
           "zerolinecolor": "white",
           "zerolinewidth": 2
          },
          "yaxis": {
           "automargin": true,
           "gridcolor": "white",
           "linecolor": "white",
           "ticks": "",
           "title": {
            "standoff": 15
           },
           "zerolinecolor": "white",
           "zerolinewidth": 2
          }
         }
        },
        "xaxis": {
         "anchor": "y",
         "domain": [
          0,
          1
         ],
         "title": {
          "text": "umap 1"
         }
        },
        "yaxis": {
         "anchor": "x",
         "domain": [
          0,
          1
         ],
         "title": {
          "text": "umap 2"
         }
        }
       }
      }
     },
     "metadata": {},
     "output_type": "display_data"
    }
   ],
   "source": [
    "# dimensionality reduction and visualization using UMAP\n",
    "\n",
    "um = umap.UMAP()\n",
    "embedded_data_2d = um.fit_transform(embedded_data['embedding'].tolist())\n",
    "\n",
    "color_map = {\n",
    "    '0' : 'orange',\n",
    "    '1' : 'blue'\n",
    "}\n",
    "\n",
    "fig = px.scatter(x = embedded_data_2d[:, 0], y = embedded_data_2d[:, 1], color = model.labels_.astype(str), color_discrete_map = color_map, symbol = labels['Response'])\n",
    "fig.update_layout(xaxis_title = 'umap 1', yaxis_title = 'umap 2')\n",
    "\n",
    "fig.show()"
   ]
  },
  {
   "cell_type": "code",
   "execution_count": 119,
   "metadata": {},
   "outputs": [
    {
     "name": "stdout",
     "output_type": "stream",
     "text": [
      "Training accuracy before hyperparameter optimization: 0.5185185185185185\n",
      "Test set accuracy before hyperparameter optimization: 0.42857142857142855\n"
     ]
    }
   ],
   "source": [
    "# Train a logistic regression model using the embeddings before optimizing hyperparameters\n",
    "X_train, X_test, y_train, y_test = train_test_split(embedded_data_2d, labels['Response'], test_size = 0.3, random_state=1234)\n",
    "logreg = LogisticRegression()\n",
    "logreg.fit(X_train, y_train)\n",
    "y_pred = logreg.predict(X_train)\n",
    "training_accuracy = accuracy_score(y_pred, y_train)\n",
    "y_pred = logreg.predict(X_test)\n",
    "test_accuracy = accuracy_score(y_pred, y_test)\n",
    "print(\"Training accuracy before hyperparameter optimization:\", training_accuracy)\n",
    "print(\"Test set accuracy before hyperparameter optimization:\", test_accuracy)"
   ]
  },
  {
   "cell_type": "code",
   "execution_count": 120,
   "metadata": {},
   "outputs": [
    {
     "name": "stdout",
     "output_type": "stream",
     "text": [
      "Best hyperparameters: {'C': 0.1, 'max_iter': 1000, 'solver': 'liblinear'}\n"
     ]
    },
    {
     "name": "stderr",
     "output_type": "stream",
     "text": [
      "/Users/sophiesun/opt/anaconda3/lib/python3.8/site-packages/sklearn/linear_model/_sag.py:350: ConvergenceWarning:\n",
      "\n",
      "The max_iter was reached which means the coef_ did not converge\n",
      "\n",
      "/Users/sophiesun/opt/anaconda3/lib/python3.8/site-packages/sklearn/linear_model/_sag.py:350: ConvergenceWarning:\n",
      "\n",
      "The max_iter was reached which means the coef_ did not converge\n",
      "\n",
      "/Users/sophiesun/opt/anaconda3/lib/python3.8/site-packages/sklearn/linear_model/_sag.py:350: ConvergenceWarning:\n",
      "\n",
      "The max_iter was reached which means the coef_ did not converge\n",
      "\n",
      "/Users/sophiesun/opt/anaconda3/lib/python3.8/site-packages/sklearn/linear_model/_sag.py:350: ConvergenceWarning:\n",
      "\n",
      "The max_iter was reached which means the coef_ did not converge\n",
      "\n",
      "/Users/sophiesun/opt/anaconda3/lib/python3.8/site-packages/sklearn/linear_model/_sag.py:350: ConvergenceWarning:\n",
      "\n",
      "The max_iter was reached which means the coef_ did not converge\n",
      "\n",
      "/Users/sophiesun/opt/anaconda3/lib/python3.8/site-packages/sklearn/linear_model/_sag.py:350: ConvergenceWarning:\n",
      "\n",
      "The max_iter was reached which means the coef_ did not converge\n",
      "\n",
      "/Users/sophiesun/opt/anaconda3/lib/python3.8/site-packages/sklearn/linear_model/_sag.py:350: ConvergenceWarning:\n",
      "\n",
      "The max_iter was reached which means the coef_ did not converge\n",
      "\n",
      "/Users/sophiesun/opt/anaconda3/lib/python3.8/site-packages/sklearn/linear_model/_sag.py:350: ConvergenceWarning:\n",
      "\n",
      "The max_iter was reached which means the coef_ did not converge\n",
      "\n",
      "/Users/sophiesun/opt/anaconda3/lib/python3.8/site-packages/sklearn/linear_model/_sag.py:350: ConvergenceWarning:\n",
      "\n",
      "The max_iter was reached which means the coef_ did not converge\n",
      "\n",
      "/Users/sophiesun/opt/anaconda3/lib/python3.8/site-packages/sklearn/linear_model/_sag.py:350: ConvergenceWarning:\n",
      "\n",
      "The max_iter was reached which means the coef_ did not converge\n",
      "\n",
      "/Users/sophiesun/opt/anaconda3/lib/python3.8/site-packages/sklearn/linear_model/_sag.py:350: ConvergenceWarning:\n",
      "\n",
      "The max_iter was reached which means the coef_ did not converge\n",
      "\n",
      "/Users/sophiesun/opt/anaconda3/lib/python3.8/site-packages/sklearn/linear_model/_sag.py:350: ConvergenceWarning:\n",
      "\n",
      "The max_iter was reached which means the coef_ did not converge\n",
      "\n",
      "/Users/sophiesun/opt/anaconda3/lib/python3.8/site-packages/sklearn/linear_model/_sag.py:350: ConvergenceWarning:\n",
      "\n",
      "The max_iter was reached which means the coef_ did not converge\n",
      "\n"
     ]
    }
   ],
   "source": [
    "# find the best hyperparameters for an L1 regularized LogReg model\n",
    "hyperparameters = {\n",
    "    'C': [0.1, 1, 10, 100, 1000],\n",
    "    'solver': ['liblinear', 'saga'],\n",
    "    'max_iter': [1000]\n",
    "}\n",
    "\n",
    "grid_search = GridSearchCV(LogisticRegression(penalty=\"l1\"), hyperparameters,  cv=5, scoring='accuracy')\n",
    "grid_search.fit(X_train, y_train)\n",
    "\n",
    "best_params = grid_search.best_params_\n",
    "best_model = grid_search.best_estimator_\n",
    "\n",
    "print(\"Best hyperparameters:\", best_params)"
   ]
  },
  {
   "cell_type": "code",
   "execution_count": 121,
   "metadata": {},
   "outputs": [
    {
     "name": "stdout",
     "output_type": "stream",
     "text": [
      "Training accuracy after hyperparameter optimization: 0.5185185185185185\n",
      "Test set accuracy after hyperparameter optimization: 0.45714285714285713\n"
     ]
    }
   ],
   "source": [
    "# Train a logistic regression model using the top 2 PCAs after optimizing hyperparameters\n",
    "y_pred = best_model.predict(X_train)\n",
    "training_accuracy = accuracy_score(y_pred, y_train)\n",
    "y_pred = best_model.predict(X_test)\n",
    "test_accuracy = accuracy_score(y_pred, y_test)\n",
    "\n",
    "print(\"Training accuracy after hyperparameter optimization:\", training_accuracy)\n",
    "print(\"Test set accuracy after hyperparameter optimization:\", test_accuracy)"
   ]
  },
  {
   "cell_type": "code",
   "execution_count": 116,
   "metadata": {},
   "outputs": [],
   "source": [
    "# export cluster assignments\n",
    "\n",
    "clusters_embedding = pd.concat([labels, pd.DataFrame(model.labels_, columns = ['cluster'])], axis = 1)\n",
    "\n",
    "clusters_embedding.to_csv('../data/clusters_embedding.csv', index = False)\n",
    "\n",
    "# export data for L1 log reg\n",
    "embedded_data['embedding'].to_csv('../data/embedded_data.csv', index = False)"
   ]
  }
 ],
 "metadata": {
  "kernelspec": {
   "display_name": "base",
   "language": "python",
   "name": "python3"
  },
  "language_info": {
   "codemirror_mode": {
    "name": "ipython",
    "version": 3
   },
   "file_extension": ".py",
   "mimetype": "text/x-python",
   "name": "python",
   "nbconvert_exporter": "python",
   "pygments_lexer": "ipython3",
   "version": "3.8.5"
  }
 },
 "nbformat": 4,
 "nbformat_minor": 2
}
