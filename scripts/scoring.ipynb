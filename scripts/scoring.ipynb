{
 "cells": [
  {
   "cell_type": "code",
   "execution_count": 54,
   "metadata": {},
   "outputs": [],
   "source": [
    "import numpy as np\n",
    "import pandas as pd\n",
    "from sklearn import metrics\n",
    "from sklearn.preprocessing import OneHotEncoder\n",
    "import matplotlib.pyplot as plt\n",
    "import seaborn as sns"
   ]
  },
  {
   "cell_type": "code",
   "execution_count": null,
   "metadata": {},
   "outputs": [],
   "source": [
    "'''\n",
    "Calculates and compares various model performance metrics\n",
    "'''"
   ]
  },
  {
   "cell_type": "code",
   "execution_count": 55,
   "metadata": {},
   "outputs": [],
   "source": [
    "# load data\n",
    "\n",
    "# cluster assignments from method + L1 logistic regression\n",
    "\n",
    "# pca\n",
    "pca = pd.read_csv('../data/clusters_pca.csv')\n",
    "pca = pca['cluster']\n",
    "\n",
    "# scFoundation\n",
    "scf = pd.read_csv('../data/clusters_embedding.csv')\n",
    "scf = scf['cluster']\n",
    "\n",
    "# AI embeddings\n",
    "embed = pd.read_csv('../data/clusters_embedding.csv')\n",
    "embed = embed['cluster']\n",
    "\n",
    "# true labels\n",
    "labels = pd.read_csv('../data/GSE910_SMOTE_labels_top100.csv')\n",
    "bin_labels = labels['Response']"
   ]
  },
  {
   "cell_type": "code",
   "execution_count": 56,
   "metadata": {},
   "outputs": [],
   "source": [
    "# calculate scores\n",
    "\n",
    "def score_method(m):\n",
    "    accuracy = metrics.accuracy_score(bin_labels, m)\n",
    "    f1 = metrics.f1_score(bin_labels, m)\n",
    "    recall = metrics.recall_score(bin_labels, m)\n",
    "    precision = metrics.precision_score(bin_labels, m)\n",
    "\n",
    "    accuracies.append(accuracy)\n",
    "    f1s.append(f1)\n",
    "    recalls.append(recall)\n",
    "    precisions.append(precision)\n",
    "\n",
    "    return(accuracies, f1s, recalls, precisions)"
   ]
  },
  {
   "cell_type": "code",
   "execution_count": 57,
   "metadata": {},
   "outputs": [
    {
     "data": {
      "text/html": [
       "<div>\n",
       "<style scoped>\n",
       "    .dataframe tbody tr th:only-of-type {\n",
       "        vertical-align: middle;\n",
       "    }\n",
       "\n",
       "    .dataframe tbody tr th {\n",
       "        vertical-align: top;\n",
       "    }\n",
       "\n",
       "    .dataframe thead th {\n",
       "        text-align: right;\n",
       "    }\n",
       "</style>\n",
       "<table border=\"1\" class=\"dataframe\">\n",
       "  <thead>\n",
       "    <tr style=\"text-align: right;\">\n",
       "      <th></th>\n",
       "      <th>method</th>\n",
       "      <th>accuracy</th>\n",
       "      <th>f1</th>\n",
       "      <th>recall</th>\n",
       "      <th>precision</th>\n",
       "    </tr>\n",
       "  </thead>\n",
       "  <tbody>\n",
       "    <tr>\n",
       "      <th>0</th>\n",
       "      <td>pca</td>\n",
       "      <td>0.672414</td>\n",
       "      <td>0.736111</td>\n",
       "      <td>0.913793</td>\n",
       "      <td>0.616279</td>\n",
       "    </tr>\n",
       "    <tr>\n",
       "      <th>1</th>\n",
       "      <td>scFoundation</td>\n",
       "      <td>0.500000</td>\n",
       "      <td>0.452830</td>\n",
       "      <td>0.413793</td>\n",
       "      <td>0.500000</td>\n",
       "    </tr>\n",
       "    <tr>\n",
       "      <th>2</th>\n",
       "      <td>AI embedding</td>\n",
       "      <td>0.500000</td>\n",
       "      <td>0.452830</td>\n",
       "      <td>0.413793</td>\n",
       "      <td>0.500000</td>\n",
       "    </tr>\n",
       "  </tbody>\n",
       "</table>\n",
       "</div>"
      ],
      "text/plain": [
       "         method  accuracy        f1    recall  precision\n",
       "0           pca  0.672414  0.736111  0.913793   0.616279\n",
       "1  scFoundation  0.500000  0.452830  0.413793   0.500000\n",
       "2  AI embedding  0.500000  0.452830  0.413793   0.500000"
      ]
     },
     "execution_count": 57,
     "metadata": {},
     "output_type": "execute_result"
    }
   ],
   "source": [
    "# initiate variables\n",
    "\n",
    "methods = [pca, scf, embed]\n",
    "accuracies = []\n",
    "f1s = []\n",
    "recalls = []\n",
    "precisions = []\n",
    "\n",
    "for m in methods:\n",
    "    score_method(m)\n",
    "\n",
    "res = pd.DataFrame({'method' : ['pca', 'scFoundation', 'AI embedding'],\n",
    "                    'accuracy': accuracies,\n",
    "                    'f1': f1s,\n",
    "                    'recall': recalls,\n",
    "                    'precision': precisions})\n",
    "res"
   ]
  },
  {
   "cell_type": "code",
   "execution_count": 58,
   "metadata": {},
   "outputs": [
    {
     "name": "stdout",
     "output_type": "stream",
     "text": [
      "metric        accuracy        f1  precision    recall\n",
      "method                                               \n",
      "AI embedding  0.500000  0.452830   0.500000  0.413793\n",
      "pca           0.672414  0.736111   0.616279  0.913793\n",
      "scFoundation  0.500000  0.452830   0.500000  0.413793\n"
     ]
    },
    {
     "data": {
      "image/png": "[encoded data removed]",
      "text/plain": [
       "<Figure size 432x288 with 2 Axes>"
      ]
     },
     "metadata": {
      "needs_background": "light"
     },
     "output_type": "display_data"
    }
   ],
   "source": [
    "# plotting results\n",
    "\n",
    "# format plot data\n",
    "    \n",
    "pl_data = pd.melt(res, id_vars = 'method', value_vars = ['accuracy', 'f1', 'recall', 'precision'], var_name = 'metric', value_name = 'score').pivot(index=\"method\", columns=\"metric\", values=\"score\")\n",
    "print(pl_data)\n",
    "\n",
    "ax = sns.heatmap(pl_data, annot = True)\n",
    "ax.set(xlabel = 'score', ylabel = 'method')\n",
    "\n",
    "# export plot\n",
    "\n",
    "plt.savefig('../figures/scores.png')\n"
   ]
  }
 ],
 "metadata": {
  "kernelspec": {
   "display_name": "base",
   "language": "python",
   "name": "python3"
  },
  "language_info": {
   "codemirror_mode": {
    "name": "ipython",
    "version": 3
   },
   "file_extension": ".py",
   "mimetype": "text/x-python",
   "name": "python",
   "nbconvert_exporter": "python",
   "pygments_lexer": "ipython3",
   "version": "3.8.5"
  }
 },
 "nbformat": 4,
 "nbformat_minor": 2
}
