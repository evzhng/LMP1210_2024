{
 "cells": [
  {
   "cell_type": "code",
   "execution_count": 99,
   "metadata": {},
   "outputs": [],
   "source": [
    "import numpy as np\n",
    "import pandas as pd\n",
    "from sklearn import metrics\n",
    "from sklearn.preprocessing import OneHotEncoder\n",
    "import matplotlib.pyplot as plt\n",
    "import seaborn as sns"
   ]
  },
  {
   "cell_type": "code",
   "execution_count": 100,
   "metadata": {},
   "outputs": [
    {
     "data": {
      "text/plain": [
       "'\\nCalculates and compares various model performance metrics\\n'"
      ]
     },
     "execution_count": 100,
     "metadata": {},
     "output_type": "execute_result"
    }
   ],
   "source": [
    "'''\n",
    "Calculates and compares various model performance metrics\n",
    "'''"
   ]
  },
  {
   "cell_type": "code",
   "execution_count": 101,
   "metadata": {},
   "outputs": [],
   "source": [
    "# load data\n",
    "\n",
    "# cluster assignments from method + L1 logistic regression\n",
    "\n",
    "# pca\n",
    "pca = pd.read_csv('../data/clusters_pca.csv')\n",
    "\n",
    "# scFoundation\n",
    "scgpt = pd.read_csv('../data/clusters_scgpt.csv')\n",
    "scgpt['y_pred'] = scgpt['y_pred'].replace({'N':0, 'R':1})\n",
    "scgpt['y_test'] = scgpt['y_test'].replace({'N':0, 'R':1})\n",
    "\n",
    "\n",
    "# AI embeddings\n",
    "embed = pd.read_csv('../data/clusters_embedding.csv')\n"
   ]
  },
  {
   "cell_type": "code",
   "execution_count": 102,
   "metadata": {},
   "outputs": [],
   "source": [
    "# calculate scores\n",
    "\n",
    "def score_method(m):\n",
    "    accuracy = metrics.accuracy_score(m['y_pred'], m['y_test'])\n",
    "    f1 = metrics.f1_score(m['y_pred'], m['y_test'])\n",
    "    recall = metrics.recall_score(m['y_pred'], m['y_test'])\n",
    "    precision = metrics.precision_score(m['y_pred'], m['y_test'])\n",
    "\n",
    "    accuracies.append(accuracy)\n",
    "    f1s.append(f1)\n",
    "    recalls.append(recall)\n",
    "    precisions.append(precision)\n",
    "\n",
    "    return(accuracies, f1s, recalls, precisions)"
   ]
  },
  {
   "cell_type": "code",
   "execution_count": 103,
   "metadata": {},
   "outputs": [
    {
     "data": {
      "text/html": [
       "<div>\n",
       "<style scoped>\n",
       "    .dataframe tbody tr th:only-of-type {\n",
       "        vertical-align: middle;\n",
       "    }\n",
       "\n",
       "    .dataframe tbody tr th {\n",
       "        vertical-align: top;\n",
       "    }\n",
       "\n",
       "    .dataframe thead th {\n",
       "        text-align: right;\n",
       "    }\n",
       "</style>\n",
       "<table border=\"1\" class=\"dataframe\">\n",
       "  <thead>\n",
       "    <tr style=\"text-align: right;\">\n",
       "      <th></th>\n",
       "      <th>Method</th>\n",
       "      <th>Accuracy</th>\n",
       "      <th>F1</th>\n",
       "      <th>Recall</th>\n",
       "      <th>Precision</th>\n",
       "    </tr>\n",
       "  </thead>\n",
       "  <tbody>\n",
       "    <tr>\n",
       "      <th>0</th>\n",
       "      <td>PCA</td>\n",
       "      <td>0.742857</td>\n",
       "      <td>0.800000</td>\n",
       "      <td>0.666667</td>\n",
       "      <td>1.000000</td>\n",
       "    </tr>\n",
       "    <tr>\n",
       "      <th>1</th>\n",
       "      <td>scGPT</td>\n",
       "      <td>0.771429</td>\n",
       "      <td>0.777778</td>\n",
       "      <td>0.700000</td>\n",
       "      <td>0.875000</td>\n",
       "    </tr>\n",
       "    <tr>\n",
       "      <th>2</th>\n",
       "      <td>AI embedding</td>\n",
       "      <td>0.485714</td>\n",
       "      <td>0.500000</td>\n",
       "      <td>0.529412</td>\n",
       "      <td>0.473684</td>\n",
       "    </tr>\n",
       "  </tbody>\n",
       "</table>\n",
       "</div>"
      ],
      "text/plain": [
       "         Method  Accuracy        F1    Recall  Precision\n",
       "0           PCA  0.742857  0.800000  0.666667   1.000000\n",
       "1         scGPT  0.771429  0.777778  0.700000   0.875000\n",
       "2  AI embedding  0.485714  0.500000  0.529412   0.473684"
      ]
     },
     "execution_count": 103,
     "metadata": {},
     "output_type": "execute_result"
    }
   ],
   "source": [
    "# initiate variables\n",
    "\n",
    "methods = [pca, scf, embed]\n",
    "accuracies = []\n",
    "f1s = []\n",
    "recalls = []\n",
    "precisions = []\n",
    "\n",
    "for m in methods:\n",
    "    score_method(m)\n",
    "\n",
    "res = pd.DataFrame({'Method' : ['PCA', 'scGPT', 'AI embedding'],\n",
    "                    'Accuracy': accuracies,\n",
    "                    'F1': f1s,\n",
    "                    'Recall': recalls,\n",
    "                    'Precision': precisions})\n",
    "res"
   ]
  },
  {
   "cell_type": "code",
   "execution_count": 104,
   "metadata": {},
   "outputs": [
    {
     "name": "stdout",
     "output_type": "stream",
     "text": [
      "Metric        Accuracy        F1  Precision    Recall\n",
      "Method                                               \n",
      "AI embedding  0.485714  0.500000   0.473684  0.529412\n",
      "PCA           0.742857  0.800000   1.000000  0.666667\n",
      "scGPT         0.771429  0.777778   0.875000  0.700000\n"
     ]
    },
    {
     "data": {
      "image/png": "[encoded data removed]",
      "text/plain": [
       "<Figure size 432x288 with 2 Axes>"
      ]
     },
     "metadata": {
      "needs_background": "light"
     },
     "output_type": "display_data"
    }
   ],
   "source": [
    "# plotting results\n",
    "\n",
    "# format plot data\n",
    "    \n",
    "pl_data = pd.melt(res, id_vars = 'Method', value_vars = ['Accuracy', 'F1', 'Recall', 'Precision'], var_name = 'Metric', value_name = 'Score').pivot(index=\"Method\", columns=\"Metric\", values=\"Score\")\n",
    "print(pl_data)\n",
    "\n",
    "ax = sns.heatmap(pl_data, annot = True)\n",
    "ax.set(xlabel = 'Score', ylabel = 'Method')\n",
    "ax.set_yticklabels(ax.get_yticklabels(), va=\"center\")\n",
    "\n",
    "# export plot\n",
    "\n",
    "plt.savefig('../figures/scores.png')\n"
   ]
  }
 ],
 "metadata": {
  "kernelspec": {
   "display_name": "base",
   "language": "python",
   "name": "python3"
  },
  "language_info": {
   "codemirror_mode": {
    "name": "ipython",
    "version": 3
   },
   "file_extension": ".py",
   "mimetype": "text/x-python",
   "name": "python",
   "nbconvert_exporter": "python",
   "pygments_lexer": "ipython3",
   "version": "3.8.5"
  }
 },
 "nbformat": 4,
 "nbformat_minor": 2
}
