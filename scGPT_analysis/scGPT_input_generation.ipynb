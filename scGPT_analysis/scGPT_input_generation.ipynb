{
 "cells": [
  {
   "cell_type": "code",
   "execution_count": 2,
   "metadata": {},
   "outputs": [],
   "source": [
    "import pandas as pd \n",
    "import scanpy as sc "
   ]
  },
  {
   "cell_type": "code",
   "execution_count": 66,
   "metadata": {},
   "outputs": [
    {
     "name": "stdout",
     "output_type": "stream",
     "text": [
      "      RN7SL2        FTL     MT-CO3     MT-CO2   MT-ATP8    MT-ATP6     MT-CO1  \\\n",
      "0  15.038124  10.267509   6.096489   6.029887  4.996209   4.828822   7.590253   \n",
      "1  15.313833   9.622666   9.860376   9.738486  9.475843   9.217649  10.936979   \n",
      "2  16.739384   9.744946  10.067124  10.726867  8.760113   8.636872  11.444593   \n",
      "3   6.150741  11.761988  11.113195  10.876473  9.272044  10.677880  11.052563   \n",
      "4   6.737094  11.851334  10.608619  10.246659  8.657706   9.951498  10.451394   \n",
      "\n",
      "        IGKC     MT-ND4   MT-RNR2  ...      CTSB     IGKJ1    SPRR2E  \\\n",
      "0   5.647115   5.412997  5.024420  ...  7.253257  0.000000  0.000000   \n",
      "1   5.360864   8.928858  7.789543  ...  7.433607  0.000000  0.185674   \n",
      "2   9.147465   8.696023  6.988178  ...  5.344500  1.691215  0.000000   \n",
      "3  10.066972  10.668391  9.690645  ...  7.083906  4.836296  0.000000   \n",
      "4  10.013964   9.771394  9.228568  ...  7.081397  2.933361  4.917178   \n",
      "\n",
      "    IGKV4-1  TFF1        HP     HLA-A   IGHV3-7  HLA-DRB1    KRTDAP  \n",
      "0  0.217787   0.0  0.474323  9.465274  0.000000  8.906496  0.000000  \n",
      "1  3.118167   0.0  0.052839  7.720830  0.000000  5.987946  0.204788  \n",
      "2  0.558147   0.0  0.066288  3.604023  0.259431  5.674888  0.000000  \n",
      "3  5.996376   0.0  0.429230  8.847922  2.360120  8.026241  0.132312  \n",
      "4  4.459239   0.0  0.128755  9.050430  4.492624  8.053082  5.337647  \n",
      "\n",
      "[5 rows x 100 columns]\n",
      "   Response\n",
      "0         1\n",
      "1         0\n",
      "2         0\n",
      "3         0\n",
      "4         0\n"
     ]
    }
   ],
   "source": [
    "df = pd.read_csv(\"../data/GSE910_SMOTE_log2_top100.csv\", index_col = 0)\n",
    "print(df.head())\n",
    "df.apply(pd.to_numeric, errors = 'coerce')\n",
    "labels = pd.read_csv(\"../data/GSE910_SMOTE_labels_top100.csv\", index_col=0)\n",
    "\n",
    "print(labels.head())"
   ]
  },
  {
   "cell_type": "code",
   "execution_count": 67,
   "metadata": {},
   "outputs": [
    {
     "data": {
      "text/html": [
       "<div>\n",
       "<style scoped>\n",
       "    .dataframe tbody tr th:only-of-type {\n",
       "        vertical-align: middle;\n",
       "    }\n",
       "\n",
       "    .dataframe tbody tr th {\n",
       "        vertical-align: top;\n",
       "    }\n",
       "\n",
       "    .dataframe thead th {\n",
       "        text-align: right;\n",
       "    }\n",
       "</style>\n",
       "<table border=\"1\" class=\"dataframe\">\n",
       "  <thead>\n",
       "    <tr style=\"text-align: right;\">\n",
       "      <th></th>\n",
       "      <th>Response</th>\n",
       "    </tr>\n",
       "  </thead>\n",
       "  <tbody>\n",
       "    <tr>\n",
       "      <th>0</th>\n",
       "      <td>R_0</td>\n",
       "    </tr>\n",
       "    <tr>\n",
       "      <th>1</th>\n",
       "      <td>N_1</td>\n",
       "    </tr>\n",
       "    <tr>\n",
       "      <th>2</th>\n",
       "      <td>N_2</td>\n",
       "    </tr>\n",
       "    <tr>\n",
       "      <th>3</th>\n",
       "      <td>N_3</td>\n",
       "    </tr>\n",
       "    <tr>\n",
       "      <th>4</th>\n",
       "      <td>N_4</td>\n",
       "    </tr>\n",
       "    <tr>\n",
       "      <th>...</th>\n",
       "      <td>...</td>\n",
       "    </tr>\n",
       "    <tr>\n",
       "      <th>111</th>\n",
       "      <td>R_111</td>\n",
       "    </tr>\n",
       "    <tr>\n",
       "      <th>112</th>\n",
       "      <td>R_112</td>\n",
       "    </tr>\n",
       "    <tr>\n",
       "      <th>113</th>\n",
       "      <td>R_113</td>\n",
       "    </tr>\n",
       "    <tr>\n",
       "      <th>114</th>\n",
       "      <td>R_114</td>\n",
       "    </tr>\n",
       "    <tr>\n",
       "      <th>115</th>\n",
       "      <td>R_115</td>\n",
       "    </tr>\n",
       "  </tbody>\n",
       "</table>\n",
       "<p>116 rows × 1 columns</p>\n",
       "</div>"
      ],
      "text/plain": [
       "    Response\n",
       "0        R_0\n",
       "1        N_1\n",
       "2        N_2\n",
       "3        N_3\n",
       "4        N_4\n",
       "..       ...\n",
       "111    R_111\n",
       "112    R_112\n",
       "113    R_113\n",
       "114    R_114\n",
       "115    R_115\n",
       "\n",
       "[116 rows x 1 columns]"
      ]
     },
     "execution_count": 67,
     "metadata": {},
     "output_type": "execute_result"
    }
   ],
   "source": [
    "label_list = []\n",
    "for row in labels.index:\n",
    "    if (labels.loc[row, :] == 0).all():\n",
    "        label_list.append(f\"N_{row}\")\n",
    "    elif (labels.loc[row, :] == 1).all():\n",
    "        label_list.append(f\"R_{row}\")\n",
    "labels[\"Response\"] = label_list\n",
    "labels"
   ]
  },
  {
   "cell_type": "code",
   "execution_count": 68,
   "metadata": {},
   "outputs": [
    {
     "name": "stderr",
     "output_type": "stream",
     "text": [
      "/Users/eveyzheng/LMP1210_2024/.conda/lib/python3.9/site-packages/anndata/_core/aligned_df.py:67: ImplicitModificationWarning: Transforming to str index.\n",
      "  warnings.warn(\"Transforming to str index.\", ImplicitModificationWarning)\n"
     ]
    },
    {
     "data": {
      "text/plain": [
       "AnnData object with n_obs × n_vars = 116 × 100\n",
       "    obs: 'Response'"
      ]
     },
     "execution_count": 68,
     "metadata": {},
     "output_type": "execute_result"
    }
   ],
   "source": [
    "adata = sc.AnnData(X=df, obs=labels )\n",
    "adata"
   ]
  },
  {
   "cell_type": "code",
   "execution_count": 69,
   "metadata": {},
   "outputs": [],
   "source": [
    "GSE910=adata.write(\"./910_2.h5ad\")"
   ]
  },
  {
   "cell_type": "code",
   "execution_count": null,
   "metadata": {},
   "outputs": [],
   "source": []
  }
 ],
 "metadata": {
  "kernelspec": {
   "display_name": "Python 3",
   "language": "python",
   "name": "python3"
  },
  "language_info": {
   "codemirror_mode": {
    "name": "ipython",
    "version": 3
   },
   "file_extension": ".py",
   "mimetype": "text/x-python",
   "name": "python",
   "nbconvert_exporter": "python",
   "pygments_lexer": "ipython3",
   "version": "3.9.15"
  }
 },
 "nbformat": 4,
 "nbformat_minor": 2
}
